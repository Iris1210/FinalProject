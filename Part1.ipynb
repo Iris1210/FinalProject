{
 "cells": [
  {
   "cell_type": "code",
   "execution_count": 127,
   "id": "04589497-08a2-4555-b4ba-752b25d476e2",
   "metadata": {
    "collapsed": true,
    "jupyter": {
     "outputs_hidden": true
    },
    "tags": []
   },
   "outputs": [
    {
     "name": "stdout",
     "output_type": "stream",
     "text": [
      "https://book.douban.com/tag/%E5%A5%B3%E6%80%A7%E4%B8%BB%E4%B9%89?start=0&type=T\n",
      "https://book.douban.com/tag/%E5%A5%B3%E6%80%A7%E4%B8%BB%E4%B9%89?start=20&type=T\n",
      "https://book.douban.com/tag/%E5%A5%B3%E6%80%A7%E4%B8%BB%E4%B9%89?start=40&type=T\n",
      "https://book.douban.com/tag/%E5%A5%B3%E6%80%A7%E4%B8%BB%E4%B9%89?start=60&type=T\n",
      "https://book.douban.com/tag/%E5%A5%B3%E6%80%A7%E4%B8%BB%E4%B9%89?start=80&type=T\n",
      "https://book.douban.com/tag/%E5%A5%B3%E6%80%A7%E4%B8%BB%E4%B9%89?start=100&type=T\n",
      "https://book.douban.com/tag/%E5%A5%B3%E6%80%A7%E4%B8%BB%E4%B9%89?start=120&type=T\n",
      "https://book.douban.com/tag/%E5%A5%B3%E6%80%A7%E4%B8%BB%E4%B9%89?start=140&type=T\n",
      "https://book.douban.com/tag/%E5%A5%B3%E6%80%A7%E4%B8%BB%E4%B9%89?start=160&type=T\n",
      "https://book.douban.com/tag/%E5%A5%B3%E6%80%A7%E4%B8%BB%E4%B9%89?start=180&type=T\n",
      "https://book.douban.com/tag/%E5%A5%B3%E6%80%A7%E4%B8%BB%E4%B9%89?start=200&type=T\n",
      "https://book.douban.com/tag/%E5%A5%B3%E6%80%A7%E4%B8%BB%E4%B9%89?start=220&type=T\n",
      "https://book.douban.com/tag/%E5%A5%B3%E6%80%A7%E4%B8%BB%E4%B9%89?start=240&type=T\n",
      "https://book.douban.com/tag/%E5%A5%B3%E6%80%A7%E4%B8%BB%E4%B9%89?start=260&type=T\n",
      "https://book.douban.com/tag/%E5%A5%B3%E6%80%A7%E4%B8%BB%E4%B9%89?start=280&type=T\n",
      "https://book.douban.com/tag/%E5%A5%B3%E6%80%A7%E4%B8%BB%E4%B9%89?start=300&type=T\n",
      "https://book.douban.com/tag/%E5%A5%B3%E6%80%A7%E4%B8%BB%E4%B9%89?start=320&type=T\n",
      "https://book.douban.com/tag/%E5%A5%B3%E6%80%A7%E4%B8%BB%E4%B9%89?start=340&type=T\n",
      "https://book.douban.com/tag/%E5%A5%B3%E6%80%A7%E4%B8%BB%E4%B9%89?start=360&type=T\n",
      "https://book.douban.com/tag/%E5%A5%B3%E6%80%A7%E4%B8%BB%E4%B9%89?start=380&type=T\n",
      "https://book.douban.com/tag/%E5%A5%B3%E6%80%A7%E4%B8%BB%E4%B9%89?start=400&type=T\n",
      "https://book.douban.com/tag/%E5%A5%B3%E6%80%A7%E4%B8%BB%E4%B9%89?start=420&type=T\n",
      "https://book.douban.com/tag/%E5%A5%B3%E6%80%A7%E4%B8%BB%E4%B9%89?start=440&type=T\n",
      "https://book.douban.com/tag/%E5%A5%B3%E6%80%A7%E4%B8%BB%E4%B9%89?start=460&type=T\n",
      "https://book.douban.com/tag/%E5%A5%B3%E6%80%A7%E4%B8%BB%E4%B9%89?start=480&type=T\n",
      "https://book.douban.com/tag/%E5%A5%B3%E6%80%A7%E4%B8%BB%E4%B9%89?start=500&type=T\n",
      "https://book.douban.com/tag/%E5%A5%B3%E6%80%A7%E4%B8%BB%E4%B9%89?start=520&type=T\n",
      "https://book.douban.com/tag/%E5%A5%B3%E6%80%A7%E4%B8%BB%E4%B9%89?start=540&type=T\n",
      "https://book.douban.com/tag/%E5%A5%B3%E6%80%A7%E4%B8%BB%E4%B9%89?start=560&type=T\n",
      "https://book.douban.com/tag/%E5%A5%B3%E6%80%A7%E4%B8%BB%E4%B9%89?start=580&type=T\n",
      "https://book.douban.com/tag/%E5%A5%B3%E6%80%A7%E4%B8%BB%E4%B9%89?start=600&type=T\n",
      "https://book.douban.com/tag/%E5%A5%B3%E6%80%A7%E4%B8%BB%E4%B9%89?start=620&type=T\n",
      "https://book.douban.com/tag/%E5%A5%B3%E6%80%A7%E4%B8%BB%E4%B9%89?start=640&type=T\n",
      "https://book.douban.com/tag/%E5%A5%B3%E6%80%A7%E4%B8%BB%E4%B9%89?start=660&type=T\n",
      "https://book.douban.com/tag/%E5%A5%B3%E6%80%A7%E4%B8%BB%E4%B9%89?start=680&type=T\n",
      "https://book.douban.com/tag/%E5%A5%B3%E6%80%A7%E4%B8%BB%E4%B9%89?start=700&type=T\n",
      "https://book.douban.com/tag/%E5%A5%B3%E6%80%A7%E4%B8%BB%E4%B9%89?start=720&type=T\n",
      "https://book.douban.com/tag/%E5%A5%B3%E6%80%A7%E4%B8%BB%E4%B9%89?start=740&type=T\n",
      "https://book.douban.com/tag/%E5%A5%B3%E6%80%A7%E4%B8%BB%E4%B9%89?start=760&type=T\n",
      "['厌女:日本的女性嫌恶', '从零开始的女性主义', '父权制与资本主义', '女性主义有什么用？', '第二性', '最好的决定', '东京贫困女子', '如何抑止女性写作', '成为波伏瓦', '女性主义', '一间只属于自己的房间', '亲爱的安吉维拉:或一份包含15条建议的女权主义宣言', '萨德式女人:文化史的操练', '天空的另一半:普利策新闻奖得主讲述女性的绝望与希望', '浮出历史地表:现代妇女文学研究', '性別打結——拆除父權違建', '第二性（合卷本）', '欢喜:女性，革命和一个逝去的男孩', '遗言中的隋唐女性世界:离形去智无累乎物', '圣杯与剑:我们的历史，我们的未来', '女性与权力:一份宣言', '让世界听懂中国', '阁楼上的疯女人:女性作家与19世纪文学想象', '单身女性的时代:我的孤单，我的自我', '被隱形的女性:從各式數據看女性受到的不公對待，消弭生活、職場、設計、醫療中的各', '现代性的性别', '性别麻烦:女性主义与身份的颠覆', '不只是厭女:為什麼越「文明」的世界，厭女的力量越強大？拆解當今最精密的父權敘', '爱说教的男人', '职场妈妈不下班:第二轮班与未完成的家庭革命', '第二性Ⅰ:事实与神话', '向前一步:女性，工作及领导意志', '迈向女性主义的国家理论', '蚁群', '蚁群', '回归家庭?:家庭、事业与难以实现的平等', '女太监', '女性的时刻:如何赋权女性，改变世界', '为女权辩护:关于政治及道德问题的批判（双语对照）（她国系列）(译言古登堡)', '我身体里的人造星星', '女性面對的戰爭:及那些敢於抵抗的勇者', '第二性Ⅱ:实际体验', '世变下的五代女性', '她世界:一部独特的女性心灵成长图鉴', '达洛维夫人:伍尔夫经典小说', '她们', '女性主义思潮导论', '透过性别看世界', '女性的奥秘', '女性的崛起:当代美国的女权运动', '轻舔丝绒', '肉欲的忏悔:性经验史第四卷', '性政治', '消解性别', '查泰莱夫人的情人:纪念版', '一间自己的屋子', '奥兰多:插图珍藏版', '女性主义疗法', '被奴役的性', '觉醒', '第二性:（全译本）', '女性文学与性别政治的变迁', '神圣的欢爱:性、神话与女性肉体的政治学', '中国女性的感情与性', '违背我们的意愿:Men,WomenandRape', '类人猿、赛博格和女人:自然的重塑', '中国妇女', '一间自己的房间', '女性的权利', '妇女：最漫长的革命:当代西方女性主义理论精选', '女权辩护妇女的屈从地位', '不能承受之重:女性主义、西方文化与身体', '情感与制度:魏晋时代的母子关系', 'LeanIn:Women,Work,andtheWilltoLead', 'InvisibleWomen:ExposingDataBiasinaWorldDesignedforMen', '女性与人类发展:能力进路的研究', '她们自己的文学:从勃朗特到莱辛', '素食者', '浮出历史地表:现代妇女文学研究', '她们的传奇', '被建构的女性:当代社会性别理论', '性、高跟鞋與吳爾芙:一部女性主義論戰史', '蒙尘缪斯的微光:从古代到启蒙时代的博学女性', '不让生育的社会', '女性主義理論與流變（完整修訂版）', '百年中国女权思潮研究', '女性的屈从地位', '父权体制与资本主义:马克思主义之女性主义', 'WomenintheChineseEnlightenment:OralandTextualHistories', '女性主义', '职场妈妈生存报告', '性別中國', '妇女与性别（上下）:一本女性主义心理学著作', '妇女、民族与女性主义', '女性主义与青年文化', '性/别、身体与故事社会学', '涉渡之舟:新时期中国女性写作与女性文化', '闺塾师:明末清初江南的才女文化', '男尊女子', '因为性别:改变美国女性职场环境的十个案件', '近代家庭的形成和终结', '伯纳黛特，你要去哪', 'ScumManifesto', '活着的女神', '灵契', '女权辩护:女权辩护', '她的国', '中国女性的感情与性', '神圣的欢爱:性、神话与女性肉体的政治学', '他为什么打我:家庭暴力的识别与自救', '给樱桃以性别', '鄙视', '拯救与困惑1905-1949:中国早期电影中的女性悲剧（1905-1949）', '女性，艺术与权力', '温柔的正义:美国最高法院大法官奥康纳和金斯伯格如何改变世界', '公共的男人，私人的女人:社会和政治思想中的女性', '女の子はどう生きるか:教えて、上野先生！', '身体之重:论“性别”的话语界限', '都市里的农家女:性别流动与社会变迁', '阅读浪漫小说:女性，父权制和通俗文学', '像女孩那樣丟球:論女性身體經驗', '女性乌托邦:中国女性/性别研究二十讲', '您已登入N號房:韓國史上最大宗數位性暴力犯罪吹哨者「追蹤團火花」直擊實錄', '中国“女权”概念的变迁:清末民初的人权和社会性别', '女权主义理论读本', 'GenderTrouble:FeminismandtheSubversionofIdentity', '這是愛女，也是厭女:如何看穿這世界拉攏與懲戒女人的兩手策略？', '他者女人的窥镜', '一个世纪的抗争:美国女权运动史', '女人与母亲:从弗洛伊德至拉康的女性难题', '纸袋公主', '黃色壁紙', '海蒂性学报告', '神圣的欢爱:性、神话与女性肉体的政治学', '中国的女性与性相:1949年以来的性别话语', '女性的星空:恩格斯《家庭、私有制和国家的起源》如是读', '我的朋友阿波罗', '中国妇女史读本', '闺蜜:女性情谊的历史', '紫色', '越界:跨文化女权实践', '女性的话语:论法国的独特性', '分殊正典:女性主义欲望与艺术史书写', 'TheSecondShift', '剩女时代', '从“维多利亚女性”到“新女性”:美国社会转型过程中的中产阶级女性（1870—1920）', '我是主播:在NHK的23年', '女性的法律生活:构建一种女性主义法学', '我的隐藏人生', '激情的政治:人人都能读懂的女权主义FeminismisforEverybody', '妇女与社会主义', '面具后的女人', '当代女性主义文学批评', '此性非一', '女权主义在中国的翻译历程', '20世纪60年代美国激进女权主义研究', 'TheBeautyMyth:HowImagesofBeautyAreUsedAgainstWomen', '妇女与中国现代性:西方与东方之间的阅读政治', '犹在镜中:戴锦华访谈录', '走出男权传统的樊篱:文学中男权意识的批判', '杀夫:台湾著名女作家李昂著名小说', '美丽的权利:《野火集》之外，龙应台的“三把火”', '香蕉、沙滩与基地:国际政治中的女性主义（第二版）', '第二性（纪念版）', 'TheSecondSex', '天空的另一半', '一个人最后的旅程', '男性统治', '食人魔花园', '我的天才女友:那不勒斯四部曲1', '性与文本政治（第二版）:女权主义文学理论', '马克思主义与女性受压迫:趋向统一的理论', '时间的旅行:女性主义，自然，权力', '安提戈涅的诉求:生与死之间的亲缘关系', 'TheGenderKnot:UnravelingOurPatriarchalLegacy(3rdEdition)', '类人猿、赛博格和女人:自然的重塑', '性的政治', 'DownGirl:TheLogicofMisogyny', '中国当代文学的叙事与性别', '性别之伤与存在之痛:从黑格尔到精神分析', 'OnFemaleBodyExperience:\"ThrowingLikeaGirl\"andOtherEssays', '性别化的人生:传播、性别与文化', 'TheDialecticofSex:TheCaseforFeministRevolution', '女权主义简史:Feminism:AVeryShortIntroduction', 'TheQuestionofWomeninChineseFeminism', 'HeadingHome:Motherhood,Work,andtheFailedPromiseofEquality', '拉康与后女性主义', '女性主义媒介研究', '时间的旅行:女性主义，自然，权力', '伍尔夫读书随笔', '看不见的女人:家庭事务社会学', '基层女性', '知晓我姓名', '童话中的女性', '破局者:改变世界的五位女作家', '唐代女道士的生命之旅', '改变世界的女孩:敢做不一样', '痴漢心理學:厭女、猥褻、壓抑，帶你窺探集體沉默的變態文化', '后村的女人们:农村性别权力关系', '内闱:宋代的婚姻和妇女生活', '女权辩护:关于政治和道德问题的批评', 'UndoingGender', '陰道獨白:V-Day運動十周年紀念版', '西方女性主义文学理论', '第二性:第二性第一卷/第二卷上/第二卷下', '语言与社会性别导论', '女性权力的崛起', '无父无夫的国度', '使女的故事', '女人的起源', 'Simians,Cyborgs,andWomen:TheReinventionofNature', '红皇后效应:性与人性的演化', '一间自己的房间:伍尔夫经典作品', '我们为什么不能拥有一切:女性：工作与家庭的平衡', '焚舟纪', '圣母病', '中国女性主义思想史中的妇女问题', '脆弱不安的生命:哀悼与暴力的力量', '女性贫困', '女人自恋渴望承认', '她的身體及其它派對', '妇女的力量与社会翻转', '中国女性社会学:本土知识构建', 'BadFeminist:Essays', '媒介与性别:女性魅力男子气概及媒介性别表达', 'Feminism:AVeryShortIntroduction', '女人所生:作为体验与成规的母性', '虚构的权威:女性作家与叙述声音', '导读波伏瓦', '黑暗时代三女哲:施泰因、阿伦特、韦伊评传', '女权主义简史:百科通识文库', '使女的故事', '完整的女人', '玫瑰门', 'CareerandFamily:Women’sCentury-LongJourneytowardEquity', '国家的真正财富:创建关怀经济学', '女ぎらい:ニッポンのミソジニー', '离开的，留下的:那不勒斯四部曲3', '女权主义理论：从边缘到中心', '秋园', '论婚姻与道德', '浪漫的中国:性别视角下激进主义思潮与文学(1890-1940)', 'BodiesThatMatter:OntheDiscursiveLimitsofSex', '西方女性主义电影', '娜拉言说:中国现代女作家心路纪程', '巴黎评论·女性作家访谈', 'Girls&Sex:NavigatingtheComplicatedNewLandscape', \"HowtoSuppressWomen'sWriting\", 'DearIjeawele,orAFeministManifestoinFifteenSuggestions', \"ARoomofOne'sOwn\", 'TheAwakening', 'ReadingtheRomance:Women,Patriarchy,andPopularLiterature', '一个女人', '我们都是宇宙中的微尘', '两性关系', '在同一地平线上', '女权主义与文学', '中国北方村落的社会性别与权力', '性别表演:后现代语境下的跨界理论与实践', '我是男生，也是女性主義者', '蜜蜂717', '批判与重建', '男性的衰落', '五四时期妇女问题文选', '钟形罩', '欲望·身份·生命:朱迪斯·巴特勒的主体之旅', '女孩儿们', '心为身役（全布面精装）:桑塔格日记与笔记卷二（1964—1980）', '内在革命:一本关于自尊的书', '妇女：最漫长的革命:当代西方女权主义理论精选', 'AboutChineseWomen', '阿娜伊斯·宁日记（全四册）', 'PsychoanalysisandFeminism:ARadicalReassessmentofFreudianPsychoanalysis', '中国女性的20世纪:近现代父权制研究', '性別、認同與地方:女性主義地理學概說', '撩开你的面纱:女性主义与哲学的对话', '言词而已', '姐姐', '女人读书:女性/性别研究代表作导读', '自然之死:妇女、生态和科学革命', '到得了远方，回不去故乡:一位女性主义人类学家的跨国成长旅行', '金斯伯格访谈录:RBG给未来世代的声音', '成年人的谎言生活', '女性主义神学景观:那片流淌着奶和蜜的土地', '家庭、私有制和国家的起源', 'Women&Power:AManifesto', '女性主义哲学', '她身之欲:珠三角流动人口社群特殊职业研究', '罗侠卧底', '莎士比亚的妹妹:伍尔芙随笔集', '男人之间:英国文学与男性同性社会性欲望', '女性主义哲学指南', 'TheBirthofChineseFeminism:EssentialTextsinTransnationalTheory', '思想史视野中的“娜拉”:五四前后的女性解放话语', '女性主义法学', '亲密关系的变革:现代社会中的性、爱和爱欲', '不良女性主義的告白:我不完美、我混亂、我不怕被討厭，我擁抱女性主義標籤', '向前一步:女性工作及领导意志', '淑女的美德:奠定西方“淑女”观念的经典名著美国大学西方文明课必读书目之一', '涉渡之舟:新时期中国女性写作与女性文化', '英国情人', '黑山羊波纳奇', '记忆的性别:农村妇女和中国集体化历史', '妻子们的思秋期', '从缠足到美容手术:中国女性身体的建构', 'KimJiyoung,Born1982', \"WomeninChina'sLongTwentiethCentury\", '賣淫的倫理學探究', '性别表述与现代认同:索解20世纪后半叶中国的叙事文本', '女性书写:文学、电影与生活', '失落与寻回:为什么没有伟大的女艺术家', '上野先生、フェミニズムについてゼロから教えてください！', '图绘:女性主义与文化交往地理学', '外婆的英雄世界', '社会性别研究选译', '女权主义文论', '女权主义政治与人的本质', '夏娃的种子:重读两性对抗的历史', 'TheBloodyChamberAndOtherStories', 'WhatwoulddeBeauvoirdo?:Howthegreatestfeministswouldsolveyoureverydayproblem', 'TheReproductionofMothering:PsychoanalysisandtheSociologyofGender,UpdatedEdition', '性别政治与国家:论中国妇女解放', 'ThisSexWhichIsNotOne', '面纱', '性别化的设计批评空间·物·时尚', '圣杯与剑:我们的历史，我们的未来', '一间自己的屋子:文化生活译丛', 'TheFeminineMystique', '逊色:科学对女性做错了什么？', '什么是女性主义批评', '性騷擾與性別歧視:職業女性困境剖析', '她们', '危险的愉悦:20世纪上海的娼妓问题与现代性', 'WhyHaveThereBeenNoGreatWomenArtists?:50thAnniversaryedition', 'TheNude:AStudyinIdealForm', '女权主义', '女权主义理论与文学实践', 'ThreeGuineas', '女性的负面', '女权主义的知识分子传统', 'AgainstWhiteFeminism:NotesonDisruption', '茫茫藻海', 'FeminismIsforEverybody:PassionatePolitics', '女性的力量:精神分析取向', '哀妇人', '异见时刻:“声名狼藉”的金斯伯格大法官', '不同的声音:心理学理论与妇女发展', '浮出历史地表', '豪爽女人', '可是我偏偏不喜欢', '政治学与女性主义', '断裂的声音', '儒学与女性', '女性主义建筑学理论', '奥兰多', '性史', 'SexualPersonae:Art&DecadencefromNefertititoEmilyDickinson', '男孩不该走的路:破解男孩心智成长中的困惑与危险', '正义的中断:对“后社会主义”状况的批判性反思', '霧中風景', '欢乐之家', '让我独自一人:爱的剖析', '焚舟纪', '明清時代的女性與文學', \"Women'sWaysOfKnowing\", '夏娃的探索:妇女研究论稿', '差异之美:伊里加蕾的女性主义理论研究', '海蒂性学报告：男人篇', 'ThePoliticsofReality:EssaysinFeministTheory(CrossingPressFeministSeries)', 'Feminism,Sexuality,andtheReturnofReligion', 'SharingtheLight:RepresentationsofWomenandVirtueinEarlyChina', '技术、性别、历史:重新审视帝制中国的大转型', '豆树青青', 'TheMoralPropertyofWomen:AHistoryofBirthControlPoliticsinAmerica', '桶川跟踪狂杀人事件', '跨国灰姑娘:当东南亚帮佣遇上台湾新富家庭', 'UnwellWomen:MisdiagnosisandMythinaMan-MadeWorld', '女权与教育:美国女子高等教育发展研究', 'FeminismwithoutBorders:DecolonizingTheory,PracticingSolidarity', 'GenderPoliticsinModernChina:WritingandFeminism', '奥丽芙·基特里奇', '逃离', '女性的秘密', '女性主义与对自然的主宰', '母職的再生產:心理分析與性別社會學', '金钱、性别、现代生活风格', 'FeministsTheorizethePolitical', '家庭、私有制和国家的起源', '空前之迹--1851～1930：中国妇女思想与文学发展史论', '婦女研究運動──中國個案', '妇女与社会性别研究在中国(1987-2003)', '方舟', '性心理学', '82年生的金智英', 'FeministTherapy', '生存与体验:对一个地下“红灯区”的追踪考察', '倔强的粉红色', '后现代性与地理学的政治:福柯等专辑', 'TheMotherandNarrativePoliticsinModernChina', '欧洲同性恋史:柏林，伦敦，巴黎，1919-1939', '女作家作者身份焦虑空间性阐释', '行动超越语言', '年过五十，我决定“离家出走”', 'FeminisminModernJapan:Citizenship,EmbodimentandSexuality', '非常女人', '女权主义文学理论:文艺新学科建设丛书', '黑箱:日本之耻', '一间自己的房间', '中国农村妇女自杀报告', '毒木圣经', 'TheGroundingofModernFeminism', '并不柔弱的话语:女性主义视角下的20世纪英语文学', '另一面镜子:那些女性和那些电影', 'WomenonScreen', 'TheDeathofNature:Women,Ecology,andtheScientificRevolution', \"Footbinding,FeminismandFreedom:TheLiberationofWomen'sBodiesinModernChina\", '寻找美人鱼/杨红樱童话:寻找美人鱼', 'Feminism/Postmodernism', '妇女对法律的反抗:美国“罗伊”案判决前堕胎法的理论与实践', 'SistersofTomorrow:TheFirstWomenofScienceFiction', '钟形罩', '一间自己的房间', '米德尔马契:上下册', 'FeminismUnmodified:DiscoursesonLifeandLaw', 'RepresentingRape:LanguageandSexualConsent', '性、謊言、吹哨者:紐約時報記者揭發好萊塢史上最大規模性騷擾案，引爆#MeToo運動的新聞', 'Technology,GenderandHistoryinImperialChina:GreatTransformationsReconsidered', '性別與創造:女性主義美學及其他', '橘子不是唯一的水果', '凡身之造:中国女性健身叙事', '出走的女人：真相:真相', 'TheFeministCompaniontoMythology', '性别意识与女性形象', 'MedeaandOtherPlays:\"Medea\",\"Hecabe\",\"Electra\",\"Heracles\"', '使女的故事', '才女之累:李清照及其接受史', \"TranslationandGender:Translatinginthe'EraofFeminism'\", '人类性幻想', '新名字的故事:那不勒斯四部曲2', \"InaDifferentVoice:PsychologicalTheoryandWomen'sDevelopment\", 'FeminismandSocialisminChina', 'TheWomanWarrior:MemoirsofaGirlhoodAmongGhosts', '诗与思的对话:西苏和巴特勒理论比较研究', '追怀生命:中国历史上的墓志铭', '近代中國女權運動史料', '宠儿', 'GenderandtheSouthChinaMiracle:TwoWorldsofFactoryWomen', 'FeministTheoryandtheBody:AReader', 'Sexuality,theFemaleGazeandtheArts', 'Women,theFamilyandPeasantRevolutioninChina', '生态女性主义', '狂欢的女神', \"Afro-FutureFemales:BlackWritersChartScienceFiction'sNewestNew-WaveTrajectory\", '爱欲与文明', '她們，和她們的希望故事', '近代中國女權論述:國族、翻譯與性別政治', '他们的世界:中国男同性恋群落透视', '女性與文學:女性主義文學國際研討會論文集', '厭女現象：跨文化的男性病態', '绝叫', 'Gyn/ecology:TheMetaethicsofRadicalFeminism', '戦う姫、働く少女', '夫妻的世界:潘幸知的37堂情感经营课', 'PenguinModernPoets3:YourFamily,YourBody', '海蒂性学报告：女人篇', 'WomenandBuddhistPhilosophy:EngagingZenMasterKimIryop', '导读巴特勒', 'TheFeminismBook', '阿勒泰的角落', '主妇、舞者与牧师:七国女性纪实摄影', 'Feminismforthe99%', '中国妇女生活史（120年纪念版）', '夏日终焉', '小姐：勞動的權利:——中國東南沿海與東北城巿的對照考察', '女性历史消费:当代电视剧的文化批判', 'Pornography:MenPossessingWomen', 'BeautyandMisogyny', '一间自己的房间:本涅特先生和布朗太太及其他', 'TheSadeianWoman:AndtheIdeologyofPornography', 'FortunesofFeminism:FromState-ManagedCapitalismtoNeoliberalCrisis', '女神自助餐', '全球化与理论旅行:跨国女性主义的知识生产', '每天变坏一点点:《好女孩上天堂坏女孩走四方》姊妹篇', '漫长的革命', '女性电影史纲', 'ZerosandOnes', '两棵花椒树', \"ARoomofOne'sOwn\", '婦女與中國現代性', \"Shakespeare'sSisters:FeministEssaysonWomenPoets\", '她们自己的文学:从勃朗特到莱辛的英国女性小说家', 'AgainstOurWill:Men,Women,andRape', '女性主义治疗理论与实务运用', '戀戀紅塵:中國的城市，慾望與生活', '革命之路', '女神的失落', '送奶工', '中国的妇女与财产:960~1949年', 'TheStraightMind:AndOtherEssays', '夜莺', '明清之际士大夫研究', '给贤南哥的信', '给一个未出生孩子的信', '中国当代言情小说女性原型研究', '2019年中国女性文学选', '与狼共奔的女人', '性之变:21世纪中国人的性生活', '女性人类学:雅典娜1号', '拯救王子的公主:唤醒世界的女性童话故事', '大人心理童话', '日本贫困女子', '三八节有感(关于丁玲)', 'DearIjeawele,oraFeministManifestoinFifteenSuggestions', '媒介与社会性别研究:理论与实例', '灵长类视觉:现代科学世界中的性别、种族和自然', '发明男性气概', '岩波女性学事典', 'AlltheSingleLadies:UnmarriedWomenandtheRiseofanIndependentNation', '女性主义心理学', 'TheMatrixialBorderspace', 'WhyStoriesMatter', '烨烨人生:名丽场.Ⅲ', '母乳与牛奶:近代中国母亲角色的重塑（1895－1937）', '语言与女权主义', '女性主义', 'GenderinTranslation:CulturalIdentityandthePoliticsofTransmission(TranslationStudies(Routledge))', '女性主義與藝術歷史:擴充論述', '西方后学语境中的女权主义', 'GenderandthePoliticsofHistory', '婚姻与道德', 'WomenandWritinginModernChina', 'CantheSubalternSpeak?:ReflectionsontheHistoryofanIdea', '暴力冲突中的妇女:一个性别视角的分析', 'FeministInternational:HowtoChangeEverything', \"BeyondGodtheFather:TowardaPhilosophyofWomen'sLiberation\", '野蛮时代的悲悯与关爱:胡适论女权', '来不及说再见的青春:电影《八月未央》故事集', 'BoundFeet,YoungHands:TrackingtheDemiseofFootbindinginVillageChina', '碎片', '性工作:妓權觀點', '男性研究', 'CatchandKill:Lies,Spies,andaConspiracytoProtectPredators', '边缘的权利:女性性工作者被害问题经验研究', '传媒与性别-女性媒介的传播社会学阐释', '唯有粉红:审美品位的性别政治学', '生命之泉喷涌', '視線與差異:陰柔氣質、女性主義與藝術歷史', '社会性别与媒介传播', '姹紫嫣红开遍:白先勇散文卷', 'WritingWomeninModernChina', '圣杯与剑:男女之间的战争', '红粉骷髅记', '乐队女孩:金·戈登回忆录', '再生缘', 'RedLights:TheLivesofSexWorkersinPostsocialistChina', '女性与社会变革:唯物主义女性主义研究', '性与文本的政治:女权主义文学理论', '30岁前别结婚', '表演中國:女明星，表演文化，視覺政治，1910-1945', '草间弥生艺术全记录', '女性主义国际关系学', 'RevolutionatPointZero:Housework,Reproduction,andFeministStruggle', '唤醒睡美人:儿童小说中的女性主义声音', '恐怖的力量:论贱弃', '无字:茅盾文学奖获奖作品全集', 'CareerGPS:StrategiesforWomenNavigatingtheNewCorporateLandscape', '她们', 'MatriarchalSocieties:StudiesonIndigenousCulturesacrosstheGlobe', '中国古代妇女史研究入门', '女性主义知识考古学', '陰性終止:音樂學的女性主義批評', '男人的声音:16位“性别平等男”讲故事', '空间、地方与性别', '原型女性与母权意识', \"PracticingFeminisminSouthKorea:Thewomen'smovementagainstsexualviolence\", '女性的电影:对话中日女导演', '性别研究:理论背景与文学文化阐释', '中国新生代女性艺术家精品集', '西方女性艺术研究:西方女性艺术研究', '母爱的疗愈:解放童年负面亲子关系', 'IAmanEmotionalCreature:TheSecretLifeofGirlsAroundtheWorld', '女人的一个世纪:从选举权到避孕药', '黑暗的左手', \"PreciousRecords:WomeninChina'sLongEighteenthCentury\", '身体的复活:女性主义、宗教与精神分析', 'SexIsNotANaturalAct&OtherEssays', 'AgainstMarriage:AnEgalitarianDefenseoftheMarriage-FreeState', 'ThePoliticsofEverybody:Feminism,QueerTheory,andMarxismattheIntersection', '那不勒斯故事四部曲', '荒野中的女体:张爱玲女性主义批评Ⅰ', 'FeministPhilosophyAndScienceFiction:UtopiasAndDystopias', '布鲁克林有棵树', 'BeautyandMisogyny', 'FeministTheoryReader:LocalandGlobalPerspectives', '好女孩上天堂,坏女孩走四方', '傲慢与偏见', 'OnlyWords', '中国女性史1851-1958', '女权主义简史', '黑暗时期三女哲:施泰因，阿伦特，韦伊评传', '男性统治', '82年生的金智英', '嬉雪:中国当代女性散文选汉英对照本', '性与性格', '缀珍录:十八世纪及其前后的中国妇女', '媒介与性别', '派对恐惧症', '秀拉', '蝲蛄吟唱的地方', '她們的創作日常', '中外杰出女性故事', 'AHistoryofWomenintheWest', \"WomenandChina'sRevolutions\", '彷徨的娜拉', '共夫制与共妻制:中华本土文化丛书', '女性劳动者权益法律保护:生理性别差异的承认与社会性别歧视的消除', '女性主义伦理学', 'TheManofReason:\"Male\"and\"Female\"inWesternPhilosophy', '江藤淳と少女フェミニズム的戦後:サブカルチャー文学論序章', 'FromEvetoDawn,AHistoryofWomenintheWorld', '诗性语言的革命', '被嫌弃的松子的一生', '圣经中的女性:《创世记》的文本与潜文本', '女性主义哲学与身体美学', '结婚十年', 'GenderandChineseHistory:TransformativeEncounters', 'TheCreationofPatriarchy', 'ComeasYouAre:TheSurprisingNewSciencethatWillTransformYourSexLife', '《达拉斯》与大众文化意识形态:WatchingDallas:SoapOperaandtheMelodramaticImagination', '恋物与好奇', 'Courtesans,Concubines,andtheCultofFemaleFidelity:GenderandSocialChangeinChina,1000-1400', '美之地图', 'BodiesofTomorrow', '波伏瓦姐妹', '另类的现代性:改革开放时代中国性别化的渴望', '身体·性别·欲望:20世纪八九十年代小说中的女性身体叙事', '母爱向左，焦虑向右:母性矛盾心理解析', '波伏娃与《第二性》', '失踪的孩子:那不勒斯四部曲4', '平面国:多维空间传奇往事', 'TheWorkofLove:UnpaidHousework,PovertyandSexualViolenceattheDawnofthe21stCentury', '消费文化时代的性别想象', '女权辩:第一推动力改变美国的20本书之一.', '女性主义文学批评在西方与中国', '女性的生存状况和社会心态', '21世纪的日本家庭', '中国现代女性写作的发生（1898-1925）:中国女性写作的发生（1895-1925）', '晚清女性与近代中国', '日本のポストフェミニズム:「女子力」とネオリベラリズム', 'TheSecondSex', '超越让你备受折磨的母女关系:理解边缘型母亲', '天义·衡报', '家庭、私有制和国家的起源', 'MangaCulturesandtheFemaleGaze', '自製男人', '惩罚的边界:卖淫刑事政策实证研究', '孤独与诱惑:女性的心理畏惧', '中国女性主义', '当代欧美身体研究批评', 'フェミニズムはもういらない、と彼女は言うけれど:ポストフェミニズムと「女らしさ」のゆくえ', 'TheMermaidandtheMinotaur:SexualArrangementsandHumanMalaise', \"AliceDoesn't:Feminism,Semiotics,Cinema\", '在阴影中绽放:中国日本绘画史上的女性', 'TowardaFeministTheoryoftheState', 'DangerousLiaisons:TheMarriagesandDivorcesofMarxismandFeminism', '30岁前别结婚:一个精英猎头写给女性的高效规划', '技术与性别:晚期帝制中国的权力经纬', '淑女之城:企鹅口袋书系列·伟大的思想', 'SheSaid:BreakingtheSexualHarassmentStoryThatHelpedIgniteaMovement', '蓝彩霞的春天', '爱丽尔', '白发魔女传', 'TheVaginaMonologues:TheV-DayEdition', '男权的神话', '女性的奥秘', 'FeministEpistemologies', '美妆的凝视:如何改造身体与构建美丽', '素食主义者', 'DisgracefulMatters:ThePoliticsofChastityinEighteenth-CenturyChina', 'ManifestoCyborg', 'C.K.主义:华尔街女王的职场精英养成术', '中国现代女性作家与中国革命，1905-1948', '北港香爐人人插', 'WomenWhoRunwiththeWolves:MythsandStoriesoftheWildWomanArchetype', '金牌客服董董恩', 'Marriage,aHistory:HowLoveConqueredMarriage', '第二阶段', '<体育会系女子>のポリティクス:身体・ジェンダー・セクシュアリティ', '負け犬の遠吠え', '媒介与社会性别研究：理论与实例', '性别差异的诗意书写:埃莱娜·西苏理论研究', '隐形书写:90年代中国文化研究', '一个知识女性的思考系列:《边界》《过境》《荣誉》', '恨中录', '11处特工皇妃', '规训与惩罚(修订译本)(第4版)', \"HerVoiceWillBeontheSideofRight:GenderandPowerinWomen'sAntebellumAntislaveryFiction\", 'GoddessesandtheDivineFeminine:AWesternReligiousHistory', '迟来的告白：我和我妈妈', '日常生活价值重构:中国当代女性主义文学思潮研究', \"Ain'tIaWoman:BlackWomenandFeminism\", '边缘的突破:云南社会性别探索与实践', 'WeShouldAllBeFeminists', 'JapaneseFeministDebates:ACenturyofContentiononSex,Love,andLabor', '性别:外语学科核心话题前沿研究文库.外国文学研究核心话题系列丛书', 'FeministResearchPractice:APrimer', '新生代女性主义学术论丛', '阳光下的中国人体', '女界钟', '坡道上的家', '女性的奥秘:西洋镜译丛第一批', '女宾', '關於女兒', 'NinthStreetWomen:LeeKrasner,ElainedeKooning,GraceHartigan,JoanMitchell,andHelenFrankenthaler:FivePai', '媒介眼中的“她者”图景与性别话语研究', '中国宗教父权制建构史纲', '公共行政中的性别形象:合法性与行政国家', '厭女:日本的女性嫌惡', 'TheInnerQuarters:MarriageandtheLivesofChineseWomenintheSungPeriod', 'CalibanAndTheWitch:Women,theBodyandPrimitiveAccumulation', '简·奥斯丁的谋略', 'ResistingReality:SocialConstructionandSocialCritique', 'TheHistoryofSexuality:TheWilltoKnowledge', '女ぎらい:ニッポンのミソジニー', '女太监', '有闲阶级论', 'AfterQueerTheory:TheLimitsofSexualPolitics', '女孩和女人们的生活', '战争中没有女性', '丘比德與賽姬:女性深層心理的發展', '最受欢迎的沟通方式和技巧', '50KeyConceptsinGenderStudies(SAGEKeyConceptsseries)', '激情的疏离:女性主义电影理论导论', \"AWoman'sLiberation:AChoiceofFuturesbyandAboutWomen\", '纵情夏日', '喀耳刻', '经与权:中国传统女性观与妇女生活的变迁', '灵长类视觉:现代科学世界中的性别、种族和自然', 'TheRiseandDeclineofPatriarchalSystems', '女性与爱欲:古希腊与世界', '母权论:对古代世界母权制宗教性和法权性的探究', '醒来的女性:戴潍娜导读版', 'LeanInforGraduates', '《简·爱》的光影转世', '男性气概', '花季:洪範文學叢書127', '性存在', '解析朱迪斯·巴特勒《性别麻烦》', 'PrimateVisions:Gender,Race,andNatureintheWorldofModernScience', 'TheChaliceandtheBlade:OurHistory,OurFuture', '当代女性主义文学批评', 'FactoryGirls:FromVillagetoCityinaChangingChina', '资本主义的终结', '大女生', 'InnovativeBuddhistWomen:SwimmingAgainsttheStream', 'SistersinArms', '道德浪女:性開放的全新思考', 'DataFeminism', '呼兰河传:1947年版本・原版珍藏', '女性经验的生态隐喻:生态女性主义研究', 'TheDangersofSmokinginBed:Stories', '2020年中国女性文学选', '社会性别概论', '克里斯蒂娃自选集', 'PatriarchyandAccumulationonaWorldScale:WomenintheInternationalDivisionofLabour', 'TheMonstrous-Feminine:Film,Feminism,Psychoanalysis', '打工女孩:从乡村到城市的变动中国', '解讀芭比娃娃：芭比對女性自我行塑的影響', '我不代表真理我只代表你', '個人就是政治', '完整的女人', '权力的精神生活', '中年妇女恋爱史', '妇女与世界宗教', 'Intercourse', '存在与荒谬:中国地下“性产业”考察', 'BetrayingBigBrother:TheFeministAwakeninginChina', '年轻的手与被缚的足:追溯中国乡村缠足现象的消失']\n"
     ]
    }
   ],
   "source": [
    "# to get all the book name\n",
    "import requests\n",
    "import random\n",
    "import time\n",
    "import re\n",
    "from bs4 import BeautifulSoup\n",
    "# declaring the list to store data\n",
    "book_list = []\n",
    "# link =  'https://book.douban.com/tag/%E5%A5%B3%E6%9D%83?start=0&type=T‘ \n",
    "# Keyword:“女性主义”\n",
    "# Prevent being judged as a robot\n",
    "headers={'User-Agent':'Mozilla/5.0(Macintosh;Intel Mac OS X 10_15_7)AppleWebKit/537.36(KHTML,like Gecko)Chrome/95.0.4638.54 Safari/537.36'}\n",
    "# Let it turn pages automatically\n",
    "for i in range(0,39):\n",
    "    link =  'https://book.douban.com/tag/%E5%A5%B3%E6%80%A7%E4%B8%BB%E4%B9%89?start={i}&type=T'.format(i= i*20)\n",
    "    r = requests.get(link,headers=headers,timeout=30) \n",
    "    print(link)\n",
    "    soup=BeautifulSoup(r.text,\"lxml\")\n",
    "    A = soup.find_all('div',class_='info')\n",
    "    for each in A:\n",
    "        book = each.a.text.strip()         #Get the book name\n",
    "        book = book.replace('\\n', '')      #Remove line breaks\n",
    "        book = book.replace(' ', '')       #Remove extra spaces\n",
    "        book_list.append(book)             #Add each book title to book_list\n",
    "        time.sleep(random.random()*3)      #Prevent being judged as a robot\n",
    "    \n",
    "print(book_list)"
   ]
  },
  {
   "cell_type": "code",
   "execution_count": null,
   "id": "dc9fca68-654b-40a6-80ad-a9061402efcd",
   "metadata": {},
   "outputs": [],
   "source": []
  },
  {
   "cell_type": "code",
   "execution_count": 285,
   "id": "133a9b8a-57b3-464e-a060-65428284cf78",
   "metadata": {
    "collapsed": true,
    "jupyter": {
     "outputs_hidden": true
    },
    "tags": []
   },
   "outputs": [
    {
     "name": "stdout",
     "output_type": "stream",
     "text": [
      "https://book.douban.com/tag/%E5%A5%B3%E6%80%A7%E4%B8%BB%E4%B9%89?start=0&type=T\n",
      "https://book.douban.com/tag/%E5%A5%B3%E6%80%A7%E4%B8%BB%E4%B9%89?start=20&type=T\n",
      "https://book.douban.com/tag/%E5%A5%B3%E6%80%A7%E4%B8%BB%E4%B9%89?start=40&type=T\n",
      "https://book.douban.com/tag/%E5%A5%B3%E6%80%A7%E4%B8%BB%E4%B9%89?start=60&type=T\n",
      "https://book.douban.com/tag/%E5%A5%B3%E6%80%A7%E4%B8%BB%E4%B9%89?start=80&type=T\n",
      "https://book.douban.com/tag/%E5%A5%B3%E6%80%A7%E4%B8%BB%E4%B9%89?start=100&type=T\n",
      "https://book.douban.com/tag/%E5%A5%B3%E6%80%A7%E4%B8%BB%E4%B9%89?start=120&type=T\n",
      "https://book.douban.com/tag/%E5%A5%B3%E6%80%A7%E4%B8%BB%E4%B9%89?start=140&type=T\n",
      "https://book.douban.com/tag/%E5%A5%B3%E6%80%A7%E4%B8%BB%E4%B9%89?start=160&type=T\n",
      "https://book.douban.com/tag/%E5%A5%B3%E6%80%A7%E4%B8%BB%E4%B9%89?start=180&type=T\n",
      "https://book.douban.com/tag/%E5%A5%B3%E6%80%A7%E4%B8%BB%E4%B9%89?start=200&type=T\n",
      "https://book.douban.com/tag/%E5%A5%B3%E6%80%A7%E4%B8%BB%E4%B9%89?start=220&type=T\n",
      "https://book.douban.com/tag/%E5%A5%B3%E6%80%A7%E4%B8%BB%E4%B9%89?start=240&type=T\n",
      "https://book.douban.com/tag/%E5%A5%B3%E6%80%A7%E4%B8%BB%E4%B9%89?start=260&type=T\n",
      "https://book.douban.com/tag/%E5%A5%B3%E6%80%A7%E4%B8%BB%E4%B9%89?start=280&type=T\n",
      "https://book.douban.com/tag/%E5%A5%B3%E6%80%A7%E4%B8%BB%E4%B9%89?start=300&type=T\n",
      "https://book.douban.com/tag/%E5%A5%B3%E6%80%A7%E4%B8%BB%E4%B9%89?start=320&type=T\n",
      "https://book.douban.com/tag/%E5%A5%B3%E6%80%A7%E4%B8%BB%E4%B9%89?start=340&type=T\n",
      "https://book.douban.com/tag/%E5%A5%B3%E6%80%A7%E4%B8%BB%E4%B9%89?start=360&type=T\n",
      "https://book.douban.com/tag/%E5%A5%B3%E6%80%A7%E4%B8%BB%E4%B9%89?start=380&type=T\n",
      "https://book.douban.com/tag/%E5%A5%B3%E6%80%A7%E4%B8%BB%E4%B9%89?start=400&type=T\n",
      "https://book.douban.com/tag/%E5%A5%B3%E6%80%A7%E4%B8%BB%E4%B9%89?start=420&type=T\n",
      "https://book.douban.com/tag/%E5%A5%B3%E6%80%A7%E4%B8%BB%E4%B9%89?start=440&type=T\n",
      "https://book.douban.com/tag/%E5%A5%B3%E6%80%A7%E4%B8%BB%E4%B9%89?start=460&type=T\n",
      "https://book.douban.com/tag/%E5%A5%B3%E6%80%A7%E4%B8%BB%E4%B9%89?start=480&type=T\n",
      "https://book.douban.com/tag/%E5%A5%B3%E6%80%A7%E4%B8%BB%E4%B9%89?start=500&type=T\n",
      "https://book.douban.com/tag/%E5%A5%B3%E6%80%A7%E4%B8%BB%E4%B9%89?start=520&type=T\n",
      "https://book.douban.com/tag/%E5%A5%B3%E6%80%A7%E4%B8%BB%E4%B9%89?start=540&type=T\n",
      "https://book.douban.com/tag/%E5%A5%B3%E6%80%A7%E4%B8%BB%E4%B9%89?start=560&type=T\n",
      "https://book.douban.com/tag/%E5%A5%B3%E6%80%A7%E4%B8%BB%E4%B9%89?start=580&type=T\n",
      "https://book.douban.com/tag/%E5%A5%B3%E6%80%A7%E4%B8%BB%E4%B9%89?start=600&type=T\n",
      "https://book.douban.com/tag/%E5%A5%B3%E6%80%A7%E4%B8%BB%E4%B9%89?start=620&type=T\n",
      "https://book.douban.com/tag/%E5%A5%B3%E6%80%A7%E4%B8%BB%E4%B9%89?start=640&type=T\n",
      "https://book.douban.com/tag/%E5%A5%B3%E6%80%A7%E4%B8%BB%E4%B9%89?start=660&type=T\n",
      "https://book.douban.com/tag/%E5%A5%B3%E6%80%A7%E4%B8%BB%E4%B9%89?start=680&type=T\n",
      "https://book.douban.com/tag/%E5%A5%B3%E6%80%A7%E4%B8%BB%E4%B9%89?start=700&type=T\n",
      "https://book.douban.com/tag/%E5%A5%B3%E6%80%A7%E4%B8%BB%E4%B9%89?start=720&type=T\n",
      "https://book.douban.com/tag/%E5%A5%B3%E6%80%A7%E4%B8%BB%E4%B9%89?start=740&type=T\n",
      "https://book.douban.com/tag/%E5%A5%B3%E6%80%A7%E4%B8%BB%E4%B9%89?start=760&type=T\n",
      "['https://book.douban.com/subject/25836270/', 'https://book.douban.com/subject/35523099/', 'https://book.douban.com/subject/34896921/', 'https://book.douban.com/subject/35518116/', 'https://book.douban.com/subject/1159967/', 'https://book.douban.com/subject/30432520/', 'https://book.douban.com/subject/34933208/', 'https://book.douban.com/subject/35229199/', 'https://book.douban.com/subject/35317169/', 'https://book.douban.com/subject/30276984/', 'https://book.douban.com/subject/34835082/', 'https://book.douban.com/subject/30370304/', 'https://book.douban.com/subject/35490024/', 'https://book.douban.com/subject/25845647/', 'https://book.douban.com/subject/30147095/', 'https://book.douban.com/subject/3066800/', 'https://book.douban.com/subject/25822104/', 'https://book.douban.com/subject/35574950/', 'https://book.douban.com/subject/35571320/', 'https://book.douban.com/subject/3528067/', 'https://book.douban.com/subject/30389969/', 'https://book.douban.com/subject/35562181/', 'https://book.douban.com/subject/25986620/', 'https://book.douban.com/subject/30128172/', 'https://book.douban.com/subject/35115455/', 'https://book.douban.com/subject/34997254/', 'https://book.douban.com/subject/3339862/', 'https://book.douban.com/subject/34884993/', 'https://book.douban.com/subject/30438861/', 'https://book.douban.com/subject/35481663/', 'https://book.douban.com/subject/4745949/', 'https://book.douban.com/subject/24753751/', 'https://book.douban.com/subject/3003634/', 'https://book.douban.com/subject/34858746/', 'https://book.douban.com/subject/35637266/', 'https://book.douban.com/subject/35347054/', 'https://book.douban.com/subject/6520826/', 'https://book.douban.com/subject/35051493/', 'https://book.douban.com/subject/27192066/', 'https://book.douban.com/subject/35611125/', 'https://book.douban.com/subject/27665046/', 'https://book.douban.com/subject/4745950/', 'https://book.douban.com/subject/35573477/', 'https://book.douban.com/subject/35268549/', 'https://book.douban.com/subject/25844135/', 'https://book.douban.com/subject/35602098/', 'https://book.douban.com/subject/1599672/', 'https://book.douban.com/subject/34800379/', 'https://book.douban.com/subject/1680190/', 'https://book.douban.com/subject/4129622/', 'https://book.douban.com/subject/27041894/', 'https://book.douban.com/subject/35545163/', 'https://book.douban.com/subject/1072067/', 'https://book.douban.com/subject/4091025/', 'https://book.douban.com/subject/25852235/', 'https://book.douban.com/subject/2375988/', 'https://book.douban.com/subject/35587094/', 'https://book.douban.com/subject/35458607/', 'https://book.douban.com/subject/1273696/', 'https://book.douban.com/subject/35191001/', 'https://book.douban.com/subject/1004322/', 'https://book.douban.com/subject/25851840/', 'https://book.douban.com/subject/33380610/', 'https://book.douban.com/subject/35340071/', 'https://book.douban.com/subject/1766635/', 'https://book.douban.com/subject/10581463/', 'https://book.douban.com/subject/4814794/', 'https://book.douban.com/subject/30477653/', 'https://book.douban.com/subject/27073145/', 'https://book.douban.com/subject/2241354/', 'https://book.douban.com/subject/1890228/', 'https://book.douban.com/subject/4172085/', 'https://book.douban.com/subject/35626914/', 'https://book.douban.com/subject/20384337/', 'https://book.douban.com/subject/30473220/', 'https://book.douban.com/subject/35136597/', 'https://book.douban.com/subject/10576116/', 'https://book.douban.com/subject/35534519/', 'https://book.douban.com/subject/1040215/', 'https://book.douban.com/subject/35454900/', 'https://book.douban.com/subject/1292418/', 'https://book.douban.com/subject/30331119/', 'https://book.douban.com/subject/30263563/', 'https://book.douban.com/subject/35127691/', 'https://book.douban.com/subject/35029933/', 'https://book.douban.com/subject/1678575/', 'https://book.douban.com/subject/27620853/', 'https://book.douban.com/subject/1960008/', 'https://book.douban.com/subject/5298408/', 'https://book.douban.com/subject/1340429/', 'https://book.douban.com/subject/35200527/', 'https://book.douban.com/subject/4150725/', 'https://book.douban.com/subject/4184341/', 'https://book.douban.com/subject/1022508/', 'https://book.douban.com/subject/6775850/', 'https://book.douban.com/subject/30168191/', 'https://book.douban.com/subject/2131083/', 'https://book.douban.com/subject/1227981/', 'https://book.douban.com/subject/35115512/', 'https://book.douban.com/subject/30312956/', 'https://book.douban.com/subject/1155910/', 'https://book.douban.com/subject/30284744/', 'https://book.douban.com/subject/2370615/', 'https://book.douban.com/subject/3024752/', 'https://book.douban.com/subject/26961102/', 'https://book.douban.com/subject/10744203/', 'https://book.douban.com/subject/25890643/', 'https://book.douban.com/subject/1007625/', 'https://book.douban.com/subject/1151136/', 'https://book.douban.com/subject/35627278/', 'https://book.douban.com/subject/10740054/', 'https://book.douban.com/subject/35482123/', 'https://book.douban.com/subject/35584025/', 'https://book.douban.com/subject/1398968/', 'https://book.douban.com/subject/27592193/', 'https://book.douban.com/subject/30394157/', 'https://book.douban.com/subject/35557176/', 'https://book.douban.com/subject/6873104/', 'https://book.douban.com/subject/1765207/', 'https://book.douban.com/subject/35032242/', 'https://book.douban.com/subject/2266453/', 'https://book.douban.com/subject/26797507/', 'https://book.douban.com/subject/35438519/', 'https://book.douban.com/subject/4221977/', 'https://book.douban.com/subject/1979107/', 'https://book.douban.com/subject/2560370/', 'https://book.douban.com/subject/34450184/', 'https://book.douban.com/subject/26929937/', 'https://book.douban.com/subject/34988819/', 'https://book.douban.com/subject/26706759/', 'https://book.douban.com/subject/3746800/', 'https://book.douban.com/subject/30194675/', 'https://book.douban.com/subject/1033273/', 'https://book.douban.com/subject/3527925/', 'https://book.douban.com/subject/2381084/', 'https://book.douban.com/subject/27119204/', 'https://book.douban.com/subject/35083197/', 'https://book.douban.com/subject/6256412/', 'https://book.douban.com/subject/35006323/', 'https://book.douban.com/subject/3022765/', 'https://book.douban.com/subject/1528033/', 'https://book.douban.com/subject/27019664/', 'https://book.douban.com/subject/26872354/', 'https://book.douban.com/subject/2904976/', 'https://book.douban.com/subject/26710929/', 'https://book.douban.com/subject/35585134/', 'https://book.douban.com/subject/35458349/', 'https://book.douban.com/subject/4244376/', 'https://book.douban.com/subject/34826128/', 'https://book.douban.com/subject/3092437/', 'https://book.douban.com/subject/2265116/', 'https://book.douban.com/subject/30316746/', 'https://book.douban.com/subject/3221748/', 'https://book.douban.com/subject/1347895/', 'https://book.douban.com/subject/26821271/', 'https://book.douban.com/subject/4205394/', 'https://book.douban.com/subject/1375130/', 'https://book.douban.com/subject/3183526/', 'https://book.douban.com/subject/1004710/', 'https://book.douban.com/subject/1008795/', 'https://book.douban.com/subject/1760488/', 'https://book.douban.com/subject/26701176/', 'https://book.douban.com/subject/35528125/', 'https://book.douban.com/subject/35178090/', 'https://book.douban.com/subject/6829838/', 'https://book.douban.com/subject/30136374/', 'https://book.douban.com/subject/35575882/', 'https://book.douban.com/subject/26921060/', 'https://book.douban.com/subject/27621485/', 'https://book.douban.com/subject/26878124/', 'https://book.douban.com/subject/30489635/', 'https://book.douban.com/subject/4065607/', 'https://book.douban.com/subject/26997198/', 'https://book.douban.com/subject/26997217/', 'https://book.douban.com/subject/26862152/', 'https://book.douban.com/subject/26874448/', 'https://book.douban.com/subject/1044580/', 'https://book.douban.com/subject/27611763/', 'https://book.douban.com/subject/2177745/', 'https://book.douban.com/subject/30141208/', 'https://book.douban.com/subject/1966962/', 'https://book.douban.com/subject/1450872/', 'https://book.douban.com/subject/2198397/', 'https://book.douban.com/subject/3288003/', 'https://book.douban.com/subject/1760267/', 'https://book.douban.com/subject/30356514/', 'https://book.douban.com/subject/1283122/', 'https://book.douban.com/subject/2294867/', 'https://book.douban.com/subject/20470941/', 'https://book.douban.com/subject/11586735/', 'https://book.douban.com/subject/35077364/', 'https://book.douban.com/subject/35532047/', 'https://book.douban.com/subject/35093999/', 'https://book.douban.com/subject/35042809/', 'https://book.douban.com/subject/35556892/', 'https://book.douban.com/subject/35556930/', 'https://book.douban.com/subject/35221226/', 'https://book.douban.com/subject/35364625/', 'https://book.douban.com/subject/4106181/', 'https://book.douban.com/subject/1055062/', 'https://book.douban.com/subject/1915908/', 'https://book.douban.com/subject/1966119/', 'https://book.douban.com/subject/25923628/', 'https://book.douban.com/subject/2027667/', 'https://book.douban.com/subject/25712807/', 'https://book.douban.com/subject/1599722/', 'https://book.douban.com/subject/1048628/', 'https://book.douban.com/subject/1048899/', 'https://book.douban.com/subject/27113801/', 'https://book.douban.com/subject/2222424/', 'https://book.douban.com/subject/1417618/', 'https://book.douban.com/subject/35502499/', 'https://book.douban.com/subject/25844144/', 'https://book.douban.com/subject/26876370/', 'https://book.douban.com/subject/30259677/', 'https://book.douban.com/subject/30583300/', 'https://book.douban.com/subject/10542855/', 'https://book.douban.com/subject/26874460/', 'https://book.douban.com/subject/27111185/', 'https://book.douban.com/subject/1104520/', 'https://book.douban.com/subject/33424055/', 'https://book.douban.com/subject/27167417/', 'https://book.douban.com/subject/21361341/', 'https://book.douban.com/subject/25955131/', 'https://book.douban.com/subject/26348460/', 'https://book.douban.com/subject/2003106/', 'https://book.douban.com/subject/3003400/', 'https://book.douban.com/subject/1023148/', 'https://book.douban.com/subject/25928733/', 'https://book.douban.com/subject/30489678/', 'https://book.douban.com/subject/26664044/', 'https://book.douban.com/subject/3056877/', 'https://book.douban.com/subject/6802695/', 'https://book.douban.com/subject/34983276/', 'https://book.douban.com/subject/35521175/', 'https://book.douban.com/subject/3530469/', 'https://book.douban.com/subject/33420910/', 'https://book.douban.com/subject/27104959/', 'https://book.douban.com/subject/1316551/', 'https://book.douban.com/subject/34998019/', 'https://book.douban.com/subject/35284740/', 'https://book.douban.com/subject/26783497/', 'https://book.douban.com/subject/1793834/', 'https://book.douban.com/subject/3225423/', 'https://book.douban.com/subject/3045705/', 'https://book.douban.com/subject/34983889/', 'https://book.douban.com/subject/26761192/', 'https://book.douban.com/subject/10487811/', 'https://book.douban.com/subject/26992655/', 'https://book.douban.com/subject/1603603/', 'https://book.douban.com/subject/1574934/', 'https://book.douban.com/subject/2893856/', 'https://book.douban.com/subject/1399648/', 'https://book.douban.com/subject/30381064/', 'https://book.douban.com/subject/1427465/', 'https://book.douban.com/subject/30457933/', 'https://book.douban.com/subject/4120670/', 'https://book.douban.com/subject/1038434/', 'https://book.douban.com/subject/26822755/', 'https://book.douban.com/subject/35123335/', 'https://book.douban.com/subject/35332805/', 'https://book.douban.com/subject/1028319/', 'https://book.douban.com/subject/35016930/', 'https://book.douban.com/subject/4057328/', 'https://book.douban.com/subject/2283762/', 'https://book.douban.com/subject/30365962/', 'https://book.douban.com/subject/35436824/', 'https://book.douban.com/subject/27119899/', 'https://book.douban.com/subject/1327400/', 'https://book.douban.com/subject/1276221/', 'https://book.douban.com/subject/2064680/', 'https://book.douban.com/subject/2263456/', 'https://book.douban.com/subject/2085282/', 'https://book.douban.com/subject/30448037/', 'https://book.douban.com/subject/1796574/', 'https://book.douban.com/subject/3168735/', 'https://book.douban.com/subject/1053155/', 'https://book.douban.com/subject/35084778/', 'https://book.douban.com/subject/1440239/', 'https://book.douban.com/subject/1204897/', 'https://book.douban.com/subject/33464844/', 'https://book.douban.com/subject/35600911/', 'https://book.douban.com/subject/35467795/', 'https://book.douban.com/subject/1008149/', 'https://book.douban.com/subject/1247769/', 'https://book.douban.com/subject/27204134/', 'https://book.douban.com/subject/1821233/', 'https://book.douban.com/subject/26804793/', 'https://book.douban.com/subject/1452041/', 'https://book.douban.com/subject/30376561/', 'https://book.douban.com/subject/6722209/', 'https://book.douban.com/subject/4919946/', 'https://book.douban.com/subject/21795494/', 'https://book.douban.com/subject/23081689/', 'https://book.douban.com/subject/30251738/', 'https://book.douban.com/subject/1049337/', 'https://book.douban.com/subject/27034374/', 'https://book.douban.com/subject/26319626/', 'https://book.douban.com/subject/4088900/', 'https://book.douban.com/subject/1518385/', 'https://book.douban.com/subject/1029698/', 'https://book.douban.com/subject/35373911/', 'https://book.douban.com/subject/27030380/', 'https://book.douban.com/subject/34894713/', 'https://book.douban.com/subject/27098002/', 'https://book.douban.com/subject/34988988/', 'https://book.douban.com/subject/2892738/', 'https://book.douban.com/subject/3814407/', 'https://book.douban.com/subject/1780754/', 'https://book.douban.com/subject/25779251/', 'https://book.douban.com/subject/1076277/', 'https://book.douban.com/subject/35494970/', 'https://book.douban.com/subject/5402464/', 'https://book.douban.com/subject/30487620/', 'https://book.douban.com/subject/1006679/', 'https://book.douban.com/subject/1148011/', 'https://book.douban.com/subject/3745137/', 'https://book.douban.com/subject/1223821/', 'https://book.douban.com/subject/3714224/', 'https://book.douban.com/subject/35393402/', 'https://book.douban.com/subject/2845955/', 'https://book.douban.com/subject/25797897/', 'https://book.douban.com/subject/1797405/', 'https://book.douban.com/subject/10560798/', 'https://book.douban.com/subject/27125087/', 'https://book.douban.com/subject/1469818/', 'https://book.douban.com/subject/1424780/', 'https://book.douban.com/subject/4853133/', 'https://book.douban.com/subject/35321248/', 'https://book.douban.com/subject/6772159/', 'https://book.douban.com/subject/27035080/', 'https://book.douban.com/subject/34973161/', 'https://book.douban.com/subject/1464575/', 'https://book.douban.com/subject/35285834/', 'https://book.douban.com/subject/1459730/', 'https://book.douban.com/subject/2308363/', 'https://book.douban.com/subject/1888869/', 'https://book.douban.com/subject/2911906/', 'https://book.douban.com/subject/2011761/', 'https://book.douban.com/subject/1427113/', 'https://book.douban.com/subject/35428011/', 'https://book.douban.com/subject/6784729/', 'https://book.douban.com/subject/2006769/', 'https://book.douban.com/subject/27021062/', 'https://book.douban.com/subject/1005334/', 'https://book.douban.com/subject/30258976/', 'https://book.douban.com/subject/1416502/', 'https://book.douban.com/subject/30457709/', 'https://book.douban.com/subject/1358486/', 'https://book.douban.com/subject/35223290/', 'https://book.douban.com/subject/1443748/', 'https://book.douban.com/subject/1051635/', 'https://book.douban.com/subject/26337287/', 'https://book.douban.com/subject/26687501/', 'https://book.douban.com/subject/26365981/', 'https://book.douban.com/subject/1794085/', 'https://book.douban.com/subject/1372206/', 'https://book.douban.com/subject/4843572/', 'https://book.douban.com/subject/3564058/', 'https://book.douban.com/subject/2039879/', 'https://book.douban.com/subject/1906764/', 'https://book.douban.com/subject/35506259/', 'https://book.douban.com/subject/6797396/', 'https://book.douban.com/subject/26857576/', 'https://book.douban.com/subject/2910866/', 'https://book.douban.com/subject/6101112/', 'https://book.douban.com/subject/4911226/', 'https://book.douban.com/subject/1064298/', 'https://book.douban.com/subject/2216062/', 'https://book.douban.com/subject/7565439/', 'https://book.douban.com/subject/2439299/', 'https://book.douban.com/subject/26986632/', 'https://book.douban.com/subject/27109513/', 'https://book.douban.com/subject/2891926/', 'https://book.douban.com/subject/35094680/', 'https://book.douban.com/subject/6799513/', 'https://book.douban.com/subject/35496098/', 'https://book.douban.com/subject/5304485/', 'https://book.douban.com/subject/1849510/', 'https://book.douban.com/subject/3631274/', 'https://book.douban.com/subject/6746290/', 'https://book.douban.com/subject/26863797/', 'https://book.douban.com/subject/6786761/', 'https://book.douban.com/subject/2113725/', 'https://book.douban.com/subject/2977985/', 'https://book.douban.com/subject/4292171/', 'https://book.douban.com/subject/35006662/', 'https://book.douban.com/subject/10571977/', 'https://book.douban.com/subject/1007819/', 'https://book.douban.com/subject/2230478/', 'https://book.douban.com/subject/1140920/', 'https://book.douban.com/subject/3223683/', 'https://book.douban.com/subject/1790188/', 'https://book.douban.com/subject/30206189/', 'https://book.douban.com/subject/4595950/', 'https://book.douban.com/subject/1016137/', 'https://book.douban.com/subject/35592445/', 'https://book.douban.com/subject/1470719/', 'https://book.douban.com/subject/5363968/', 'https://book.douban.com/subject/3729665/', 'https://book.douban.com/subject/35533063/', 'https://book.douban.com/subject/1327372/', 'https://book.douban.com/subject/35520783/', 'https://book.douban.com/subject/12044570/', 'https://book.douban.com/subject/1036594/', 'https://book.douban.com/subject/2257208/', 'https://book.douban.com/subject/30484795/', 'https://book.douban.com/subject/20435272/', 'https://book.douban.com/subject/1066381/', 'https://book.douban.com/subject/26630480/', 'https://book.douban.com/subject/2904404/', 'https://book.douban.com/subject/6984021/', 'https://book.douban.com/subject/10770777/', 'https://book.douban.com/subject/10592293/', 'https://book.douban.com/subject/3674464/', 'https://book.douban.com/subject/3637605/', 'https://book.douban.com/subject/24703343/', 'https://book.douban.com/subject/2904436/', 'https://book.douban.com/subject/1214837/', 'https://book.douban.com/subject/26653048/', 'https://book.douban.com/subject/24887681/', 'https://book.douban.com/subject/34834155/', 'https://book.douban.com/subject/26986888/', 'https://book.douban.com/subject/3716061/', 'https://book.douban.com/subject/19902865/', 'https://book.douban.com/subject/35293934/', 'https://book.douban.com/subject/23273879/', 'https://book.douban.com/subject/3535940/', 'https://book.douban.com/subject/4882159/', 'https://book.douban.com/subject/35469725/', 'https://book.douban.com/subject/35127718/', 'https://book.douban.com/subject/4155819/', 'https://book.douban.com/subject/1194413/', 'https://book.douban.com/subject/1481139/', 'https://book.douban.com/subject/35114057/', 'https://book.douban.com/subject/27011516/', 'https://book.douban.com/subject/4059587/', 'https://book.douban.com/subject/6194593/', 'https://book.douban.com/subject/26986954/', 'https://book.douban.com/subject/1462732/', 'https://book.douban.com/subject/4268495/', 'https://book.douban.com/subject/1350097/', 'https://book.douban.com/subject/34431443/', 'https://book.douban.com/subject/35375573/', 'https://book.douban.com/subject/5319129/', 'https://book.douban.com/subject/10594780/', 'https://book.douban.com/subject/1753510/', 'https://book.douban.com/subject/4340135/', 'https://book.douban.com/subject/2904567/', 'https://book.douban.com/subject/6892026/', 'https://book.douban.com/subject/34443781/', 'https://book.douban.com/subject/2052614/', 'https://book.douban.com/subject/33006087/', 'https://book.douban.com/subject/10578442/', 'https://book.douban.com/subject/5030413/', 'https://book.douban.com/subject/2204176/', 'https://book.douban.com/subject/1479194/', 'https://book.douban.com/subject/25771419/', 'https://book.douban.com/subject/1335728/', 'https://book.douban.com/subject/35031587/', 'https://book.douban.com/subject/3123760/', 'https://book.douban.com/subject/27091508/', 'https://book.douban.com/subject/35234358/', 'https://book.douban.com/subject/26968635/', 'https://book.douban.com/subject/26864201/', 'https://book.douban.com/subject/30337463/', 'https://book.douban.com/subject/30300838/', 'https://book.douban.com/subject/30274136/', 'https://book.douban.com/subject/4881850/', 'https://book.douban.com/subject/33423966/', 'https://book.douban.com/subject/30448228/', 'https://book.douban.com/subject/30536293/', 'https://book.douban.com/subject/26272191/', 'https://book.douban.com/subject/3097603/', 'https://book.douban.com/subject/10560135/', 'https://book.douban.com/subject/3738253/', 'https://book.douban.com/subject/2843302/', 'https://book.douban.com/subject/1440402/', 'https://book.douban.com/subject/1874371/', 'https://book.douban.com/subject/11412120/', 'https://book.douban.com/subject/35009182/', 'https://book.douban.com/subject/4035232/', 'https://book.douban.com/subject/1274539/', 'https://book.douban.com/subject/20472494/', 'https://book.douban.com/subject/1393331/', 'https://book.douban.com/subject/3378976/', 'https://book.douban.com/subject/34792908/', 'https://book.douban.com/subject/26956493/', 'https://book.douban.com/subject/3091917/', 'https://book.douban.com/subject/6350627/', 'https://book.douban.com/subject/1242235/', 'https://book.douban.com/subject/1845988/', 'https://book.douban.com/subject/3050220/', 'https://book.douban.com/subject/1387252/', 'https://book.douban.com/subject/3640067/', 'https://book.douban.com/subject/25957127/', 'https://book.douban.com/subject/34926039/', 'https://book.douban.com/subject/2005773/', 'https://book.douban.com/subject/2893613/', 'https://book.douban.com/subject/26905360/', 'https://book.douban.com/subject/25819927/', 'https://book.douban.com/subject/35308313/', 'https://book.douban.com/subject/34937631/', 'https://book.douban.com/subject/10517980/', 'https://book.douban.com/subject/35143815/', 'https://book.douban.com/subject/6520484/', 'https://book.douban.com/subject/24845741/', 'https://book.douban.com/subject/3172488/', 'https://book.douban.com/subject/27050813/', 'https://book.douban.com/subject/27050816/', 'https://book.douban.com/subject/35300163/', 'https://book.douban.com/subject/1286984/', 'https://book.douban.com/subject/30163786/', 'https://book.douban.com/subject/3107668/', 'https://book.douban.com/subject/27068218/', 'https://book.douban.com/subject/34925408/', 'https://book.douban.com/subject/4309860/', 'https://book.douban.com/subject/26702705/', 'https://book.douban.com/subject/1979255/', 'https://book.douban.com/subject/2902358/', 'https://book.douban.com/subject/10838911/', 'https://book.douban.com/subject/35586945/', 'https://book.douban.com/subject/35092971/', 'https://book.douban.com/subject/27605893/', 'https://book.douban.com/subject/1358726/', 'https://book.douban.com/subject/3574681/', 'https://book.douban.com/subject/2072047/', 'https://book.douban.com/subject/1835933/', 'https://book.douban.com/subject/30135486/', 'https://book.douban.com/subject/5296966/', 'https://book.douban.com/subject/4019112/', 'https://book.douban.com/subject/6099882/', 'https://book.douban.com/subject/24265651/', 'https://book.douban.com/subject/35627957/', 'https://book.douban.com/subject/2558906/', 'https://book.douban.com/subject/25902011/', 'https://book.douban.com/subject/34454462/', 'https://book.douban.com/subject/26784705/', 'https://book.douban.com/subject/34933701/', 'https://book.douban.com/subject/1359009/', 'https://book.douban.com/subject/11516876/', 'https://book.douban.com/subject/34790851/', 'https://book.douban.com/subject/6522701/', 'https://book.douban.com/subject/3419089/', 'https://book.douban.com/subject/32568276/', 'https://book.douban.com/subject/1020891/', 'https://book.douban.com/subject/1383389/', 'https://book.douban.com/subject/1680350/', 'https://book.douban.com/subject/6519777/', 'https://book.douban.com/subject/1915876/', 'https://book.douban.com/subject/25709052/', 'https://book.douban.com/subject/25740278/', 'https://book.douban.com/subject/30200827/', 'https://book.douban.com/subject/1133565/', 'https://book.douban.com/subject/4480003/', 'https://book.douban.com/subject/19948565/', 'https://book.douban.com/subject/4195839/', 'https://book.douban.com/subject/35117059/', 'https://book.douban.com/subject/1344549/', 'https://book.douban.com/subject/35519529/', 'https://book.douban.com/subject/1956908/', 'https://book.douban.com/subject/26809522/', 'https://book.douban.com/subject/5379118/', 'https://book.douban.com/subject/1342513/', 'https://book.douban.com/subject/6878264/', 'https://book.douban.com/subject/6026299/', 'https://book.douban.com/subject/26690624/', 'https://book.douban.com/subject/22135875/', 'https://book.douban.com/subject/25793606/', 'https://book.douban.com/subject/20560967/', 'https://book.douban.com/subject/1352777/', 'https://book.douban.com/subject/26336332/', 'https://book.douban.com/subject/27620429/', 'https://book.douban.com/subject/27136525/', 'https://book.douban.com/subject/10841177/', 'https://book.douban.com/subject/4240501/', 'https://book.douban.com/subject/4852855/', 'https://book.douban.com/subject/34897019/', 'https://book.douban.com/subject/1893500/', 'https://book.douban.com/subject/27102359/', 'https://book.douban.com/subject/3888286/', 'https://book.douban.com/subject/1967688/', 'https://book.douban.com/subject/26916012/', 'https://book.douban.com/subject/1467573/', 'https://book.douban.com/subject/3443896/', 'https://book.douban.com/subject/2913470/', 'https://book.douban.com/subject/27188415/', 'https://book.douban.com/subject/26969281/', 'https://book.douban.com/subject/27204805/', 'https://book.douban.com/subject/1084614/', 'https://book.douban.com/subject/2556013/', 'https://book.douban.com/subject/3826899/', 'https://book.douban.com/subject/2841071/', 'https://book.douban.com/subject/4555993/', 'https://book.douban.com/subject/1048443/', 'https://book.douban.com/subject/4881639/', 'https://book.douban.com/subject/3773676/', 'https://book.douban.com/subject/3243254/', 'https://book.douban.com/subject/24816887/', 'https://book.douban.com/subject/2988927/', 'https://book.douban.com/subject/7152900/', 'https://book.douban.com/subject/34434309/', 'https://book.douban.com/subject/1043722/', 'https://book.douban.com/subject/1918220/', 'https://book.douban.com/subject/1228046/', 'https://book.douban.com/subject/1314065/', 'https://book.douban.com/subject/35436761/', 'https://book.douban.com/subject/25820440/', 'https://book.douban.com/subject/34813209/', 'https://book.douban.com/subject/35135023/', 'https://book.douban.com/subject/6778144/', 'https://book.douban.com/subject/12277025/', 'https://book.douban.com/subject/30188835/', 'https://book.douban.com/subject/26426673/', 'https://book.douban.com/subject/3222655/', 'https://book.douban.com/subject/35626292/', 'https://book.douban.com/subject/3142966/', 'https://book.douban.com/subject/11978633/', 'https://book.douban.com/subject/25748795/', 'https://book.douban.com/subject/4425023/', 'https://book.douban.com/subject/26979895/', 'https://book.douban.com/subject/27110733/', 'https://book.douban.com/subject/10868064/', 'https://book.douban.com/subject/26895713/', 'https://book.douban.com/subject/3988842/', 'https://book.douban.com/subject/26439021/', 'https://book.douban.com/subject/2505960/', 'https://book.douban.com/subject/26426762/', 'https://book.douban.com/subject/1863055/', 'https://book.douban.com/subject/1964271/', 'https://book.douban.com/subject/20497825/', 'https://book.douban.com/subject/30312119/', 'https://book.douban.com/subject/2903479/', 'https://book.douban.com/subject/2309562/', 'https://book.douban.com/subject/1832380/', 'https://book.douban.com/subject/22793670/', 'https://book.douban.com/subject/33385931/', 'https://book.douban.com/subject/3349981/', 'https://book.douban.com/subject/30172069/', 'https://book.douban.com/subject/35170896/', 'https://book.douban.com/subject/4367851/', 'https://book.douban.com/subject/3208789/', 'https://book.douban.com/subject/1547137/', 'https://book.douban.com/subject/1638656/', 'https://book.douban.com/subject/4818179/', 'https://book.douban.com/subject/4279835/', 'https://book.douban.com/subject/35067482/', 'https://book.douban.com/subject/1181221/', 'https://book.douban.com/subject/33418792/', 'https://book.douban.com/subject/1370716/', 'https://book.douban.com/subject/35030647/', 'https://book.douban.com/subject/26783278/', 'https://book.douban.com/subject/30115763/', 'https://book.douban.com/subject/35130935/', 'https://book.douban.com/subject/2287161/', 'https://book.douban.com/subject/2115130/', 'https://book.douban.com/subject/2129469/', 'https://book.douban.com/subject/1039935/', 'https://book.douban.com/subject/26639940/', 'https://book.douban.com/subject/35350088/', 'https://book.douban.com/subject/2043471/', 'https://book.douban.com/subject/2508371/', 'https://book.douban.com/subject/30144084/', 'https://book.douban.com/subject/2561621/', 'https://book.douban.com/subject/20551268/', 'https://book.douban.com/subject/10739290/', 'https://book.douban.com/subject/1803195/', 'https://book.douban.com/subject/26277048/', 'https://book.douban.com/subject/34809446/', 'https://book.douban.com/subject/3938236/', 'https://book.douban.com/subject/34661994/', 'https://book.douban.com/subject/1062514/', 'https://book.douban.com/subject/1433207/', 'https://book.douban.com/subject/26603131/', 'https://book.douban.com/subject/2004612/', 'https://book.douban.com/subject/2561670/', 'https://book.douban.com/subject/35317383/', 'https://book.douban.com/subject/24847418/', 'https://book.douban.com/subject/3143311/', 'https://book.douban.com/subject/4175504/', 'https://book.douban.com/subject/26435225/', 'https://book.douban.com/subject/6520513/', 'https://book.douban.com/subject/1363614/', 'https://book.douban.com/subject/1371809/', 'https://book.douban.com/subject/27187483/', 'https://book.douban.com/subject/2901576/', 'https://book.douban.com/subject/2078380/', 'https://book.douban.com/subject/35604141/', 'https://book.douban.com/subject/1932974/', 'https://book.douban.com/subject/26799798/', 'https://book.douban.com/subject/24696509/', 'https://book.douban.com/subject/30126977/', 'https://book.douban.com/subject/34950849/', 'https://book.douban.com/subject/35434181/', 'https://book.douban.com/subject/6139592/', 'https://book.douban.com/subject/20258505/', 'https://book.douban.com/subject/33279691/', 'https://book.douban.com/subject/6350541/', 'https://book.douban.com/subject/30303950/', 'https://book.douban.com/subject/26334928/', 'https://book.douban.com/subject/4347602/', 'https://book.douban.com/subject/2189011/', 'https://book.douban.com/subject/26269403/', 'https://book.douban.com/subject/26768616/', 'https://book.douban.com/subject/35002081/', 'https://book.douban.com/subject/24637154/', 'https://book.douban.com/subject/4828901/', 'https://book.douban.com/subject/25814758/', 'https://book.douban.com/subject/1523435/', 'https://book.douban.com/subject/34911983/', 'https://book.douban.com/subject/3249915/', 'https://book.douban.com/subject/4605583/', 'https://book.douban.com/subject/30396158/', 'https://book.douban.com/subject/30160640/', 'https://book.douban.com/subject/30502663/', 'https://book.douban.com/subject/20504332/', 'https://book.douban.com/subject/4286224/', 'https://book.douban.com/subject/26384146/', 'https://book.douban.com/subject/2334340/', 'https://book.douban.com/subject/2897697/', 'https://book.douban.com/subject/34971427/', 'https://book.douban.com/subject/11761420/', 'https://book.douban.com/subject/2080551/', 'https://book.douban.com/subject/25823020/', 'https://book.douban.com/subject/1210159/', 'https://book.douban.com/subject/34785073/', 'https://book.douban.com/subject/26320698/', 'https://book.douban.com/subject/25747867/', 'https://book.douban.com/subject/35045641/', 'https://book.douban.com/subject/26201027/', 'https://book.douban.com/subject/26951488/', 'https://book.douban.com/subject/2367300/', 'https://book.douban.com/subject/1959906/', 'https://book.douban.com/subject/2885467/', 'https://book.douban.com/subject/35045215/', 'https://book.douban.com/subject/35268450/', 'https://book.douban.com/subject/26351467/', 'https://book.douban.com/subject/10577776/', 'https://book.douban.com/subject/30425064/', 'https://book.douban.com/subject/25892724/', 'https://book.douban.com/subject/27912055/', 'https://book.douban.com/subject/35231610/', 'https://book.douban.com/subject/25864059/', 'https://book.douban.com/subject/24870781/', 'https://book.douban.com/subject/3358592/', 'https://book.douban.com/subject/2041159/', 'https://book.douban.com/subject/26357635/', 'https://book.douban.com/subject/35065737/', 'https://book.douban.com/subject/2893708/', 'https://book.douban.com/subject/2003267/', 'https://book.douban.com/subject/2135705/', 'https://book.douban.com/subject/2979736/', 'https://book.douban.com/subject/1085342/', 'https://book.douban.com/subject/35479456/', 'https://book.douban.com/subject/12283811/', 'https://book.douban.com/subject/4507561/', 'https://book.douban.com/subject/1359175/', 'https://book.douban.com/subject/35027273/', 'https://book.douban.com/subject/1060852/', 'https://book.douban.com/subject/30242463/', 'https://book.douban.com/subject/35405756/', 'https://book.douban.com/subject/35385286/', 'https://book.douban.com/subject/5501601/', 'https://book.douban.com/subject/26675150/', 'https://book.douban.com/subject/35422164/', 'https://book.douban.com/subject/2383830/', 'https://book.douban.com/subject/21370840/', 'https://book.douban.com/subject/1347236/', 'https://book.douban.com/subject/27021647/', 'https://book.douban.com/subject/26331472/', 'https://book.douban.com/subject/1095650/', 'https://book.douban.com/subject/3518438/', 'https://book.douban.com/subject/30199787/', 'https://book.douban.com/subject/2146287/', 'https://book.douban.com/subject/4948307/', 'https://book.douban.com/subject/1058804/', 'https://book.douban.com/subject/30148604/', 'https://book.douban.com/subject/35450877/']\n"
     ]
    }
   ],
   "source": [
    "# to get all the urls\n",
    "import requests\n",
    "import random\n",
    "import time\n",
    "import re\n",
    "from bs4 import BeautifulSoup\n",
    "# declaring the list to store data\n",
    "url_list = []\n",
    "# link =  'https://book.douban.com/tag/%E5%A5%B3%E6%9D%83?start=0&type=T‘ \n",
    "# Keyword:“女性主义”\n",
    "# Prevent being judged as a robot\n",
    "headers={'User-Agent':'Mozilla/5.0(Macintosh;Intel Mac OS X 10_15_7)AppleWebKit/537.36(KHTML,like Gecko)Chrome/95.0.4638.54 Safari/537.36'}\n",
    "# Let it turn pages automatically\n",
    "for i in range(0,39):\n",
    "    link =  'https://book.douban.com/tag/%E5%A5%B3%E6%80%A7%E4%B8%BB%E4%B9%89?start={i}&type=T'.format(i= i*20)\n",
    "    r = requests.get(link,headers=headers,timeout=30) \n",
    "    print(link)\n",
    "    soup=BeautifulSoup(r.text,\"lxml\")\n",
    "    A = soup.find_all('div',class_='info')\n",
    "    for each in A:\n",
    "        url = each.find('a').get('href')    #Get the urls\n",
    "        url = url.strip()\n",
    "        url_list.append(url)                #Add each to url_list\n",
    "        time.sleep(random.random()*3)       #Prevent being judged as a robot\n",
    "    \n",
    "print(url_list)"
   ]
  },
  {
   "cell_type": "code",
   "execution_count": 129,
   "id": "c5c3d29a-8f4a-4670-8bc6-5603cdfb699f",
   "metadata": {
    "collapsed": true,
    "jupyter": {
     "outputs_hidden": true
    },
    "tags": []
   },
   "outputs": [
    {
     "name": "stdout",
     "output_type": "stream",
     "text": [
      "https://book.douban.com/tag/%E5%A5%B3%E6%80%A7%E4%B8%BB%E4%B9%89?start=0&type=T\n",
      "https://book.douban.com/tag/%E5%A5%B3%E6%80%A7%E4%B8%BB%E4%B9%89?start=20&type=T\n",
      "https://book.douban.com/tag/%E5%A5%B3%E6%80%A7%E4%B8%BB%E4%B9%89?start=40&type=T\n",
      "https://book.douban.com/tag/%E5%A5%B3%E6%80%A7%E4%B8%BB%E4%B9%89?start=60&type=T\n",
      "https://book.douban.com/tag/%E5%A5%B3%E6%80%A7%E4%B8%BB%E4%B9%89?start=80&type=T\n",
      "https://book.douban.com/tag/%E5%A5%B3%E6%80%A7%E4%B8%BB%E4%B9%89?start=100&type=T\n",
      "https://book.douban.com/tag/%E5%A5%B3%E6%80%A7%E4%B8%BB%E4%B9%89?start=120&type=T\n",
      "https://book.douban.com/tag/%E5%A5%B3%E6%80%A7%E4%B8%BB%E4%B9%89?start=140&type=T\n",
      "https://book.douban.com/tag/%E5%A5%B3%E6%80%A7%E4%B8%BB%E4%B9%89?start=160&type=T\n",
      "https://book.douban.com/tag/%E5%A5%B3%E6%80%A7%E4%B8%BB%E4%B9%89?start=180&type=T\n",
      "https://book.douban.com/tag/%E5%A5%B3%E6%80%A7%E4%B8%BB%E4%B9%89?start=200&type=T\n",
      "https://book.douban.com/tag/%E5%A5%B3%E6%80%A7%E4%B8%BB%E4%B9%89?start=220&type=T\n",
      "https://book.douban.com/tag/%E5%A5%B3%E6%80%A7%E4%B8%BB%E4%B9%89?start=240&type=T\n",
      "https://book.douban.com/tag/%E5%A5%B3%E6%80%A7%E4%B8%BB%E4%B9%89?start=260&type=T\n",
      "https://book.douban.com/tag/%E5%A5%B3%E6%80%A7%E4%B8%BB%E4%B9%89?start=280&type=T\n",
      "https://book.douban.com/tag/%E5%A5%B3%E6%80%A7%E4%B8%BB%E4%B9%89?start=300&type=T\n",
      "https://book.douban.com/tag/%E5%A5%B3%E6%80%A7%E4%B8%BB%E4%B9%89?start=320&type=T\n",
      "https://book.douban.com/tag/%E5%A5%B3%E6%80%A7%E4%B8%BB%E4%B9%89?start=340&type=T\n",
      "https://book.douban.com/tag/%E5%A5%B3%E6%80%A7%E4%B8%BB%E4%B9%89?start=360&type=T\n",
      "https://book.douban.com/tag/%E5%A5%B3%E6%80%A7%E4%B8%BB%E4%B9%89?start=380&type=T\n",
      "https://book.douban.com/tag/%E5%A5%B3%E6%80%A7%E4%B8%BB%E4%B9%89?start=400&type=T\n",
      "https://book.douban.com/tag/%E5%A5%B3%E6%80%A7%E4%B8%BB%E4%B9%89?start=420&type=T\n",
      "https://book.douban.com/tag/%E5%A5%B3%E6%80%A7%E4%B8%BB%E4%B9%89?start=440&type=T\n",
      "https://book.douban.com/tag/%E5%A5%B3%E6%80%A7%E4%B8%BB%E4%B9%89?start=460&type=T\n",
      "https://book.douban.com/tag/%E5%A5%B3%E6%80%A7%E4%B8%BB%E4%B9%89?start=480&type=T\n",
      "https://book.douban.com/tag/%E5%A5%B3%E6%80%A7%E4%B8%BB%E4%B9%89?start=500&type=T\n",
      "https://book.douban.com/tag/%E5%A5%B3%E6%80%A7%E4%B8%BB%E4%B9%89?start=520&type=T\n",
      "https://book.douban.com/tag/%E5%A5%B3%E6%80%A7%E4%B8%BB%E4%B9%89?start=540&type=T\n",
      "https://book.douban.com/tag/%E5%A5%B3%E6%80%A7%E4%B8%BB%E4%B9%89?start=560&type=T\n",
      "https://book.douban.com/tag/%E5%A5%B3%E6%80%A7%E4%B8%BB%E4%B9%89?start=580&type=T\n",
      "https://book.douban.com/tag/%E5%A5%B3%E6%80%A7%E4%B8%BB%E4%B9%89?start=600&type=T\n",
      "https://book.douban.com/tag/%E5%A5%B3%E6%80%A7%E4%B8%BB%E4%B9%89?start=620&type=T\n",
      "https://book.douban.com/tag/%E5%A5%B3%E6%80%A7%E4%B8%BB%E4%B9%89?start=640&type=T\n",
      "https://book.douban.com/tag/%E5%A5%B3%E6%80%A7%E4%B8%BB%E4%B9%89?start=660&type=T\n",
      "https://book.douban.com/tag/%E5%A5%B3%E6%80%A7%E4%B8%BB%E4%B9%89?start=680&type=T\n",
      "https://book.douban.com/tag/%E5%A5%B3%E6%80%A7%E4%B8%BB%E4%B9%89?start=700&type=T\n",
      "https://book.douban.com/tag/%E5%A5%B3%E6%80%A7%E4%B8%BB%E4%B9%89?start=720&type=T\n",
      "https://book.douban.com/tag/%E5%A5%B3%E6%80%A7%E4%B8%BB%E4%B9%89?start=740&type=T\n",
      "https://book.douban.com/tag/%E5%A5%B3%E6%80%A7%E4%B8%BB%E4%B9%89?start=760&type=T\n",
      "['9.0', '9.0', '9.1', '8.3', '8.7', '8.2', '8.3', '8.9', '9.0', '9.1', '9.2', '8.7', '9.0', '8.8', '9.4', '9.3', '9.2', '8.7', '6.2', '8.6', '8.4', '8.0', '8.6', '7.8', '9.0', '9.2', '8.7', '8.5', '7.5', '8.8', '8.8', '8.1', '8.2', '9.3', '', '8.8', '8.5', '8.3', '8.9', '', '9.5', '9.3', '8.9', '7.6', '8.3', '8.2', '8.9', '7.9', '8.2', '9.0', '8.2', '9.1', '8.1', '8.7', '8.3', '8.2', '9.2', '8.6', '7.5', '8.2', '8.7', '8.7', '8.1', '7.9', '8.3', '7.6', '7.1', '9.5', '7.5', '8.1', '7.9', '8.3', '9.6', '8.3', '9.2', '8.5', '9.0', '8.1', '8.9', '9.3', '7.8', '9.2', '8.2', '7.2', '9.0', '8.0', '8.9', '9.0', '9.1', '8.2', '8.3', '8.9', '8.4', '8.3', '7.8', '7.7', '8.7', '8.0', '8.2', '8.5', '7.9', '8.1', '8.7', '7.6', '8.6', '7.2', '7.2', '8.4', '8.0', '8.0', '8.2', '7.4', '7.8', '', '7.9', '8.0', '8.8', '9.2', '7.8', '', '7.9', '8.3', '9.4', '8.9', '7.7', '8.3', '8.7', '8.7', '8.4', '7.8', '8.6', '7.1', '7.2', '7.8', '8.4', '6.6', '7.9', '8.1', '8.3', '9.0', '8.4', '7.8', '7.8', '7.5', '8.4', '8.3', '7.6', '7.8', '8.4', '9.2', '9.3', '8.9', '8.6', '7.6', '8.7', '8.3', '8.0', '6.8', '8.8', '9.4', '9.2', '7.9', '8.0', '7.4', '8.6', '8.8', '7.7', '8.8', '7.5', '9.6', '6.3', '8.7', '8.3', '7.9', '9.2', '9.2', '8.1', '8.5', '7.2', '8.2', '', '7.2', '8.2', '8.2', '8.6', '7.7', '7.5', '9.2', '8.1', '8.7', '7.8', '7.7', '7.8', '9.1', '8.7', '7.4', '9.7', '8.6', '7.8', '8.5', '8.4', '7.6', '8.6', '8.4', '8.5', '7.6', '8.9', '7.5', '7.5', '8.2', '7.9', '8.6', '8.2', '8.1', '9.0', '7.2', '7.0', '7.5', '7.8', '7.7', '8.1', '7.5', '7.3', '8.2', '8.3', '8.5', '8.4', '9.3', '8.8', '7.5', '8.9', '8.4', '8.9', '8.9', '8.0', '8.1', '8.9', '7.5', '', '9.1', '8.9', '7.2', '8.6', '8.1', '7.0', '7.2', '8.3', '6.9', '7.6', '', '8.5', '7.9', '8.0', '8.4', '9.5', '7.6', '8.9', '8.8', '8.2', '', '8.2', '7.8', '8.1', '7.3', '7.5', '8.2', '8.4', '7.3', '7.4', '9.1', '8.3', '7.3', '9.0', '8.6', '7.8', '7.6', '9.3', '7.8', '6.6', '7.2', '8.7', '8.0', '7.5', '7.2', '8.2', '6.9', '9.3', '7.6', '8.2', '9.1', '7.7', '7.8', '8.0', '8.1', '8.3', '8.6', '7.6', '8.1', '8.0', '9.0', '7.7', '7.0', '7.7', '8.6', '9.1', '7.8', '7.7', '8.9', '8.7', '7.6', '8.6', '8.7', '8.1', '6.8', '8.0', '8.5', '9.5', '7.8', '8.1', '9.4', '8.0', '8.2', '7.4', '8.8', '8.2', '8.8', '8.4', '8.4', '9.5', '8.6', '8.4', '8.4', '8.7', '7.3', '8.9', '8.4', '8.0', '', '8.0', '8.5', '7.4', '8.0', '7.4', '8.5', '8.7', '7.7', '7.6', '', '7.8', '7.8', '9.1', '9.0', '9.0', '8.5', '8.0', '', '8.7', '8.6', '7.9', '8.2', '8.0', '8.6', '8.2', '8.5', '7.2', '8.3', '8.9', '7.8', '8.8', '8.9', '8.6', '8.1', '7.5', '8.6', '8.6', '9.3', '', '8.1', '7.6', '7.3', '7.8', '8.8', '8.6', '8.8', '', '7.5', '9.1', '8.3', '7.2', '7.4', '', '8.4', '8.9', '', '8.5', '7.4', '8.1', '9.6', '8.0', '8.2', '7.5', '8.7', '8.1', '8.6', '', '9.1', '7.0', '7.2', '6.9', '8.4', '8.5', '', '', '8.2', '6.3', '8.4', '9.1', '6.0', '8.2', '9.1', '8.8', '8.2', '8.8', '9.4', '7.5', '8.3', '7.3', '8.5', '8.7', '7.4', '8.9', '7.7', '7.8', '9.0', '8.1', '8.2', '8.2', '7.3', '8.1', '8.4', '7.6', '7.9', '7.2', '8.1', '5.7', '9.1', '7.5', '8.9', '7.5', '8.3', '8.4', '', '8.9', '8.4', '8.9', '8.3', '8.2', '9.1', '8.0', '7.0', '8.1', '', '5.8', '8.3', '', '7.0', '8.3', '8.9', '6.5', '8.0', '7.1', '8.5', '8.5', '8.4', '', '8.6', '9.0', '8.1', '8.4', '7.1', '', '8.5', '8.4', '6.7', '8.5', '7.9', '6.9', '8.8', '6.8', '8.4', '8.4', '7.0', '9.2', '7.9', '8.7', '', '7.5', '8.9', '7.6', '7.3', '7.5', '7.7', '7.9', '8.1', '7.6', '7.5', '7.6', '8.3', '8.8', '9.2', '6.9', '6.4', '8.6', '6.8', '7.9', '8.1', '8.1', '7.7', '8.2', '8.6', '7.2', '8.0', '6.2', '7.1', '9.2', '9.2', '7.3', '7.9', '8.1', '7.5', '8.2', '8.4', '9.0', '8.3', '9.0', '9.3', '8.5', '8.8', '8.5', '7.6', '8.0', '', '7.8', '7.6', '7.8', '9.3', '8.2', '7.8', '8.8', '6.8', '7.5', '7.1', '6.9', '7.5', '8.4', '7.5', '8.8', '7.2', '8.5', '8.8', '8.0', '7.8', '', '7.7', '8.2', '8.7', '8.6', '6.4', '7.9', '9.4', '8.2', '7.9', '', '8.6', '9.0', '6.4', '', '7.6', '8.3', '8.0', '8.3', '8.2', '7.7', '8.8', '7.2', '9.9', '8.6', '', '9.5', '8.9', '8.6', '8.6', '8.2', '8.7', '8.8', '7.5', '8.9', '8.3', '8.4', '8.2', '8.0', '9.4', '8.9', '8.8', '7.1', '7.9', '8.1', '8.0', '7.2', '8.9', '', '8.9', '8.7', '8.1', '7.0', '8.6', '6.8', '7.5', '7.7', '7.9', '7.5', '7.1', '7.0', '8.4', '6.6', '8.6']\n",
      "['(23009人评价)', '(905人评价)', '(5788人评价)', '(660人评价)', '(6425人评价)', '(1795人评价)', '(1691人评价)', '(2138人评价)', '(2853人评价)', '(3820人评价)', '(4027人评价)', '(6167人评价)', '(312人评价)', '(10141人评价)', '(1009人评价)', '(717人评价)', '(4223人评价)', '(86人评价)', '(141人评价)', '(318人评价)', '(4353人评价)', '(246人评价)', '(1087人评价)', '(3422人评价)', '(129人评价)', '(321人评价)', '(1344人评价)', '(120人评价)', '(1829人评价)', '(37人评价)', '(9941人评价)', '(17122人评价)', '(142人评价)', '(206人评价)', '(69人评价)', '(86人评价)', '(416人评价)', '(1667人评价)', '(301人评价)', '(48人评价)', '(134人评价)', '(5581人评价)', '(20人评价)', '(466人评价)', '(1390人评价)', '(15人评价)', '(379人评价)', '(222人评价)', '(363人评价)', '(174人评价)', '(2763人评价)', '(37人评价)', '(473人评价)', '(416人评价)', '(4745人评价)', '(2008人评价)', '(48人评价)', '(48人评价)', '(48人评价)', '(248人评价)', '(8915人评价)', '(141人评价)', '(261人评价)', '(85人评价)', '(318人评价)', '(149人评价)', '(108人评价)', '(174人评价)', '(771人评价)', '(137人评价)', '(392人评价)', '(87人评价)', '(16人评价)', '(4990人评价)', '(328人评价)', '(29人评价)', '(191人评价)', '(5443人评价)', '(851人评价)', '(573人评价)', '(215人评价)', '(39人评价)', '(47人评价)', '(1244人评价)', '(24人评价)', '(59人评价)', '(35人评价)', '(64人评价)', '(77人评价)', '(1578人评价)', '(179人评价)', '(94人评价)', '(115人评价)', '(127人评价)', '(100人评价)', '(406人评价)', '(383人评价)', '(665人评价)', '(少于10人评价)', '(515人评价)', '(144人评价)', '(2700人评价)', '(37人评价)', '(111人评价)', '(1086人评价)', '(263人评价)', '(329人评价)', '(2012人评价)', '(235人评价)', '(目前无人评价)', '(2396人评价)', '(4240人评价)', '(少于10人评价)', '(338人评价)', '(206人评价)', '(40人评价)', '(11人评价)', '(158人评价)', '(122人评价)', '(1487人评价)', '(62人评价)', '(125人评价)', '(17人评价)', '(94人评价)', '(224人评价)', '(309人评价)', '(32人评价)', '(103人评价)', '(44人评价)', '(89人评价)', '(412人评价)', '(26人评价)', '(2061人评价)', '(114人评价)', '(156人评价)', '(86人评价)', '(225人评价)', '(265人评价)', '(121人评价)', '(264人评价)', '(77人评价)', '(74人评价)', '(80人评价)', '(77人评价)', '(417人评价)', '(目前无人评价)', '(59人评价)', '(50人评价)', '(1198人评价)', '(231人评价)', '(37人评价)', '(912人评价)', '(193人评价)', '(31人评价)', '(54人评价)', '(17人评价)', '(120人评价)', '(271人评价)', '(333人评价)', '(182人评价)', '(641人评价)', '(1191人评价)', '(30人评价)', '(少于10人评价)', '(93人评价)', '(810人评价)', '(64人评价)', '(561人评价)', '(686人评价)', '(78564人评价)', '(10人评价)', '(38人评价)', '(65人评价)', '(242人评价)', '(38人评价)', '(110人评价)', '(112人评价)', '(50人评价)', '(47人评价)', '(103人评价)', '(24人评价)', '(159人评价)', '(36人评价)', '(501人评价)', '(25人评价)', '(13人评价)', '(332人评价)', '(248人评价)', '(15人评价)', '(65人评价)', '(383人评价)', '(1434人评价)', '(4735人评价)', '(52人评价)', '(77人评价)', '(目前无人评价)', '(少于10人评价)', '(少于10人评价)', '(405人评价)', '(585人评价)', '(198人评价)', '(52人评价)', '(184人评价)', '(44人评价)', '(187人评价)', '(26人评价)', '(169人评价)', '(222人评价)', '(12006人评价)', '(501人评价)', '(43人评价)', '(26人评价)', '(3984人评价)', '(205人评价)', '(1622人评价)', '(134人评价)', '(58人评价)', '(114人评价)', '(7596人评价)', '(94人评价)', '(17人评价)', '(64人评价)', '(10人评价)', '(241人评价)', '(126人评价)', '(105人评价)', '(75人评价)', '(108人评价)', '(121人评价)', '(141人评价)', '(309人评价)', '(1816人评价)', '(34人评价)', '(24人评价)', '(少于10人评价)', '(37人评价)', '(34人评价)', '(49401人评价)', '(60人评价)', '(17760人评价)', '(37人评价)', '(86人评价)', '(79人评价)', '(85人评价)', '(51人评价)', '(1828人评价)', '(110人评价)', '(32人评价)', '(211人评价)', '(847人评价)', '(49人评价)', '(48人评价)', '(46人评价)', '(1584人评价)', '(240人评价)', '(少于10人评价)', '(25人评价)', '(50人评价)', '(31人评价)', '(19人评价)', '(134人评价)', '(少于10人评价)', '(1723人评价)', '(13人评价)', '(1827人评价)', '(34人评价)', '(131人评价)', '(92人评价)', '(52人评价)', '(106人评价)', '(11人评价)', '(301人评价)', '(少于10人评价)', '(51人评价)', '(36人评价)', '(96人评价)', '(115人评价)', '(24人评价)', '(36人评价)', '(58人评价)', '(88人评价)', '(51人评价)', '(3051人评价)', '(43人评价)', '(3719人评价)', '(131人评价)', '(17人评价)', '(1862人评价)', '(少于10人评价)', '(25人评价)', '(271人评价)', '(34人评价)', '(58人评价)', '(27人评价)', '(16人评价)', '(528人评价)', '(31人评价)', '(1093人评价)', '(66人评价)', '(24人评价)', '(1910人评价)', '(72人评价)', '(1340人评价)', '(2671人评价)', '(37人评价)', '(34人评价)', '(35人评价)', '(28人评价)', '(43人评价)', '(48人评价)', '(71人评价)', '(少于10人评价)', '(54人评价)', '(305人评价)', '(46人评价)', '(92人评价)', '(35人评价)', '(103人评价)', '(42人评价)', '(少于10人评价)', '(18人评价)', '(80人评价)', '(38人评价)', '(55785人评价)', '(少于10人评价)', '(66人评价)', '(370人评价)', '(47人评价)', '(114人评价)', '(47人评价)', '(少于10人评价)', '(2523人评价)', '(893人评价)', '(少于10人评价)', '(26人评价)', '(154人评价)', '(20人评价)', '(28人评价)', '(49人评价)', '(112人评价)', '(目前无人评价)', '(84人评价)', '(53人评价)', '(107人评价)', '(59人评价)', '(4266人评价)', '(92人评价)', '(42人评价)', '(92人评价)', '(2184人评价)', '(13人评价)', '(43人评价)', '(104人评价)', '(18人评价)', '(315人评价)', '(76人评价)', '(11人评价)', '(79人评价)', '(13人评价)', '(46人评价)', '(56人评价)', '(510人评价)', '(5068人评价)', '(17人评价)', '(少于10人评价)', '(少于10人评价)', '(25人评价)', '(1484人评价)', '(10人评价)', '(少于10人评价)', '(少于10人评价)', '(113人评价)', '(411人评价)', '(目前无人评价)', '(8481人评价)', '(1149人评价)', '(少于10人评价)', '(少于10人评价)', '(少于10人评价)', '(少于10人评价)', '(1387人评价)', '(5203人评价)', '(少于10人评价)', '(42人评价)', '(12人评价)', '(325人评价)', '(目前无人评价)', '(75人评价)', '(16人评价)', '(少于10人评价)', '(20人评价)', '(126人评价)', '(447人评价)', '(6249人评价)', '(目前无人评价)', '(313人评价)', '(少于10人评价)', '(74人评价)', '(目前无人评价)', '(559人评价)', '(少于10人评价)', '(少于10人评价)', '(48人评价)', '(少于10人评价)', '(少于10人评价)', '(28人评价)', '(15755人评价)', '(221人评价)', '(少于10人评价)', '(4148人评价)', '(目前无人评价)', '(少于10人评价)', '(27人评价)', '(目前无人评价)', '(少于10人评价)', '(少于10人评价)', '(少于10人评价)', '(少于10人评价)', '(14人评价)', '(目前无人评价)', '(891人评价)', '(2646人评价)', '(889人评价)', '(少于10人评价)', '(目前无人评价)', '(10人评价)', '(16人评价)', '(少于10人评价)', '(18547人评价)', '(64人评价)', '(少于10人评价)', '(目前无人评价)', '(43人评价)', '(27人评价)', '(1574人评价)', '(866人评价)', '(10人评价)', '(737人评价)', '(62274人评价)', '(39人评价)', '(少于10人评价)', '(273人评价)', '(少于10人评价)', '(163人评价)', '(10人评价)', '(952人评价)', '(35人评价)', '(少于10人评价)', '(目前无人评价)', '(13人评价)', '(29人评价)', '(85人评价)', '(目前无人评价)', '(814人评价)', '(28人评价)', '(16人评价)', '(2098人评价)', '(少于10人评价)', '(24人评价)', '(22667人评价)', '(目前无人评价)', '(少于10人评价)', '(少于10人评价)', '(少于10人评价)', '(549人评价)', '(目前无人评价)', '(146人评价)', '(10人评价)', '(15524人评价)', '(259人评价)', '(36人评价)', '(少于10人评价)', '(762人评价)', '(38人评价)', '(少于10人评价)', '(少于10人评价)', '(少于10人评价)', '(1278人评价)', '(11人评价)', '(11人评价)', '(22人评价)', '(13人评价)', '(28人评价)', '(263人评价)', '(102人评价)', '(少于10人评价)', '(31人评价)', '(少于10人评价)', '(17人评价)', '(目前无人评价)', '(75人评价)', '(少于10人评价)', '(少于10人评价)', '(10人评价)', '(3322人评价)', '(26人评价)', '(1241人评价)', '(53人评价)', '(14人评价)', '(1273人评价)', '(236人评价)', '(1416人评价)', '(1170人评价)', '(17人评价)', '(29人评价)', '(170人评价)', '(731人评价)', '(少于10人评价)', '(136人评价)', '(122人评价)', '(390人评价)', '(32人评价)', '(42人评价)', '(68人评价)', '(30人评价)', '(131人评价)', '(少于10人评价)', '(86人评价)', '(27人评价)', '(少于10人评价)', '(少于10人评价)', '(38人评价)', '(252人评价)', '(14人评价)', '(少于10人评价)', '(少于10人评价)', '(少于10人评价)', '(18人评价)', '(少于10人评价)', '(163人评价)', '(目前无人评价)', '(14人评价)', '(11人评价)', '(目前无人评价)', '(少于10人评价)', '(51人评价)', '(733人评价)', '(少于10人评价)', '(4357人评价)', '(50人评价)', '(34人评价)', '(205人评价)', '(16人评价)', '(22人评价)', '(37人评价)', '(少于10人评价)', '(11人评价)', '(30人评价)', '(331人评价)', '(少于10人评价)', '(11人评价)', '(95人评价)', '(813人评价)', '(379人评价)', '(39人评价)', '(少于10人评价)', '(14人评价)', '(150人评价)', '(82人评价)', '(31人评价)', '(31人评价)', '(10人评价)', '(23人评价)', '(27人评价)', '(308人评价)', '(目前无人评价)', '(596人评价)', '(少于10人评价)', '(64人评价)', '(10人评价)', '(49人评价)', '(42人评价)', '(17人评价)', '(28人评价)', '(目前无人评价)', '(37人评价)', '(少于10人评价)', '(少于10人评价)', '(38人评价)', '(少于10人评价)', '(15人评价)', '(82人评价)', '(3099人评价)', '(37人评价)', '(13人评价)', '(目前无人评价)', '(少于10人评价)', '(少于10人评价)', '(11870人评价)', '(142人评价)', '(目前无人评价)', '(10439人评价)', '(13人评价)', '(少于10人评价)', '(180人评价)', '(25667人评价)', '(15人评价)', '(少于10人评价)', '(15人评价)', '(205人评价)', '(155人评价)', '(71566人评价)', '(少于10人评价)', '(1272人评价)', '(281人评价)', '(35人评价)', '(651人评价)', '(909人评价)', '(6450人评价)', '(少于10人评价)', '(少于10人评价)', '(目前无人评价)', '(23人评价)', '(39人评价)', '(少于10人评价)', '(目前无人评价)', '(少于10人评价)', '(少于10人评价)', '(少于10人评价)', '(目前无人评价)', '(31人评价)', '(12891人评价)', '(18人评价)', '(少于10人评价)', '(1968人评价)', '(少于10人评价)', '(少于10人评价)', '(52人评价)', '(15人评价)', '(345人评价)', '(28人评价)', '(2084人评价)', '(少于10人评价)', '(92人评价)', '(123人评价)', '(59人评价)', '(少于10人评价)', '(103人评价)', '(51691人评价)', '(5520人评价)', '(目前无人评价)', '(52人评价)', '(42人评价)', '(18人评价)', '(少于10人评价)', '(44人评价)', '(20人评价)', '(171人评价)', '(少于10人评价)', '(242人评价)', '(44人评价)', '(21人评价)', '(949人评价)', '(目前无人评价)', '(16人评价)', '(19人评价)', '(15人评价)', '(21人评价)', '(33人评价)', '(少于10人评价)', '(少于10人评价)', '(少于10人评价)', '(10人评价)', '(少于10人评价)', '(少于10人评价)', '(6146人评价)', '(204人评价)', '(45人评价)', '(198人评价)', '(少于10人评价)', '(472人评价)', '(3862人评价)', '(480人评价)', '(121人评价)', '(17人评价)', '(少于10人评价)', '(21人评价)', '(1089人评价)', '(30人评价)', '(79人评价)', '(50人评价)', '(111人评价)', '(114人评价)', '(21人评价)', '(211人评价)', '(23人评价)', '(55人评价)', '(少于10人评价)', '(12人评价)', '(34人评价)', '(14人评价)', '(391人评价)', '(980人评价)', '(28人评价)', '(8382人评价)', '(1545人评价)', '(目前无人评价)', '(目前无人评价)', '(263人评价)', '(15人评价)', '(10人评价)', '(少于10人评价)', '(239人评价)', '(少于10人评价)', '(23人评价)', '(少于10人评价)', '(31人评价)', '(10人评价)', '(21人评价)', '(8194人评价)', '(46人评价)', '(915人评价)', '(45人评价)', '(少于10人评价)', '(14人评价)', '(少于10人评价)', '(少于10人评价)', '(232人评价)', '(22人评价)', '(66人评价)', '(59人评价)', '(13人评价)', '(65人评价)', '(49人评价)', '(87人评价)', '(454人评价)', '(少于10人评价)', '(1143人评价)', '(128人评价)', '(少于10人评价)', '(少于10人评价)', '(16人评价)', '(211人评价)', '(少于10人评价)', '(392人评价)', '(2402人评价)', '(少于10人评价)', '(27人评价)', '(少于10人评价)', '(13人评价)', '(68人评价)', '(30人评价)', '(68人评价)', '(173人评价)', '(118人评价)', '(少于10人评价)', '(1135人评价)', '(少于10人评价)', '(少于10人评价)', '(少于10人评价)', '(13人评价)', '(763人评价)', '(少于10人评价)', '(334人评价)', '(目前无人评价)', '(目前无人评价)', '(21人评价)', '(10人评价)', '(70683人评价)', '(12人评价)', '(少于10人评价)', '(41人评价)', '(15人评价)', '(54人评价)', '(目前无人评价)', '(16人评价)', '(5982人评价)', '(少于10人评价)', '(93人评价)', '(少于10人评价)', '(38人评价)', '(78人评价)', '(308人评价)', '(16人评价)', '(少于10人评价)', '(683人评价)', '(52人评价)', '(19人评价)']\n"
     ]
    }
   ],
   "source": [
    "# Get all the ratings and the number of people who rates\n",
    "import requests\n",
    "import random\n",
    "import time\n",
    "import re\n",
    "from bs4 import BeautifulSoup\n",
    "# declaring the lists to store data\n",
    "rating_list = []\n",
    "ppl_list = []\n",
    "# link =  'https://book.douban.com/tag/%E5%A5%B3%E6%9D%83?start=0&type=T‘ \n",
    "# Keyword:“女性主义”\n",
    "# Prevent being judged as a robot\n",
    "headers={'User-Agent':'Mozilla/5.0(Macintosh;Intel Mac OS X 10_15_7)AppleWebKit/537.36(KHTML,like Gecko)Chrome/95.0.4638.54 Safari/537.36'}\n",
    "# Let it turn pages automatically\n",
    "for i in range(0,39):\n",
    "    link =  'https://book.douban.com/tag/%E5%A5%B3%E6%80%A7%E4%B8%BB%E4%B9%89?start={i}&type=T'.format(i= i*20)\n",
    "    r = requests.get(link,headers=headers,timeout=30) \n",
    "    print(link)\n",
    "    soup=BeautifulSoup(r.text,\"lxml\")\n",
    "    A = soup.find_all('ul',class_='subject-list')\n",
    "    B = soup.find_all('span',class_='rating_nums')\n",
    "    C = soup.find_all('span',class_='pl')\n",
    "    for each in B:\n",
    "        rating = each.text.strip()  #Get the ratings\n",
    "        rating_list.append(rating)  #Add each to rating_list\n",
    "    for pl in C:\n",
    "        ppl = pl.text.strip() #Get the number of ppl\n",
    "        ppl_list.append(ppl)  #Add each to ppl_list\n",
    "        time.sleep(random.random()*3) #Prevent being judged as a robot\n",
    "\n",
    "print(rating_list)\n",
    "print(ppl_list)"
   ]
  },
  {
   "cell_type": "code",
   "execution_count": 141,
   "id": "cb07e1f3-382c-4320-a52d-5e19715e4d91",
   "metadata": {
    "collapsed": true,
    "jupyter": {
     "outputs_hidden": true
    },
    "tags": []
   },
   "outputs": [
    {
     "name": "stdout",
     "output_type": "stream",
     "text": [
      "https://book.douban.com/tag/%E5%A5%B3%E6%80%A7%E4%B8%BB%E4%B9%89?start=0&type=T\n",
      "https://book.douban.com/tag/%E5%A5%B3%E6%80%A7%E4%B8%BB%E4%B9%89?start=20&type=T\n",
      "https://book.douban.com/tag/%E5%A5%B3%E6%80%A7%E4%B8%BB%E4%B9%89?start=40&type=T\n",
      "https://book.douban.com/tag/%E5%A5%B3%E6%80%A7%E4%B8%BB%E4%B9%89?start=60&type=T\n",
      "https://book.douban.com/tag/%E5%A5%B3%E6%80%A7%E4%B8%BB%E4%B9%89?start=80&type=T\n",
      "https://book.douban.com/tag/%E5%A5%B3%E6%80%A7%E4%B8%BB%E4%B9%89?start=100&type=T\n",
      "https://book.douban.com/tag/%E5%A5%B3%E6%80%A7%E4%B8%BB%E4%B9%89?start=120&type=T\n",
      "https://book.douban.com/tag/%E5%A5%B3%E6%80%A7%E4%B8%BB%E4%B9%89?start=140&type=T\n",
      "https://book.douban.com/tag/%E5%A5%B3%E6%80%A7%E4%B8%BB%E4%B9%89?start=160&type=T\n",
      "https://book.douban.com/tag/%E5%A5%B3%E6%80%A7%E4%B8%BB%E4%B9%89?start=180&type=T\n",
      "https://book.douban.com/tag/%E5%A5%B3%E6%80%A7%E4%B8%BB%E4%B9%89?start=200&type=T\n",
      "https://book.douban.com/tag/%E5%A5%B3%E6%80%A7%E4%B8%BB%E4%B9%89?start=220&type=T\n",
      "https://book.douban.com/tag/%E5%A5%B3%E6%80%A7%E4%B8%BB%E4%B9%89?start=240&type=T\n",
      "https://book.douban.com/tag/%E5%A5%B3%E6%80%A7%E4%B8%BB%E4%B9%89?start=260&type=T\n",
      "https://book.douban.com/tag/%E5%A5%B3%E6%80%A7%E4%B8%BB%E4%B9%89?start=280&type=T\n",
      "https://book.douban.com/tag/%E5%A5%B3%E6%80%A7%E4%B8%BB%E4%B9%89?start=300&type=T\n",
      "https://book.douban.com/tag/%E5%A5%B3%E6%80%A7%E4%B8%BB%E4%B9%89?start=320&type=T\n",
      "https://book.douban.com/tag/%E5%A5%B3%E6%80%A7%E4%B8%BB%E4%B9%89?start=340&type=T\n",
      "https://book.douban.com/tag/%E5%A5%B3%E6%80%A7%E4%B8%BB%E4%B9%89?start=360&type=T\n",
      "https://book.douban.com/tag/%E5%A5%B3%E6%80%A7%E4%B8%BB%E4%B9%89?start=380&type=T\n",
      "https://book.douban.com/tag/%E5%A5%B3%E6%80%A7%E4%B8%BB%E4%B9%89?start=400&type=T\n",
      "https://book.douban.com/tag/%E5%A5%B3%E6%80%A7%E4%B8%BB%E4%B9%89?start=420&type=T\n",
      "https://book.douban.com/tag/%E5%A5%B3%E6%80%A7%E4%B8%BB%E4%B9%89?start=440&type=T\n",
      "https://book.douban.com/tag/%E5%A5%B3%E6%80%A7%E4%B8%BB%E4%B9%89?start=460&type=T\n",
      "https://book.douban.com/tag/%E5%A5%B3%E6%80%A7%E4%B8%BB%E4%B9%89?start=480&type=T\n",
      "https://book.douban.com/tag/%E5%A5%B3%E6%80%A7%E4%B8%BB%E4%B9%89?start=500&type=T\n",
      "https://book.douban.com/tag/%E5%A5%B3%E6%80%A7%E4%B8%BB%E4%B9%89?start=520&type=T\n",
      "https://book.douban.com/tag/%E5%A5%B3%E6%80%A7%E4%B8%BB%E4%B9%89?start=540&type=T\n",
      "https://book.douban.com/tag/%E5%A5%B3%E6%80%A7%E4%B8%BB%E4%B9%89?start=560&type=T\n",
      "https://book.douban.com/tag/%E5%A5%B3%E6%80%A7%E4%B8%BB%E4%B9%89?start=580&type=T\n",
      "https://book.douban.com/tag/%E5%A5%B3%E6%80%A7%E4%B8%BB%E4%B9%89?start=600&type=T\n",
      "https://book.douban.com/tag/%E5%A5%B3%E6%80%A7%E4%B8%BB%E4%B9%89?start=620&type=T\n",
      "https://book.douban.com/tag/%E5%A5%B3%E6%80%A7%E4%B8%BB%E4%B9%89?start=640&type=T\n",
      "https://book.douban.com/tag/%E5%A5%B3%E6%80%A7%E4%B8%BB%E4%B9%89?start=660&type=T\n",
      "https://book.douban.com/tag/%E5%A5%B3%E6%80%A7%E4%B8%BB%E4%B9%89?start=680&type=T\n",
      "https://book.douban.com/tag/%E5%A5%B3%E6%80%A7%E4%B8%BB%E4%B9%89?start=700&type=T\n",
      "https://book.douban.com/tag/%E5%A5%B3%E6%80%A7%E4%B8%BB%E4%B9%89?start=720&type=T\n",
      "https://book.douban.com/tag/%E5%A5%B3%E6%80%A7%E4%B8%BB%E4%B9%89?start=740&type=T\n",
      "https://book.douban.com/tag/%E5%A5%B3%E6%80%A7%E4%B8%BB%E4%B9%89?start=760&type=T\n",
      "['9.0\\n\\n        (23063人评价)', '9.0\\n\\n        (930人评价)', '9.1\\n\\n        (5801人评价)', '8.3\\n\\n        (669人评价)', '8.7\\n\\n        (6430人评价)', '8.2\\n\\n        (1804人评价)', '8.3\\n\\n        (1722人评价)', '8.9\\n\\n        (2144人评价)', '9.0\\n\\n        (2864人评价)', '9.1\\n\\n        (3823人评价)', '9.2\\n\\n        (4037人评价)', '8.7\\n\\n        (6170人评价)', '9.0\\n\\n        (314人评价)', '8.8\\n\\n        (10147人评价)', '9.4\\n\\n        (1014人评价)', '9.3\\n\\n        (717人评价)', '9.2\\n\\n        (4226人评价)', '8.7\\n\\n        (86人评价)', '6.2\\n\\n        (141人评价)', '8.6\\n\\n        (318人评价)', '8.4\\n\\n        (4361人评价)', '8.0\\n\\n        (248人评价)', '8.6\\n\\n        (1090人评价)', '7.8\\n\\n        (3426人评价)', '9.0\\n\\n        (129人评价)', '9.2\\n\\n        (322人评价)', '8.7\\n\\n        (1345人评价)', '8.5\\n\\n        (120人评价)', '7.5\\n\\n        (1832人评价)', '8.8\\n\\n        (37人评价)', '8.8\\n\\n        (9943人评价)', '8.1\\n\\n        (17126人评价)', '8.2\\n\\n        (144人评价)', '9.3\\n\\n        (210人评价)', '(76人评价)', '8.8\\n\\n        (87人评价)', '8.5\\n\\n        (416人评价)', '8.3\\n\\n        (1668人评价)', '8.9\\n\\n        (301人评价)', '(51人评价)', '9.5\\n\\n        (134人评价)', '9.3\\n\\n        (5583人评价)', '8.9\\n\\n        (20人评价)', '7.6\\n\\n        (466人评价)', '8.3\\n\\n        (1390人评价)', '8.2\\n\\n        (16人评价)', '8.9\\n\\n        (380人评价)', '7.9\\n\\n        (225人评价)', '8.2\\n\\n        (364人评价)', '9.0\\n\\n        (174人评价)', '8.2\\n\\n        (2766人评价)', '9.1\\n\\n        (37人评价)', '8.1\\n\\n        (473人评价)', '8.7\\n\\n        (416人评价)', '8.3\\n\\n        (4747人评价)', '8.2\\n\\n        (2009人评价)', '9.2\\n\\n        (49人评价)', '8.6\\n\\n        (49人评价)', '7.5\\n\\n        (48人评价)', '8.2\\n\\n        (248人评价)', '8.7\\n\\n        (8916人评价)', '8.7\\n\\n        (141人评价)', '8.1\\n\\n        (261人评价)', '7.9\\n\\n        (85人评价)', '8.3\\n\\n        (318人评价)', '7.6\\n\\n        (149人评价)', '7.1\\n\\n        (108人评价)', '9.5\\n\\n        (175人评价)', '7.5\\n\\n        (771人评价)', '8.1\\n\\n        (137人评价)', '7.9\\n\\n        (392人评价)', '8.3\\n\\n        (87人评价)', '9.6\\n\\n        (16人评价)', '8.3\\n\\n        (4990人评价)', '9.2\\n\\n        (328人评价)', '8.5\\n\\n        (30人评价)', '9.0\\n\\n        (191人评价)', '8.1\\n\\n        (5560人评价)', '8.9\\n\\n        (852人评价)', '9.3\\n\\n        (575人评价)', '7.8\\n\\n        (215人评价)', '9.2\\n\\n        (39人评价)', '8.2\\n\\n        (47人评价)', '7.2\\n\\n        (1245人评价)', '9.0\\n\\n        (24人评价)', '8.0\\n\\n        (59人评价)', '8.9\\n\\n        (35人评价)', '9.0\\n\\n        (64人评价)', '9.1\\n\\n        (77人评价)', '8.2\\n\\n        (1578人评价)', '8.3\\n\\n        (179人评价)', '8.9\\n\\n        (95人评价)', '8.4\\n\\n        (115人评价)', '8.3\\n\\n        (127人评价)', '7.8\\n\\n        (100人评价)', '7.7\\n\\n        (407人评价)', '8.7\\n\\n        (383人评价)', '8.0\\n\\n        (665人评价)', '(少于10人评价)', '8.2\\n\\n        (515人评价)', '8.5\\n\\n        (144人评价)', '7.9\\n\\n        (2703人评价)', '8.1\\n\\n        (37人评价)', '8.7\\n\\n        (111人评价)', '7.6\\n\\n        (1086人评价)', '8.6\\n\\n        (263人评价)', '7.2\\n\\n        (331人评价)', '7.2\\n\\n        (2012人评价)', '8.4\\n\\n        (235人评价)', '(目前无人评价)', '8.0\\n\\n        (2396人评价)', '8.0\\n\\n        (4269人评价)', '(少于10人评价)', '8.2\\n\\n        (338人评价)', '7.4\\n\\n        (206人评价)', '7.8\\n\\n        (40人评价)', '(11人评价)', '7.9\\n\\n        (158人评价)', '8.0\\n\\n        (122人评价)', '8.8\\n\\n        (1490人评价)', '9.2\\n\\n        (62人评价)', '7.8\\n\\n        (125人评价)', '(17人评价)', '7.9\\n\\n        (94人评价)', '8.3\\n\\n        (224人评价)', '9.4\\n\\n        (309人评价)', '8.8\\n\\n        (33人评价)', '7.7\\n\\n        (103人评价)', '8.3\\n\\n        (44人评价)', '8.7\\n\\n        (89人评价)', '8.7\\n\\n        (412人评价)', '8.4\\n\\n        (26人评价)', '7.8\\n\\n        (2061人评价)', '8.6\\n\\n        (114人评价)', '7.1\\n\\n        (156人评价)', '7.2\\n\\n        (86人评价)', '7.8\\n\\n        (225人评价)', '8.4\\n\\n        (266人评价)', '6.6\\n\\n        (123人评价)', '7.9\\n\\n        (265人评价)', '8.1\\n\\n        (77人评价)', '8.3\\n\\n        (74人评价)', '9.0\\n\\n        (80人评价)', '8.4\\n\\n        (77人评价)', '7.8\\n\\n        (417人评价)', '(目前无人评价)', '7.8\\n\\n        (59人评价)', '7.5\\n\\n        (50人评价)', '8.4\\n\\n        (1198人评价)', '8.3\\n\\n        (231人评价)', '7.6\\n\\n        (37人评价)', '7.8\\n\\n        (912人评价)', '8.4\\n\\n        (193人评价)', '9.2\\n\\n        (31人评价)', '9.3\\n\\n        (54人评价)', '8.9\\n\\n        (17人评价)', '8.6\\n\\n        (120人评价)', '7.6\\n\\n        (271人评价)', '8.7\\n\\n        (333人评价)', '8.3\\n\\n        (182人评价)', '8.0\\n\\n        (643人评价)', '6.8\\n\\n        (1191人评价)', '8.8\\n\\n        (31人评价)', '(少于10人评价)', '9.4\\n\\n        (93人评价)', '9.2\\n\\n        (810人评价)', '7.9\\n\\n        (66人评价)', '8.0\\n\\n        (561人评价)', '7.4\\n\\n        (686人评价)', '8.6\\n\\n        (78584人评价)', '8.8\\n\\n        (10人评价)', '7.7\\n\\n        (38人评价)', '8.8\\n\\n        (65人评价)', '7.5\\n\\n        (242人评价)', '9.6\\n\\n        (38人评价)', '6.3\\n\\n        (110人评价)', '8.7\\n\\n        (112人评价)', '8.3\\n\\n        (50人评价)', '7.9\\n\\n        (47人评价)', '9.2\\n\\n        (103人评价)', '9.2\\n\\n        (24人评价)', '8.1\\n\\n        (160人评价)', '8.5\\n\\n        (36人评价)', '7.2\\n\\n        (501人评价)', '8.2\\n\\n        (25人评价)', '(14人评价)', '7.2\\n\\n        (332人评价)', '8.2\\n\\n        (248人评价)', '8.2\\n\\n        (15人评价)', '8.6\\n\\n        (65人评价)', '7.7\\n\\n        (384人评价)', '7.5\\n\\n        (1443人评价)', '9.2\\n\\n        (4749人评价)', '8.1\\n\\n        (52人评价)', '8.7\\n\\n        (78人评价)', '(目前无人评价)', '(少于10人评价)', '(少于10人评价)', '7.8\\n\\n        (405人评价)', '7.7\\n\\n        (585人评价)', '7.8\\n\\n        (198人评价)', '9.1\\n\\n        (52人评价)', '8.7\\n\\n        (184人评价)', '7.4\\n\\n        (44人评价)', '9.7\\n\\n        (187人评价)', '8.6\\n\\n        (26人评价)', '7.8\\n\\n        (169人评价)', '8.5\\n\\n        (222人评价)', '8.4\\n\\n        (12012人评价)', '7.6\\n\\n        (501人评价)', '8.6\\n\\n        (43人评价)', '8.3\\n\\n        (27人评价)', '8.5\\n\\n        (3984人评价)', '7.6\\n\\n        (205人评价)', '8.9\\n\\n        (1622人评价)', '7.5\\n\\n        (134人评价)', '7.5\\n\\n        (58人评价)', '8.2\\n\\n        (114人评价)', '7.9\\n\\n        (7605人评价)', '8.6\\n\\n        (94人评价)', '8.2\\n\\n        (17人评价)', '8.1\\n\\n        (64人评价)', '9.0\\n\\n        (10人评价)', '7.2\\n\\n        (241人评价)', '7.0\\n\\n        (126人评价)', '7.5\\n\\n        (105人评价)', '7.8\\n\\n        (75人评价)', '7.7\\n\\n        (108人评价)', '8.1\\n\\n        (121人评价)', '7.5\\n\\n        (141人评价)', '7.3\\n\\n        (310人评价)', '8.2\\n\\n        (1816人评价)', '8.3\\n\\n        (34人评价)', '8.6\\n\\n        (24人评价)', '(少于10人评价)', '8.4\\n\\n        (37人评价)', '9.3\\n\\n        (34人评价)', '8.8\\n\\n        (49425人评价)', '7.5\\n\\n        (60人评价)', '8.9\\n\\n        (17802人评价)', '8.4\\n\\n        (37人评价)', '8.9\\n\\n        (86人评价)', '8.9\\n\\n        (79人评价)', '8.0\\n\\n        (85人评价)', '8.1\\n\\n        (51人评价)', '8.9\\n\\n        (1833人评价)', '7.5\\n\\n        (110人评价)', '(32人评价)', '9.1\\n\\n        (211人评价)', '8.9\\n\\n        (847人评价)', '7.2\\n\\n        (49人评价)', '8.6\\n\\n        (48人评价)', '8.1\\n\\n        (46人评价)', '7.0\\n\\n        (1587人评价)', '7.2\\n\\n        (240人评价)', '(少于10人评价)', '8.3\\n\\n        (25人评价)', '6.9\\n\\n        (50人评价)', '7.6\\n\\n        (31人评价)', '(19人评价)', '8.5\\n\\n        (134人评价)', '(少于10人评价)', '7.9\\n\\n        (1726人评价)', '8.0\\n\\n        (13人评价)', '8.4\\n\\n        (1828人评价)', '9.5\\n\\n        (34人评价)', '7.6\\n\\n        (132人评价)', '8.9\\n\\n        (92人评价)', '8.8\\n\\n        (52人评价)', '8.2\\n\\n        (106人评价)', '(11人评价)', '8.2\\n\\n        (301人评价)', '(少于10人评价)', '7.8\\n\\n        (51人评价)', '8.1\\n\\n        (36人评价)', '7.3\\n\\n        (96人评价)', '7.5\\n\\n        (115人评价)', '8.2\\n\\n        (25人评价)', '8.4\\n\\n        (36人评价)', '7.3\\n\\n        (58人评价)', '7.4\\n\\n        (88人评价)', '9.1\\n\\n        (51人评价)', '8.3\\n\\n        (3077人评价)', '7.3\\n\\n        (43人评价)', '9.0\\n\\n        (3720人评价)', '8.6\\n\\n        (131人评价)', '7.8\\n\\n        (17人评价)', '7.6\\n\\n        (1866人评价)', '(少于10人评价)', '9.3\\n\\n        (25人评价)', '7.8\\n\\n        (271人评价)', '6.6\\n\\n        (34人评价)', '7.2\\n\\n        (58人评价)', '8.7\\n\\n        (27人评价)', '8.0\\n\\n        (16人评价)', '7.5\\n\\n        (529人评价)', '7.2\\n\\n        (31人评价)', '8.2\\n\\n        (1093人评价)', '6.9\\n\\n        (66人评价)', '9.3\\n\\n        (24人评价)', '7.6\\n\\n        (1910人评价)', '8.2\\n\\n        (72人评价)', '9.1\\n\\n        (1341人评价)', '7.7\\n\\n        (2673人评价)', '7.8\\n\\n        (37人评价)', '8.0\\n\\n        (34人评价)', '8.1\\n\\n        (35人评价)', '8.3\\n\\n        (28人评价)', '8.6\\n\\n        (43人评价)', '7.6\\n\\n        (48人评价)', '8.1\\n\\n        (71人评价)', '(少于10人评价)', '8.0\\n\\n        (54人评价)', '9.0\\n\\n        (305人评价)', '7.7\\n\\n        (46人评价)', '7.0\\n\\n        (92人评价)', '7.7\\n\\n        (35人评价)', '8.6\\n\\n        (103人评价)', '9.1\\n\\n        (42人评价)', '(少于10人评价)', '7.8\\n\\n        (18人评价)', '7.7\\n\\n        (80人评价)', '8.9\\n\\n        (38人评价)', '8.7\\n\\n        (55818人评价)', '(少于10人评价)', '7.6\\n\\n        (66人评价)', '8.6\\n\\n        (370人评价)', '8.7\\n\\n        (47人评价)', '8.1\\n\\n        (114人评价)', '6.8\\n\\n        (47人评价)', '(少于10人评价)', '8.0\\n\\n        (2525人评价)', '8.5\\n\\n        (894人评价)', '(少于10人评价)', '9.5\\n\\n        (26人评价)', '7.8\\n\\n        (154人评价)', '8.1\\n\\n        (20人评价)', '9.4\\n\\n        (28人评价)', '8.0\\n\\n        (49人评价)', '8.2\\n\\n        (112人评价)', '(目前无人评价)', '7.4\\n\\n        (84人评价)', '8.8\\n\\n        (53人评价)', '8.2\\n\\n        (107人评价)', '8.8\\n\\n        (59人评价)', '8.4\\n\\n        (4266人评价)', '8.4\\n\\n        (92人评价)', '9.5\\n\\n        (42人评价)', '8.6\\n\\n        (92人评价)', '8.4\\n\\n        (2187人评价)', '8.4\\n\\n        (13人评价)', '8.7\\n\\n        (43人评价)', '7.3\\n\\n        (104人评价)', '8.9\\n\\n        (18人评价)', '8.4\\n\\n        (315人评价)', '8.0\\n\\n        (76人评价)', '(11人评价)', '8.0\\n\\n        (79人评价)', '8.5\\n\\n        (13人评价)', '7.4\\n\\n        (46人评价)', '8.0\\n\\n        (56人评价)', '7.4\\n\\n        (510人评价)', '8.5\\n\\n        (5068人评价)', '8.7\\n\\n        (17人评价)', '(少于10人评价)', '(少于10人评价)', '7.7\\n\\n        (25人评价)', '7.6\\n\\n        (1484人评价)', '(10人评价)', '(少于10人评价)', '(少于10人评价)', '7.8\\n\\n        (113人评价)', '7.8\\n\\n        (412人评价)', '(目前无人评价)', '9.1\\n\\n        (8495人评价)', '9.0\\n\\n        (1149人评价)', '(少于10人评价)', '(少于10人评价)', '(少于10人评价)', '(少于10人评价)', '9.0\\n\\n        (1387人评价)', '8.5\\n\\n        (5209人评价)', '(少于10人评价)', '8.0\\n\\n        (42人评价)', '(12人评价)', '8.7\\n\\n        (326人评价)', '(目前无人评价)', '8.6\\n\\n        (75人评价)', '7.9\\n\\n        (16人评价)', '(少于10人评价)', '8.2\\n\\n        (20人评价)', '8.0\\n\\n        (126人评价)', '8.6\\n\\n        (447人评价)', '8.2\\n\\n        (6251人评价)', '(目前无人评价)', '8.5\\n\\n        (314人评价)', '(少于10人评价)', '7.2\\n\\n        (74人评价)', '(目前无人评价)', '8.3\\n\\n        (559人评价)', '(少于10人评价)', '(少于10人评价)', '8.9\\n\\n        (48人评价)', '(少于10人评价)', '(少于10人评价)', '7.8\\n\\n        (28人评价)', '8.8\\n\\n        (15765人评价)', '8.9\\n\\n        (221人评价)', '(少于10人评价)', '8.6\\n\\n        (4151人评价)', '(目前无人评价)', '(少于10人评价)', '8.1\\n\\n        (27人评价)', '(目前无人评价)', '(少于10人评价)', '(少于10人评价)', '(少于10人评价)', '(少于10人评价)', '7.5\\n\\n        (14人评价)', '(目前无人评价)', '8.6\\n\\n        (894人评价)', '8.6\\n\\n        (2652人评价)', '9.3\\n\\n        (890人评价)', '(少于10人评价)', '(目前无人评价)', '(10人评价)', '8.1\\n\\n        (16人评价)', '(少于10人评价)', '7.6\\n\\n        (18554人评价)', '7.3\\n\\n        (64人评价)', '(少于10人评价)', '(目前无人评价)', '7.8\\n\\n        (43人评价)', '8.8\\n\\n        (27人评价)', '8.6\\n\\n        (1579人评价)', '8.8\\n\\n        (866人评价)', '(10人评价)', '7.5\\n\\n        (738人评价)', '9.1\\n\\n        (62295人评价)', '8.3\\n\\n        (39人评价)', '(少于10人评价)', '7.2\\n\\n        (273人评价)', '(少于10人评价)', '7.4\\n\\n        (163人评价)', '(10人评价)', '8.4\\n\\n        (954人评价)', '8.9\\n\\n        (35人评价)', '(少于10人评价)', '(目前无人评价)', '(13人评价)', '8.5\\n\\n        (29人评价)', '7.4\\n\\n        (85人评价)', '(目前无人评价)', '8.1\\n\\n        (814人评价)', '9.6\\n\\n        (28人评价)', '8.0\\n\\n        (16人评价)', '8.2\\n\\n        (2099人评价)', '(少于10人评价)', '7.5\\n\\n        (24人评价)', '8.7\\n\\n        (22735人评价)', '(目前无人评价)', '(少于10人评价)', '(少于10人评价)', '(少于10人评价)', '8.1\\n\\n        (549人评价)', '(目前无人评价)', '8.6\\n\\n        (147人评价)', '(10人评价)', '9.1\\n\\n        (15530人评价)', '7.0\\n\\n        (259人评价)', '7.2\\n\\n        (36人评价)', '(少于10人评价)', '6.9\\n\\n        (762人评价)', '8.4\\n\\n        (38人评价)', '(少于10人评价)', '(少于10人评价)', '(少于10人评价)', '8.5\\n\\n        (1278人评价)', '(11人评价)', '(11人评价)', '8.2\\n\\n        (22人评价)', '6.3\\n\\n        (13人评价)', '8.4\\n\\n        (28人评价)', '9.1\\n\\n        (263人评价)', '6.0\\n\\n        (102人评价)', '(少于10人评价)', '8.2\\n\\n        (31人评价)', '(少于10人评价)', '9.1\\n\\n        (17人评价)', '(目前无人评价)', '8.8\\n\\n        (75人评价)', '(少于10人评价)', '(少于10人评价)', '8.2\\n\\n        (10人评价)', '8.8\\n\\n        (3323人评价)', '9.4\\n\\n        (26人评价)', '7.5\\n\\n        (1241人评价)', '8.3\\n\\n        (53人评价)', '7.3\\n\\n        (14人评价)', '8.5\\n\\n        (1273人评价)', '8.7\\n\\n        (237人评价)', '7.4\\n\\n        (1420人评价)', '8.9\\n\\n        (1173人评价)', '7.7\\n\\n        (17人评价)', '7.8\\n\\n        (29人评价)', '9.0\\n\\n        (170人评价)', '8.1\\n\\n        (732人评价)', '(少于10人评价)', '8.2\\n\\n        (136人评价)', '8.2\\n\\n        (122人评价)', '7.3\\n\\n        (390人评价)', '8.1\\n\\n        (32人评价)', '8.3\\n\\n        (43人评价)', '7.6\\n\\n        (68人评价)', '7.9\\n\\n        (30人评价)', '7.2\\n\\n        (132人评价)', '(少于10人评价)', '8.1\\n\\n        (86人评价)', '5.7\\n\\n        (27人评价)', '(少于10人评价)', '(少于10人评价)', '9.2\\n\\n        (41人评价)', '7.5\\n\\n        (253人评价)', '8.9\\n\\n        (14人评价)', '(少于10人评价)', '(少于10人评价)', '(少于10人评价)', '7.5\\n\\n        (18人评价)', '(少于10人评价)', '8.3\\n\\n        (163人评价)', '(目前无人评价)', '8.4\\n\\n        (14人评价)', '(11人评价)', '(目前无人评价)', '(少于10人评价)', '8.9\\n\\n        (51人评价)', '8.4\\n\\n        (732人评价)', '(少于10人评价)', '8.9\\n\\n        (4363人评价)', '8.3\\n\\n        (50人评价)', '8.2\\n\\n        (34人评价)', '9.1\\n\\n        (205人评价)', '8.0\\n\\n        (16人评价)', '7.0\\n\\n        (22人评价)', '8.1\\n\\n        (37人评价)', '(少于10人评价)', '(11人评价)', '5.8\\n\\n        (30人评价)', '8.3\\n\\n        (331人评价)', '(少于10人评价)', '(11人评价)', '7.0\\n\\n        (95人评价)', '8.3\\n\\n        (813人评价)', '8.9\\n\\n        (383人评价)', '6.5\\n\\n        (39人评价)', '(少于10人评价)', '8.0\\n\\n        (14人评价)', '7.1\\n\\n        (150人评价)', '8.5\\n\\n        (82人评价)', '8.5\\n\\n        (31人评价)', '8.4\\n\\n        (31人评价)', '(10人评价)', '8.6\\n\\n        (23人评价)', '9.0\\n\\n        (27人评价)', '8.1\\n\\n        (308人评价)', '(目前无人评价)', '8.4\\n\\n        (596人评价)', '(少于10人评价)', '7.1\\n\\n        (64人评价)', '(10人评价)', '8.5\\n\\n        (50人评价)', '8.4\\n\\n        (42人评价)', '6.7\\n\\n        (17人评价)', '8.5\\n\\n        (28人评价)', '(目前无人评价)', '7.9\\n\\n        (37人评价)', '(少于10人评价)', '(少于10人评价)', '6.9\\n\\n        (39人评价)', '(少于10人评价)', '8.8\\n\\n        (15人评价)', '6.8\\n\\n        (82人评价)', '8.4\\n\\n        (3104人评价)', '8.4\\n\\n        (37人评价)', '7.0\\n\\n        (13人评价)', '(目前无人评价)', '(少于10人评价)', '(少于10人评价)', '9.2\\n\\n        (11872人评价)', '7.9\\n\\n        (142人评价)', '(目前无人评价)', '8.7\\n\\n        (10442人评价)', '(13人评价)', '(少于10人评价)', '7.5\\n\\n        (180人评价)', '8.9\\n\\n        (25679人评价)', '7.6\\n\\n        (15人评价)', '(少于10人评价)', '7.3\\n\\n        (15人评价)', '7.5\\n\\n        (205人评价)', '7.7\\n\\n        (155人评价)', '7.9\\n\\n        (71595人评价)', '(少于10人评价)', '8.1\\n\\n        (1272人评价)', '7.6\\n\\n        (282人评价)', '7.5\\n\\n        (35人评价)', '7.6\\n\\n        (656人评价)', '8.3\\n\\n        (909人评价)', '8.8\\n\\n        (6459人评价)', '(少于10人评价)', '(少于10人评价)', '(目前无人评价)', '9.2\\n\\n        (23人评价)', '6.9\\n\\n        (39人评价)', '(少于10人评价)', '(目前无人评价)', '(少于10人评价)', '(少于10人评价)', '(少于10人评价)', '(目前无人评价)', '6.4\\n\\n        (31人评价)', '8.6\\n\\n        (12904人评价)', '6.8\\n\\n        (18人评价)', '(少于10人评价)', '7.9\\n\\n        (1968人评价)', '(少于10人评价)', '(少于10人评价)', '8.1\\n\\n        (52人评价)', '8.1\\n\\n        (15人评价)', '7.7\\n\\n        (346人评价)', '8.2\\n\\n        (28人评价)', '8.6\\n\\n        (2084人评价)', '(少于10人评价)', '7.2\\n\\n        (92人评价)', '8.0\\n\\n        (123人评价)', '6.2\\n\\n        (59人评价)', '(少于10人评价)', '7.1\\n\\n        (103人评价)', '9.2\\n\\n        (51722人评价)', '9.2\\n\\n        (5534人评价)', '(目前无人评价)', '7.3\\n\\n        (52人评价)', '7.9\\n\\n        (42人评价)', '8.1\\n\\n        (18人评价)', '(少于10人评价)', '7.5\\n\\n        (44人评价)', '8.2\\n\\n        (20人评价)', '8.4\\n\\n        (171人评价)', '(少于10人评价)', '9.0\\n\\n        (242人评价)', '8.3\\n\\n        (44人评价)', '9.0\\n\\n        (21人评价)', '9.3\\n\\n        (949人评价)', '(目前无人评价)', '8.5\\n\\n        (16人评价)', '8.8\\n\\n        (19人评价)', '8.5\\n\\n        (15人评价)', '7.6\\n\\n        (21人评价)', '8.0\\n\\n        (33人评价)', '(少于10人评价)', '(少于10人评价)', '(少于10人评价)', '(10人评价)', '(少于10人评价)', '(少于10人评价)', '7.8\\n\\n        (6147人评价)', '7.6\\n\\n        (204人评价)', '7.8\\n\\n        (46人评价)', '9.3\\n\\n        (198人评价)', '(少于10人评价)', '8.2\\n\\n        (473人评价)', '7.8\\n\\n        (3862人评价)', '8.8\\n\\n        (480人评价)', '6.8\\n\\n        (121人评价)', '7.5\\n\\n        (17人评价)', '(少于10人评价)', '7.1\\n\\n        (21人评价)', '6.9\\n\\n        (1089人评价)', '7.5\\n\\n        (30人评价)', '8.4\\n\\n        (79人评价)', '7.5\\n\\n        (50人评价)', '8.8\\n\\n        (111人评价)', '7.2\\n\\n        (114人评价)', '8.5\\n\\n        (21人评价)', '8.8\\n\\n        (211人评价)', '8.0\\n\\n        (23人评价)', '7.8\\n\\n        (55人评价)', '(少于10人评价)', '(12人评价)', '7.7\\n\\n        (34人评价)', '8.2\\n\\n        (14人评价)', '8.7\\n\\n        (391人评价)', '8.6\\n\\n        (981人评价)', '6.4\\n\\n        (28人评价)', '7.9\\n\\n        (8382人评价)', '9.4\\n\\n        (1547人评价)', '(目前无人评价)', '(目前无人评价)', '8.2\\n\\n        (264人评价)', '7.9\\n\\n        (15人评价)', '(10人评价)', '(少于10人评价)', '8.6\\n\\n        (239人评价)', '(少于10人评价)', '9.0\\n\\n        (23人评价)', '(少于10人评价)', '6.4\\n\\n        (31人评价)', '(10人评价)', '7.6\\n\\n        (21人评价)', '8.3\\n\\n        (8203人评价)', '8.0\\n\\n        (46人评价)', '8.3\\n\\n        (915人评价)', '8.2\\n\\n        (45人评价)', '(少于10人评价)', '7.7\\n\\n        (14人评价)', '(少于10人评价)', '(少于10人评价)', '8.8\\n\\n        (232人评价)', '7.2\\n\\n        (22人评价)', '9.9\\n\\n        (66人评价)', '8.6\\n\\n        (59人评价)', '(13人评价)', '9.5\\n\\n        (65人评价)', '8.9\\n\\n        (49人评价)', '8.6\\n\\n        (87人评价)', '8.6\\n\\n        (454人评价)', '(少于10人评价)', '8.2\\n\\n        (1143人评价)', '8.7\\n\\n        (133人评价)', '(少于10人评价)', '(少于10人评价)', '8.8\\n\\n        (16人评价)', '7.5\\n\\n        (211人评价)', '(少于10人评价)', '8.9\\n\\n        (392人评价)', '8.3\\n\\n        (2405人评价)', '(少于10人评价)', '8.4\\n\\n        (27人评价)', '(少于10人评价)', '8.2\\n\\n        (13人评价)', '8.0\\n\\n        (68人评价)', '9.4\\n\\n        (30人评价)', '8.9\\n\\n        (68人评价)', '8.8\\n\\n        (174人评价)', '7.1\\n\\n        (119人评价)', '(少于10人评价)', '7.9\\n\\n        (1138人评价)', '(少于10人评价)', '(少于10人评价)', '(少于10人评价)', '8.1\\n\\n        (13人评价)', '8.0\\n\\n        (763人评价)', '(少于10人评价)', '7.2\\n\\n        (336人评价)', '(目前无人评价)', '(目前无人评价)', '8.9\\n\\n        (21人评价)', '(10人评价)', '8.9\\n\\n        (70699人评价)', '8.7\\n\\n        (12人评价)', '(少于10人评价)', '8.1\\n\\n        (41人评价)', '7.0\\n\\n        (15人评价)', '8.6\\n\\n        (54人评价)', '(目前无人评价)', '6.8\\n\\n        (16人评价)', '7.5\\n\\n        (5983人评价)', '(少于10人评价)', '7.7\\n\\n        (93人评价)', '(少于10人评价)', '7.9\\n\\n        (38人评价)', '7.5\\n\\n        (78人评价)', '7.1\\n\\n        (308人评价)', '7.0\\n\\n        (16人评价)', '(少于10人评价)', '8.4\\n\\n        (683人评价)', '6.6\\n\\n        (52人评价)', '8.6\\n\\n        (19人评价)']\n"
     ]
    }
   ],
   "source": [
    "# Because there are some missing ratings in the list, we choose to get all the information (rating+ppl) in the same list\n",
    "import requests\n",
    "import random\n",
    "import time\n",
    "import re\n",
    "from bs4 import BeautifulSoup\n",
    "# declaring the list to store data\n",
    "rating_list = []\n",
    "# link =  'https://book.douban.com/tag/%E5%A5%B3%E6%9D%83?start=0&type=T‘ \n",
    "# Keyword:“女性主义”\n",
    "# Prevent being judged as a robot\n",
    "headers={'User-Agent':'Mozilla/5.0(Macintosh;Intel Mac OS X 10_15_7)AppleWebKit/537.36(KHTML,like Gecko)Chrome/95.0.4638.54 Safari/537.36'}\n",
    "for i in range(0,39):\n",
    "    link =  'https://book.douban.com/tag/%E5%A5%B3%E6%80%A7%E4%B8%BB%E4%B9%89?start={i}&type=T'.format(i= i*20)\n",
    "    r = requests.get(link,headers=headers,timeout=30)\n",
    "    print(link)\n",
    "    soup=BeautifulSoup(r.text,\"lxml\")\n",
    "    B = soup.find_all('div',class_='star clearfix')\n",
    "    for each in B:\n",
    "        rating = each.text.strip() #Get all the information\n",
    "        rating_list.append(rating) #Add each to the rating_list\n",
    "        time.sleep(random.random()*3) #Prevent being judged as a robot\n",
    "    \n",
    "print(rating_list)"
   ]
  },
  {
   "cell_type": "code",
   "execution_count": 142,
   "id": "e2f3ba2f-4dfa-4e48-ba1b-07bb9288232b",
   "metadata": {
    "tags": []
   },
   "outputs": [
    {
     "name": "stdout",
     "output_type": "stream",
     "text": [
      "['9.0', '9.0', '9.1', '8.3', '8.7', '8.2', '8.3', '8.9', '9.0', '9.1', '9.2', '8.7', '9.0', '8.8', '9.4', '9.3', '9.2', '8.7', '6.2', '8.6', '8.4', '8.0', '8.6', '7.8', '9.0', '9.2', '8.7', '8.5', '7.5', '8.8', '8.8', '8.1', '8.2', '9.3', 'NA', '8.8', '8.5', '8.3', '8.9', 'NA', '9.5', '9.3', '8.9', '7.6', '8.3', '8.2', '8.9', '7.9', '8.2', '9.0', '8.2', '9.1', '8.1', '8.7', '8.3', '8.2', '9.2', '8.6', '7.5', '8.2', '8.7', '8.7', '8.1', '7.9', '8.3', '7.6', '7.1', '9.5', '7.5', '8.1', '7.9', '8.3', '9.6', '8.3', '9.2', '8.5', '9.0', '8.1', '8.9', '9.3', '7.8', '9.2', '8.2', '7.2', '9.0', '8.0', '8.9', '9.0', '9.1', '8.2', '8.3', '8.9', '8.4', '8.3', '7.8', '7.7', '8.7', '8.0', 'NA', '8.2', '8.5', '7.9', '8.1', '8.7', '7.6', '8.6', '7.2', '7.2', '8.4', 'NA', '8.0', '8.0', 'NA', '8.2', '7.4', '7.8', 'NA', '7.9', '8.0', '8.8', '9.2', '7.8', 'NA', '7.9', '8.3', '9.4', '8.8', '7.7', '8.3', '8.7', '8.7', '8.4', '7.8', '8.6', '7.1', '7.2', '7.8', '8.4', '6.6', '7.9', '8.1', '8.3', '9.0', '8.4', '7.8', 'NA', '7.8', '7.5', '8.4', '8.3', '7.6', '7.8', '8.4', '9.2', '9.3', '8.9', '8.6', '7.6', '8.7', '8.3', '8.0', '6.8', '8.8', 'NA', '9.4', '9.2', '7.9', '8.0', '7.4', '8.6', '8.8', '7.7', '8.8', '7.5', '9.6', '6.3', '8.7', '8.3', '7.9', '9.2', '9.2', '8.1', '8.5', '7.2', '8.2', 'NA', '7.2', '8.2', '8.2', '8.6', '7.7', '7.5', '9.2', '8.1', '8.7', 'NA', 'NA', 'NA', '7.8', '7.7', '7.8', '9.1', '8.7', '7.4', '9.7', '8.6', '7.8', '8.5', '8.4', '7.6', '8.6', '8.3', '8.5', '7.6', '8.9', '7.5', '7.5', '8.2', '7.9', '8.6', '8.2', '8.1', '9.0', '7.2', '7.0', '7.5', '7.8', '7.7', '8.1', '7.5', '7.3', '8.2', '8.3', '8.6', 'NA', '8.4', '9.3', '8.8', '7.5', '8.9', '8.4', '8.9', '8.9', '8.0', '8.1', '8.9', '7.5', 'NA', '9.1', '8.9', '7.2', '8.6', '8.1', '7.0', '7.2', 'NA', '8.3', '6.9', '7.6', 'NA', '8.5', 'NA', '7.9', '8.0', '8.4', '9.5', '7.6', '8.9', '8.8', '8.2', 'NA', '8.2', 'NA', '7.8', '8.1', '7.3', '7.5', '8.2', '8.4', '7.3', '7.4', '9.1', '8.3', '7.3', '9.0', '8.6', '7.8', '7.6', 'NA', '9.3', '7.8', '6.6', '7.2', '8.7', '8.0', '7.5', '7.2', '8.2', '6.9', '9.3', '7.6', '8.2', '9.1', '7.7', '7.8', '8.0', '8.1', '8.3', '8.6', '7.6', '8.1', 'NA', '8.0', '9.0', '7.7', '7.0', '7.7', '8.6', '9.1', 'NA', '7.8', '7.7', '8.9', '8.7', 'NA', '7.6', '8.6', '8.7', '8.1', '6.8', 'NA', '8.0', '8.5', 'NA', '9.5', '7.8', '8.1', '9.4', '8.0', '8.2', 'NA', '7.4', '8.8', '8.2', '8.8', '8.4', '8.4', '9.5', '8.6', '8.4', '8.4', '8.7', '7.3', '8.9', '8.4', '8.0', 'NA', '8.0', '8.5', '7.4', '8.0', '7.4', '8.5', '8.7', 'NA', 'NA', '7.7', '7.6', 'NA', 'NA', 'NA', '7.8', '7.8', 'NA', '9.1', '9.0', 'NA', 'NA', 'NA', 'NA', '9.0', '8.5', 'NA', '8.0', 'NA', '8.7', 'NA', '8.6', '7.9', 'NA', '8.2', '8.0', '8.6', '8.2', 'NA', '8.5', 'NA', '7.2', 'NA', '8.3', 'NA', 'NA', '8.9', 'NA', 'NA', '7.8', '8.8', '8.9', 'NA', '8.6', 'NA', 'NA', '8.1', 'NA', 'NA', 'NA', 'NA', 'NA', '7.5', 'NA', '8.6', '8.6', '9.3', 'NA', 'NA', 'NA', '8.1', 'NA', '7.6', '7.3', 'NA', 'NA', '7.8', '8.8', '8.6', '8.8', 'NA', '7.5', '9.1', '8.3', 'NA', '7.2', 'NA', '7.4', 'NA', '8.4', '8.9', 'NA', 'NA', 'NA', '8.5', '7.4', 'NA', '8.1', '9.6', '8.0', '8.2', 'NA', '7.5', '8.7', 'NA', 'NA', 'NA', 'NA', '8.1', 'NA', '8.6', 'NA', '9.1', '7.0', '7.2', 'NA', '6.9', '8.4', 'NA', 'NA', 'NA', '8.5', 'NA', 'NA', '8.2', '6.3', '8.4', '9.1', '6.0', 'NA', '8.2', 'NA', '9.1', 'NA', '8.8', 'NA', 'NA', '8.2', '8.8', '9.4', '7.5', '8.3', '7.3', '8.5', '8.7', '7.4', '8.9', '7.7', '7.8', '9.0', '8.1', 'NA', '8.2', '8.2', '7.3', '8.1', '8.3', '7.6', '7.9', '7.2', 'NA', '8.1', '5.7', 'NA', 'NA', '9.2', '7.5', '8.9', 'NA', 'NA', 'NA', '7.5', 'NA', '8.3', 'NA', '8.4', 'NA', 'NA', 'NA', '8.9', '8.4', 'NA', '8.9', '8.3', '8.2', '9.1', '8.0', '7.0', '8.1', 'NA', 'NA', '5.8', '8.3', 'NA', 'NA', '7.0', '8.3', '8.9', '6.5', 'NA', '8.0', '7.1', '8.5', '8.5', '8.4', 'NA', '8.6', '9.0', '8.1', 'NA', '8.4', 'NA', '7.1', 'NA', '8.5', '8.4', '6.7', '8.5', 'NA', '7.9', 'NA', 'NA', '6.9', 'NA', '8.8', '6.8', '8.4', '8.4', '7.0', 'NA', 'NA', 'NA', '9.2', '7.9', 'NA', '8.7', 'NA', 'NA', '7.5', '8.9', '7.6', 'NA', '7.3', '7.5', '7.7', '7.9', 'NA', '8.1', '7.6', '7.5', '7.6', '8.3', '8.8', 'NA', 'NA', 'NA', '9.2', '6.9', 'NA', 'NA', 'NA', 'NA', 'NA', 'NA', '6.4', '8.6', '6.8', 'NA', '7.9', 'NA', 'NA', '8.1', '8.1', '7.7', '8.2', '8.6', 'NA', '7.2', '8.0', '6.2', 'NA', '7.1', '9.2', '9.2', 'NA', '7.3', '7.9', '8.1', 'NA', '7.5', '8.2', '8.4', 'NA', '9.0', '8.3', '9.0', '9.3', 'NA', '8.5', '8.8', '8.5', '7.6', '8.0', 'NA', 'NA', 'NA', 'NA', 'NA', 'NA', '7.8', '7.6', '7.8', '9.3', 'NA', '8.2', '7.8', '8.8', '6.8', '7.5', 'NA', '7.1', '6.9', '7.5', '8.4', '7.5', '8.8', '7.2', '8.5', '8.8', '8.0', '7.8', 'NA', 'NA', '7.7', '8.2', '8.7', '8.6', '6.4', '7.9', '9.4', 'NA', 'NA', '8.2', '7.9', 'NA', 'NA', '8.6', 'NA', '9.0', 'NA', '6.4', 'NA', '7.6', '8.3', '8.0', '8.3', '8.2', 'NA', '7.7', 'NA', 'NA', '8.8', '7.2', '9.9', '8.6', 'NA', '9.5', '8.9', '8.6', '8.6', 'NA', '8.2', '8.7', 'NA', 'NA', '8.8', '7.5', 'NA', '8.9', '8.3', 'NA', '8.4', 'NA', '8.2', '8.0', '9.4', '8.9', '8.8', '7.1', 'NA', '7.9', 'NA', 'NA', 'NA', '8.1', '8.0', 'NA', '7.2', 'NA', 'NA', '8.9', 'NA', '8.9', '8.7', 'NA', '8.1', '7.0', '8.6', 'NA', '6.8', '7.5', 'NA', '7.7', 'NA', '7.9', '7.5', '7.1', '7.0', 'NA', '8.4', '6.6', '8.6']\n"
     ]
    }
   ],
   "source": [
    "# only to get the ratings\n",
    "import re\n",
    "# declaring another list \n",
    "ratings_list = []\n",
    "for i in rating_list:\n",
    "    a = re.search('.*\\n\\n',i) #to get the rating by using Regular Expression\n",
    "    if a:\n",
    "        b = (a.group(0)).replace('\\n\\n','') #Remove line breaks\n",
    "        ratings_list.append(b)\n",
    "    else:\n",
    "        ratings_list.append('NA') #Many books are not graded, print NA to make sure length is the same\n",
    "print(ratings_list)"
   ]
  },
  {
   "cell_type": "code",
   "execution_count": 210,
   "id": "3390807f-4619-41f0-9de6-a761516002a1",
   "metadata": {},
   "outputs": [
    {
     "data": {
      "text/plain": [
       "778"
      ]
     },
     "execution_count": 210,
     "metadata": {},
     "output_type": "execute_result"
    }
   ],
   "source": [
    "# Test the length\n",
    "len(ratings_list)"
   ]
  },
  {
   "cell_type": "code",
   "execution_count": 112,
   "id": "ce98c250-7d07-44ad-ade3-0dce8124046c",
   "metadata": {
    "collapsed": true,
    "jupyter": {
     "outputs_hidden": true
    },
    "tags": []
   },
   "outputs": [
    {
     "name": "stdout",
     "output_type": "stream",
     "text": [
      "https://book.douban.com/tag/%E5%A5%B3%E6%80%A7%E4%B8%BB%E4%B9%89?start=0&type=T\n",
      "https://book.douban.com/tag/%E5%A5%B3%E6%80%A7%E4%B8%BB%E4%B9%89?start=20&type=T\n",
      "https://book.douban.com/tag/%E5%A5%B3%E6%80%A7%E4%B8%BB%E4%B9%89?start=40&type=T\n",
      "https://book.douban.com/tag/%E5%A5%B3%E6%80%A7%E4%B8%BB%E4%B9%89?start=60&type=T\n",
      "https://book.douban.com/tag/%E5%A5%B3%E6%80%A7%E4%B8%BB%E4%B9%89?start=80&type=T\n",
      "https://book.douban.com/tag/%E5%A5%B3%E6%80%A7%E4%B8%BB%E4%B9%89?start=100&type=T\n",
      "https://book.douban.com/tag/%E5%A5%B3%E6%80%A7%E4%B8%BB%E4%B9%89?start=120&type=T\n",
      "https://book.douban.com/tag/%E5%A5%B3%E6%80%A7%E4%B8%BB%E4%B9%89?start=140&type=T\n",
      "https://book.douban.com/tag/%E5%A5%B3%E6%80%A7%E4%B8%BB%E4%B9%89?start=160&type=T\n",
      "https://book.douban.com/tag/%E5%A5%B3%E6%80%A7%E4%B8%BB%E4%B9%89?start=180&type=T\n",
      "https://book.douban.com/tag/%E5%A5%B3%E6%80%A7%E4%B8%BB%E4%B9%89?start=200&type=T\n",
      "https://book.douban.com/tag/%E5%A5%B3%E6%80%A7%E4%B8%BB%E4%B9%89?start=220&type=T\n",
      "https://book.douban.com/tag/%E5%A5%B3%E6%80%A7%E4%B8%BB%E4%B9%89?start=240&type=T\n",
      "https://book.douban.com/tag/%E5%A5%B3%E6%80%A7%E4%B8%BB%E4%B9%89?start=260&type=T\n",
      "https://book.douban.com/tag/%E5%A5%B3%E6%80%A7%E4%B8%BB%E4%B9%89?start=280&type=T\n",
      "https://book.douban.com/tag/%E5%A5%B3%E6%80%A7%E4%B8%BB%E4%B9%89?start=300&type=T\n",
      "https://book.douban.com/tag/%E5%A5%B3%E6%80%A7%E4%B8%BB%E4%B9%89?start=320&type=T\n",
      "https://book.douban.com/tag/%E5%A5%B3%E6%80%A7%E4%B8%BB%E4%B9%89?start=340&type=T\n",
      "https://book.douban.com/tag/%E5%A5%B3%E6%80%A7%E4%B8%BB%E4%B9%89?start=360&type=T\n",
      "https://book.douban.com/tag/%E5%A5%B3%E6%80%A7%E4%B8%BB%E4%B9%89?start=380&type=T\n",
      "https://book.douban.com/tag/%E5%A5%B3%E6%80%A7%E4%B8%BB%E4%B9%89?start=400&type=T\n",
      "https://book.douban.com/tag/%E5%A5%B3%E6%80%A7%E4%B8%BB%E4%B9%89?start=420&type=T\n",
      "https://book.douban.com/tag/%E5%A5%B3%E6%80%A7%E4%B8%BB%E4%B9%89?start=440&type=T\n",
      "https://book.douban.com/tag/%E5%A5%B3%E6%80%A7%E4%B8%BB%E4%B9%89?start=460&type=T\n",
      "https://book.douban.com/tag/%E5%A5%B3%E6%80%A7%E4%B8%BB%E4%B9%89?start=480&type=T\n",
      "https://book.douban.com/tag/%E5%A5%B3%E6%80%A7%E4%B8%BB%E4%B9%89?start=500&type=T\n",
      "https://book.douban.com/tag/%E5%A5%B3%E6%80%A7%E4%B8%BB%E4%B9%89?start=520&type=T\n",
      "https://book.douban.com/tag/%E5%A5%B3%E6%80%A7%E4%B8%BB%E4%B9%89?start=540&type=T\n",
      "https://book.douban.com/tag/%E5%A5%B3%E6%80%A7%E4%B8%BB%E4%B9%89?start=560&type=T\n",
      "https://book.douban.com/tag/%E5%A5%B3%E6%80%A7%E4%B8%BB%E4%B9%89?start=580&type=T\n",
      "https://book.douban.com/tag/%E5%A5%B3%E6%80%A7%E4%B8%BB%E4%B9%89?start=600&type=T\n",
      "https://book.douban.com/tag/%E5%A5%B3%E6%80%A7%E4%B8%BB%E4%B9%89?start=620&type=T\n",
      "https://book.douban.com/tag/%E5%A5%B3%E6%80%A7%E4%B8%BB%E4%B9%89?start=640&type=T\n",
      "https://book.douban.com/tag/%E5%A5%B3%E6%80%A7%E4%B8%BB%E4%B9%89?start=660&type=T\n",
      "https://book.douban.com/tag/%E5%A5%B3%E6%80%A7%E4%B8%BB%E4%B9%89?start=680&type=T\n",
      "https://book.douban.com/tag/%E5%A5%B3%E6%80%A7%E4%B8%BB%E4%B9%89?start=700&type=T\n",
      "https://book.douban.com/tag/%E5%A5%B3%E6%80%A7%E4%B8%BB%E4%B9%89?start=720&type=T\n",
      "https://book.douban.com/tag/%E5%A5%B3%E6%80%A7%E4%B8%BB%E4%B9%89?start=740&type=T\n",
      "https://book.douban.com/tag/%E5%A5%B3%E6%80%A7%E4%B8%BB%E4%B9%89?start=760&type=T\n",
      "['(日) 上野千鹤子 / 王兰 / 上海三联书店 / 2015-1 / 28.00', '[日] 上野千鹤子、[日] 田房永子 / 吕灵芝 / 北京联合出版公司 / 2021-9 / 52.00元', '[日] 上野千鹤子 / 邹韵、薛梅 / 浙江大学出版社 / 2020-3 / 58.00元', '[英]塔比·杰克逊·吉、[英]弗雷亚·罗斯 / 吴庆宏 / 译林出版社 / 2021-9 / 48.00元', '[法] 西蒙﹒波伏娃(Simone de Beauvoir) / 舒小菲 / 西苑出版社 / 2009 / 21.80元', '[美] 梅根·多姆(编) / 于是 / 人民文学出版社 / 2021-6 / 65.00元', '[日]中村淳彦 / 傅栩 / 人民文学出版社 / 2021-8 / 59.00元', '[美]乔安娜·拉斯（Joanna Russ） / 章艳 / 南京大学出版社 / 2020-11 / 49', '[英]凯特·柯克帕特里克 / 刘海平 / 中信出版社 / 2021-3 / 78.00', '李银河 / 上海文化出版社 / 2018-9-1 / 45.00', '[英] 弗吉尼亚·伍尔夫 / 周颖琪 / 天津人民出版社 / 2019-10 / 45.00元', '(尼日利) 奇玛曼达·恩戈兹·阿迪契 / 陶立夏 / 人民文学出版社 / 2019-6 / 42.00', '[英]安吉拉·卡特 / 曹雷雨、姜丽 / 南京大学出版社 / 2021-5 / 56.00', '[美] 尼可拉斯·D.克里斯多夫、[美]雪莉·邓恩 / 吴茵茵 / 浙江人民出版社 / 2014-5 / 39.80元', '孟悦、戴锦华 / 北京大学出版社 / 2018-5 / 59.00元', '亞倫·強森（Allan G. Johnson) / 成令方、王秀云、游美惠、邱大昕、吳嘉苓 / 群學出版社 / 2008-3 / NT 450元', '[法] 西蒙娜·德·波伏瓦 / 郑克鲁 / 上海译文出版社 / 2014-1 / 138.00', '[意]达契娅·玛拉依妮 / 余婷婷 / 中国友谊出版公司 / 2021-9 / 42.00', '么振华、吕璐瑶 / 上海古籍出版社 / 2021-9 / 78.00元', '理安·艾斯勒 (Riane Eisler) / 程志民 / 社会科学文献出版社 / 2009-1-1 / 49.00元', '[英] 玛丽·比尔德 / 刘漪 / 后浪丨天津人民出版社 / 2019-3 / 45.00元', '王冠 / 民主与建设出版社 / 2021-8-20 / 52', '[美] S.M.吉尔伯特、[美] 苏珊·古芭 / 杨莉馨 / 世纪文景/上海人民出版社 / 2015-2 / 99.00元', '[美]丽贝卡·特雷斯特 / 贺梦菲、薛轲 / 广西师范大学出版社 / 2018-5 / 59.00', '卡洛琳．克里亞朵．佩雷茲 / 洪夏天 / 商周出版 / 2020-7', '[美]芮塔·菲尔斯基 (Rita Felski) / 陈琳、但汉松（校译） / 南京大学出版社 / 2020-6 / 62.00', '朱迪斯·巴特勒 / 宋素凤 / 上海三联书店 / 2009-1 / 30.00元', '凱特.曼恩(Kate Manne) / 巫靜文 / 麥田 / 2019-12-7', '【美】丽贝卡·索尔尼特 / 张晨晨 / 人民文学出版社 / 2020-5 / 42.00元', '[美]阿莉·拉塞尔·霍克希尔德 / 肖索未、刘令堃、夏天 / 生活·读书·新知三联书店 / 2021-7 / 59.00元', '[法] 西蒙娜·德·波伏瓦 / 郑克鲁 / 上海译文出版社 / 2011-9 / 36.00元', '[美]谢丽尔·桑德伯格（Sheryl Sandberg） / 颜筝 / 中信出版社 / 2013-6-30 / 39.00元', '凯瑟琳.A.麦金农 (catharine A.Mackinnon) / 曲广娣 / 中国政法大学出版社 / 2007-10-1 / 28.00元', '汤问棘 / 天地出版社 / 2019-10-16 / 58.00', '汤问棘 / 上海社会科学院出版社 / 2021-11 / 42.00', '[英]沙尼·奥加德 / 刘昱 / 理想国|广西师范大学出版社 / 2021-9 / 68.00元', '[澳大利亚] 杰梅茵·格里尔 / 欧阳昱 / 上海文艺出版社 / 2011-6 / 29.00元', '[美]梅琳达·盖茨 / 齐彦婧 / 北京联合出版公司 / 2020-7 / 55', '[英]玛丽.沃斯通克拉夫特(Mary Wollstonecraft) / 常莹、典典、刘荻 / 中信出版社 / 2016-5-31 / 18.00元', '[爱尔兰] 希内德·格利森 / 卢一欣 / 一頁folio | 广西师范大学出版社 / 2021-11 / 58.00元', '蘇‧勞伊德•羅伯茨（Sue Lloyd-Roberts） / 謝濱安 / 自由之丘 / 2018-1-10 / NT$ 400.00', '[法] 西蒙娜·德·波伏瓦 / 郑克鲁 / 上海译文出版社 / 2011-9 / 49.00元', '柳立言等编著 / 广西师范大学出版社 / 2021-8 / 108', '[法]伊丽莎白·卡多赫、[法]安娜·德·蒙塔尔洛 / 刘惠芳 / 人民邮电出版社 / 2020-12-1 / 59.80元', '[英]弗吉尼亚·伍尔夫 / 姜向明 / 陕西师范大学 / 2014-4-1 / 26.00元', '玛丽·麦卡锡（Mary McCarthy） / 尚晓蕾 / 湖南文艺出版社 / 2021-10 / 59.8', '罗斯玛丽·帕特南·童 / 艾晓明 [等] / 华中师范大学出版社 / 2002-10 / 25.00元', '沈奕斐 / 2019-8-1', '[美] 贝蒂·弗里丹 / 程锡麟、朱徽、王晓路 / 广东经济出版社 / 2005-5 / 25.90元', '王政 / 当代中国出版社 / 1996 / 14.5元', '[英] 萨拉·沃特斯 / 陈萱 / 上海人民出版社 / 2017-11-1 / 59.00元', '[法]米歇尔·福柯 / 佘碧平 / 上海人民出版社 / 2021-8-30 / 78.00', '[美] 凯特·米利特 / 宋文伟 / 江苏人民出版社 / 2000-1 / 22.00元', '[美] 朱迪斯·巴特勒 / 郭劼 / 上海三联书店 / 2009-11 / 35.00元', '[英] D. H. 劳伦斯 / 黑马 / 译林出版社 / 2013-12 / 36.00元', '[英] 弗吉尼亚·伍尔夫 / 王还 / 上海人民出版社 / 2008-1 / 20.00元', '[英国] 弗吉尼亚·伍尔夫 / 侯毅凌 / 天津人民出版社 / 2021-9 / 58.00元', '[美]劳拉·布朗 / 戴辰忱 / 重庆大学出版社 / 2021-4 / 46.00', '（美）凯瑟琳・巴里 / 晓征 / 江苏人民出版社 / 2000-10 / 17.00', '[美] 凯特·肖邦 / 齐彦婧 / 浙江教育出版社 / 2020-10-20 / 48', '[法] 西蒙娜·德·波伏娃 / 陶铁柱 / 中国书籍出版社 / 2004-4-1 / 49.8', '贺桂梅 / 北京大学出版社 / 2014-3 / 48.00元', '[美]理安·艾斯勒 / 黄觉、黄棣光 / 社会科学文献出版社 / 2019-7 / 98.00元', '李银河 / 上海三联书店 / 2021-5 / 59.00元', '[美] 苏珊·布朗米勒 / 祝吉芳 / 江苏人民出版社 / 2006-4 / 31.00元', '[美] 唐娜·哈拉维、Donna J. Haraway / 陈静 等 / 河南大学出版社 / 2012-4 / 40.00元', '朱丽娅·克里斯蒂娃(Julia Kristeva) / 赵靓 / 同济大学出版社 / 2010-3-1 / CNY 21.00', '[英]弗吉尼亚•吴尔夫 / 贾辉丰 / 商务印书馆 / 2019-4 / 28.00', '[尼日利亚]奇玛曼达·恩戈兹·阿迪契 / 张芸、文敏 / 人民文学出版社 / 2017-6 / 28.00元', '李银河 / 中国妇女出版社 / 2007-8 / 25.00元', '[英] 玛丽·沃斯通克拉夫特、[英] 约翰·斯图尔特·穆勒 / 王蓁、汪溪 / 商务印书馆 / 1995-8 / 23.00元', '【美】苏珊·鲍尔多 / 綦亮、赵育春 / 江苏人民出版社 / 2009年10月 / 30.00元', '郑雅如 / 凤凰出版社 / 2021-9 / 58', 'Sheryl Sandberg / Knopf / 2013-3-12 / USD 24.95', 'Caroline Criado Perez / Chatto & Windus / 2019-3-7 / £16.99', '玛莎·C.努斯鲍姆 / 左稀 / 中国人民出版社 / 2020-7', '伊莱恩·肖瓦尔特 / 韩敏中 / 浙江大学出版社 / 2012-4-1 / 52.00元', '[韩] 韩江 / 胡椒筒 / 四川文艺出版社 / 2021-9 / 48', '孟悦、戴锦华 / 中国人民大学出版社 / 2004-07 / 19.80', '[法] 佩内洛普·芭桔 / 王晨雪 / 后浪丨中国友谊出版公司 / 2021-7 / 138.00元', '沈奕斐 / 上海人民出版社 / 2005-05 / 22.00', '施舜翔 / 臺灣商務 / 2018-9', '[芬] 马里奥·T.努尔米宁(Marjo T. Nurminen) / 林铮顗 / 人民邮电出版社 / 2018-10-1 / 88', '[日]小林美希 / 廖雯雯 / 上海译文出版社 / 2020-8 / 45.00', '顧燕翎（主編） / 貓頭鷹 / 2020-4', '王政 / 复旦大学出版社 / 2005-7 / 28.00元', '约翰·斯图尔特·穆勒 / 孙洪丽、杨丽 / 外语教学与研究出版社 / 24.00元', '上野千鹤子 / 刘静贞、洪金珠 / 台北：时报文化 / 1997年 / 250元台币', 'Wang Zheng / University of California Press / 1999-7-5 / USD 33.95', '李银河 / 山东人民出版社 / 2005-1 / 22.00元', '(美)凯特琳·柯林斯 (Caitlyn Collins) / 汪洋、周长天 / 上海人民出版社/世纪文景 / 2020-11 / 68', '戴錦華 / 麥田 / 2006-11-1 / 112.00元', '【美】玛丽·克劳福德、罗达·昂格尔 / 许敏敏 等 / 中华书局 / 2009-12 / 68.00元', '陈顺馨 编 / 中央编译出版社 / 2004-01 / 21.80元', '安吉拉•默克罗比 / 张岩冰 / 河南大学出版社 / 2011-4 / 26.00元', '黄盈盈 / 社会科学文献出版社 / 2018-4 / 89.00元', '戴锦华 / 北京大学出版社 / 2007-5 / 38.00元', '（美）高彦颐 / 李志生 / 江苏人民出版社 / 2005-01 / 29.00', '酒井順子 / 集英社 / 2020-5-20 / JPY 590.00', '[美]吉莉恩·托马斯 / 李明倩 / 译林出版社 / 2019-9 / 68', '上野千鹤子 / 吴咏梅 / 商务印书馆 / 2004-1 / 18.00元', '[美]玛利亚·森普尔 / 何雨珈 / 中国友谊出版公司 / 2018-11 / 48', 'Valerie Solanas / Verso / 2004-5 / USD 15.00', '[美]马丽加·金芭塔丝（Marija Gimbutas） 著、[美]米里亚姆·R．德克斯特（Miriam R．Dexter） 主编 / 叶舒宪等 / 广西师范大学出版社 / 2008-02 / 38.00元', '[英] 萨拉·沃特斯 / 沈敏 / 上海人民出版社 / 2017-10 / 56.00元', '玛丽·沃斯通克拉夫特 / 陶鑫 / 中国对外翻译出版有限公司 / 2012-3 / 18.00元', '(美)夏洛特·吉尔曼 / 王骁双、朱巧蓓、康宇扬、夏露箫邦 / 译言古登堡计划／北京时代华文书局 / 2014-6-1 / 36.00元', '李银河 / 今日中国出版社 / 1998-01 / 19.00', '[美] 理安·艾斯 / 黄觉、黄棣光 / 社会科学文献出版社 / 2004-5 / 56.00元', '[美]伦迪·班克罗夫特 / 余莉 / 雅众文化 | 北京联合出版公司 / 2021-11 / 65.00', '[英] 珍妮特·温特森 / 邹鹏 / 新星出版社 / 2012-6 / 25.00元', '[意] 阿尔贝托·莫拉维亚 / 沈萼梅、刘锡荣 / 江苏凤凰文艺出版社 / 2021-7 / 62.00', '周夏 / 中国电影出版社 / 2021-6 / 90', '（美）琳达・诺克林 / 游惠贞 / 广西师范大学出版社 / 2005-6 / 20.00元', '[美]琳达·赫什曼 / 郭烁 / 中国法制出版社 / 2018-3-1 / 58.00元', '〔美〕让·爱尔斯坦 / 葛耘娜、陈雪飞 / 生活·读书·新知三联书店 / 2019-6-1 / 49.00元', '上野千鹤子 / 岩波書店 / 2021-1-20', '[美]朱迪斯·巴特勒 / 李钧鹏 / 上海三联书店 / 2011-8-1 / 38.00元', '[澳] 杰华 / 吴小英 / 江苏人民出版社 / 2006-4 / 23.00元', '[美国]珍妮斯•A. 拉德威 / 胡淑陈 / 译林出版社 / 2020-7 / 69.00元', '艾莉斯·馬利雍·楊（Iris Marion Young） / 何定照 / 商周出版公司 / 2007-1-15 / 144.4', '李小江 / 社会科学文献出版社 / 2016-5 / 69.00元', '追蹤團火花 / 胡椒筒 / 時報文化 / 2021-6-22 / NTD380.00', '[日] 须藤瑞代 / [日] 须藤瑞代、姚毅 / 中国社科文献出版社 / 2010-2 / 39.00元', '(美)佩吉·麦克拉肯、艾晓明、柯倩婷 / 广西师范大学出版社 / 2007-1 / 48.00元', 'Judith Butler / Routledge / 2006-5 / GBP 16.99', '王曉丹、余貞誼、方念萱、姜貞吟、韓宜臻、胡錦媛、黃囇莉、楊婉瑩、孫嘉穗、陳惠馨、康庭瑜 / 大家出版 / 2019-7 / 420', '(法) 露西·伊利格瑞 / 屈雅君、赵文、李欣、霍炬 / 河南大学出版社 / 2017-3 / 88', ':埃莉诺·弗莱克斯纳 艾伦·菲茨帕特里克 / 陈洁瑜 / 中信出版集团 / 2020-8 / 88', '[法]马科斯·扎菲罗普洛斯 / 李锋 / 福建教育出版社 / 2015-12 / 42.00元', '(美)罗伯特·蒙施/文、(美)迈克尔·马钦科/图 / 兔子波西 / 河北教育出版社 / 2009-5-1 / 24.80元', '夏綠蒂‧柏金斯‧吉爾曼 / 王若英 / 八方', '[美] 雪儿·海蒂 / 林淑贞 / 海南出版社 / 2002-9 / 58.00元', '理安·艾斯勒 (Riane Eisler) / 黄觉、黄棣光 / 社会科学文献出版社 / 2009-1-1 / 68.00元', '[英] 艾华 / 施施 / 江苏人民出版社 / 2008-01 / 18.00元', '陈培永 / 广东人民出版社 / 2016-6-1 / 12', '[美] 西格丽德·努涅斯 / 姚君伟 / 上海译文出版社 / 2020-11 / 58', '邓小南、王政、游鉴明 / 北京大学出版社 / 2011-4 / 48.00元', '[美]玛丽莲·亚隆、特蕾莎·多诺万·布朗 / 社会科学文献出版社 / 2020-9 / 78.00元', '艾丽丝 沃克 / 杨仁敬 / 北京十月文艺出版社 / 1987-9 / 3.65', '王政 / 天津人民出版社 / 2004-5 / 20.0', '【法】莫娜·奥祖夫 / 蒋明炜、阎雪梅 / 商务印书馆 / 2017-3-23 / 52.00元', '（英）格里塞尔达•波洛克 / 胡桥、金影村 / 江苏凤凰美术出版社 / 2016-7', 'Arlie Hochschild、Anne Machung / Penguin Books / 2003-4-29 / USD 16.00', '[美]理达·洪·芬奇 / 李雪顺 / 鹭江出版社 / 2016-1 / 38.00元', '洪君 / 上海辞书出版社 / 2021-7 / 88.00元', '[日] 国谷裕子 / 江晖 / 上海译文出版社 / 2021-6 / 65.00', '朱迪斯·贝尔 / 熊湘怡 / 北京大学出版社 / 2010-2 / 39.00元', '[巴西] 玛莎·巴塔莉娅 / 龚沁伊 / 文汇出版社 / 2019-11-15 / 39.9', '贝尔·胡克斯 Bell Hooks / 沈睿 / 金城出版社 / 2008-5 / 36.00元', '(德)奥古斯特·倍倍尔(August Bebel) / 葛斯、朱霞 / 中央编译出版社 / 1995年9月 / 19.80', '[法]柯莱特 / 陈波 / 天津人民出版社 / 2018-11 / 42.00元', '张京媛 主编 / 北京大学出版社 / 1992-1 / 7.60元', '露西．伊瑞葛來，譯／李金梅 / 李金梅 / 桂冠 / 2005-2-1 / NT$ 300', '王政 / 复旦大学出版社 / 2016-5 / 45.00元', '何念 / 2010-1 / 26.00元', 'Naomi Wolf / Harper Perennial / 2002-9-24 / USD 15.99', '〔美〕周蕾 / 蔡青松 / 上海三联书店 / 2008-9 / 25.00元', '戴锦华 / 知识出版社 / 1999-06 / 18.80元', '刘慧英 / 三联书店 / 1995-04 / 9.80元', '李昂 / 云南人民出版社 / 1987 / 1.10', '龙应台 / 广西师范大学出版社 / 2016-1 / 36', '辛西娅·恩洛 / 杨美姣 / 上海人民出版社 / 2021-6-1 / 88', '[法] 西蒙娜·德·波伏瓦 / 郑克鲁 / 上海译文出版社 / 2021-10 / 278.00', 'Simone de Beauvoir / Sheila Malovany-Chevallier / Vintage / 2011-5-3 / USD 17.95', '[美]尼可拉斯·D.克里斯多夫、[美]雪莉·邓恩 / 吴茵茵 / 浙江人民出版社 / 2018-4-6 / CNY 45.00', '[日]上野千鹤子 / 任佳韫、魏金美 / 浙江大学出版社 / 2021-10 / 58.00元', '[法] 皮埃尔·布尔迪厄（Pierre Bourdieu） / 刘晖 / 中国人民大学出版社 / 2017-1 / 38.00', '[法] 蕾拉·斯利玛尼 / 袁筱一 / 浙江文艺出版社 / 2018-3-1 / 42.00元', '[意] 埃莱娜·费兰特 / 陈英 / 人民文学出版社 / 2017-1 / 42.00元', '托莉·莫伊 / 卢靖洁、杨笛 / 江苏凤凰教育出版社 / 2017-7 / 44.00元', '[美] 莉丝·沃格尔 (Lise Vogel) / 虞晖 / 高等教育出版社 / 2009-9 / 23.00元', '[澳]伊丽莎白·格罗兹（Elizabeth Grosz） / 胡继华、何磊 / 河南大学出版社 / 2017-1 / 68.00元', '[美] 朱迪斯·巴特勒 / 王楠 / 河南大学出版社 / 2017-3 / CNY 45.00', 'Allan Johnson / Temple University Press / 2014-10-19', '(美)唐娜·哈拉维 / 陈静 / 河南大学出版社 / 2016-12-1 / CNY 78.00', '（美）凯特・米利特 / 钟良明 / 社会科学文献出版社 / 1999-01 / 29.80', 'Kate Manne / Oxford University Press / 2017-11-8 / USD 27.95', '陈顺馨 / 北京大学出版社 / 2007-5 / 26.00元', '张念 / 东方出版社 / 2018-1 / 58.00元', 'Iris Marion Young / Oxford University Press, USA / 2005-1-27 / USD 25.00', '朱丽亚·T.伍德 / 暨南大学出版社 / 2005-10 / 34.00元', 'Shulamith Firestone / Farrar, Straus and Giroux / 2003-3-5 / USD 15.00', 'Margaret Walters / 朱钢、麻晓蓉 / 外语教学与研究出版社 / 2008-11 / 18.00元', 'Tani E. Barlow / Duke University Press Books / 2004-3-25 / USD 28.95', 'Shani Orgad / Columbia University Press / 2019-2-5 / GBP 23.03', '赖特 (WrightElizabeth) / 王文华 / 北京大学出版社 / 2005-1 / 12.80元', '(荷)祖伦(L.van Zoonen)著 / 曹晋、曹茂 / 广西师范大学出版社 / 2007 / 32.00元', '[美] 伊丽莎白·格罗兹 / 胡继华、何磊 / 河南大学出版社 / 2012-12 / 32.00元', '[英] 弗吉尼亚·伍尔夫 / 刘文荣 / 文汇出版社 / 2012-7 / 25.00元', '[英] 安·奥克利 / 汪丽 / 南京大学出版社 / 2020-9 / 62.00', '王慧玲 / 中国友谊出版公司 / 2021-8 / 49.80元', '[美]香奈儿·米勒 / 陈毓飞 / 世纪文景/上海人民出版社 / 2020-8 / 59.00元', '[瑞士] 玛丽 - 路薏丝·冯·法兰兹 / 黄璧惠 / 台海出版社 / 2020-4-1 / 68.00', '[英]林德尔•戈登 / 胡笑然、肖一之、许小凡 / 上海文艺出版社 / 2021-8 / 78', '贾晋华 / 社会科学文献出版社 / 2021-7', '[英]凯特·潘克赫斯特 / 小竹 / 长江少年儿童出版社 / 42', '齊藤章佳 / 許郁文 / 墨刻 / 2021-2', '李银河 / 内蒙古大学出版社 / 2009年10月 / 34.00元', '[美] 伊沛霞 / 胡志宏 / 江苏人民出版社 / 2004-05 / 22.00元', '玛丽·沃斯通克拉夫特 / 王瑛 / 中央编译出版社 / 2006-10 / 23.80元', 'Judith Butler / Routledge / 2004-8-27 / USD 47.95', 'Eve Ensler 伊芙‧恩斯勒 / 丁凡、喬色分 / 心靈工坊文化 / 2014-8 / NT#360', '柏棣 / 广西师范大学出版社 / 2007-1 / 32.00元', '西蒙.德.波娃(Simone de Beauvoir) / 邱瑞鑾 / 貓頭鷹出版社 / 2013-10-8 / NT$1500', '玛丽·塔尔博特 / 艾晓明 / 华中师范大学出版社 / 2004-9 / 15.60元', '李银河 / 文化艺术出版社 / 2003-07 / 17.00', '周华山 / 光明日报出版社 / 2001-3 / 28.00元', '[加拿大] 玛格丽特·阿特伍德 / 陈小慰 / 上海译文出版社 / 2017-12 / 49.00元', '[英]伊莲·摩根 / 刘筠 / 上海译文出版社 / 2007-8 / 19.00元', 'Donna Haraway / Routledge / 1990-12-14 / USD 46.95', '［英］马特·里德利 / 刘茉、褚一明 / 重庆出版集团·重庆出版社 / 2021-7 / 68', '[英]弗吉尼亚·伍尔夫 / 吴晓雷 / 陕西师范大学出版总社 / 2014-4-1 / 25.00元', '安妮-玛丽·斯劳特 / 何兰兰 / 文化发展出版社 / 2016-9-20 / 45', '[英] 安吉拉·卡特 / 严韵 / 南京大学出版社 / 2019-6 / 120', '2019-3-1 / 54.00元', '汤尼•白露 / 沈齐齐 译、李小江 审校 / 上海人民出版社 / 2012-3-1 / 48.00元', '[美] 朱迪斯·巴特勒 / 何磊、赵英男 / 河南大学出版社 / 2016-12 / 45', '[日] NHK特别节目录制组 / 李颖 / 上海译文出版社 / 2017-9 / 38.00元', '贝贝尔・瓦德茨基 / 陈国鹏 / 上海人民出版社 / 2003-4-1 / 19.00元', '卡門.瑪麗亞.馬查多(Carmen Maria Machado) / 葉佳怡 / 啟明 / 2019-6-2 / NTD380.00', '玛利亚罗莎·达拉·科斯特、谢尔玛·詹姆斯 / 马新、Orpheus、邓宁立 / instance / 2017-10', '张李玺 编 / 中国社会科学出版社 / 2013-2 / 85.00元', 'Roxane Gay / Harper Perennial / 2014-8-5 / USD 15.99', '徐艳蕊 / 浙江大学出版社 / 2014-7 / 35.00', 'Margaret Walters / Oxford University Press, USA / 2006-1-12 / USD 11.95', '[美]艾德丽安·里奇 / 毛路、毛喻原 / 重庆出版社 / 2008年1月 / 25.00元', '（美）兰瑟 / 黄必康 / 北京大学出版社 / 2002-5 / 18.00元', '(英)厄苏拉·提德 / 马景超 / 拜德雅丨重庆大学出版社 / 2014-10 / 28.00', '[法]西尔维·库尔廷-德纳米 / 高毅、高煜 / 南京大学出版社 / 2019-6 / 69', '（英）玛格丽特·沃特斯（Walters, M.） / 朱刚、麻晓蓉 / 外语教学与研究出版社 / 2015-8-1 / 20.00', '(加拿大)玛格丽特·阿特伍德 / 陈小慰 / 译林出版社 / 2008-4 / 27.00元', '格里尔 / 欧阳昱 / 上海文艺出版社 / 2011-7-1 / 35.00元', '铁凝 / 人民文学出版社 / 2020-7 / 69.00元', 'Claudia Goldin / Princeton university press / 2021-10-5 / GBP 22.00', '理安·艾斯勒 / 社会科学文献出版社 / 2009-1 / 39.00元', '上野千鶴子 / 朝日新聞出版 / 2018-10 / JPY 994.00', '[意] 埃莱娜·费兰特 / 陈英 / 人民文学出版社 / 2017-10 / 62.00元', '（美）贝尔·胡克斯 / 晓征、平林 / 江苏人民出版社 / 2001-10-01 / 12.00元', '杨本芬 / 北京联合出版公司 / 2020-6 / 38.00元', '[英] 伯特兰·罗素(Bertrand Russell) / 汪文娟 / 上海人民出版社 / 2021-1 / 52', '杨联芬 / 人民文学出版社 / 2016-4 / 75.00元', 'Judith Butler / Routledge / 1993-9-22 / USD 41.95', '秦喜清 / 中国电影出版社 / 2008-8 / 40.00元', '刘思谦 / 河南大学 / 2007-9-1 / 35.00元', '美国《巴黎评论》编辑部 编 / 肖海生 等 / 人民文学出版社 / 2021-2 / 65.00元', 'Peggy Orenstein / Harper / 2016-3-29 / USD 26.99', 'Joanna Russ / University of Texas Press / 1983-1-1 / GBP 13.99', 'Chimamanda Ngozi Adichie / Knopf Doubleday Publishing Group / 2017-3-8 / USD 15.00', 'Virginia Woolf / Mariner Books / 1989-12-27 / USD 13.00', 'Kate Chopin / Bantam Classics / 1985-05-01 / USD 4.95', 'Janice A. Radway / University of North Carolina Press; Revised edition (November 30, 1991) / 1991-11-30 / USD 25.00', '安尼・埃尔诺 / 郭玉梅 / 百花文艺出版社 / 2003-1-1 / 12.80', '李银河 / 北京十月文艺出版社 / 2018-11 / 39.00元', '李银河 / 华东师范大学出版社 / 2005-8 / 38.00元', '张辛欣 / 三民书局 / 1988-12', '康正果 / 中国社会科学出版社 / 1994 / 7.00', '【加】朱爱岚 / 胡玉坤 / 江苏人民出版社 / 2021-9-1 / 68.00元', '幸洁 / 浙江大学出版社 / 2016-6-30 / 48.00', '崔乘範 / 龔苡瑄 / EZ叢書館 / 2020-7', '[英]拉莱恩·波尔 / 张然 / 文汇出版社 / 2021-4 / 48', '李小江,等 / 三联书店 / 2000-07 / 20.00元', '[英]格雷森·佩里（Grayson Perry） / 张艳、许敏 / 湖南文艺出版社 / 2020-6 / 59.00元', '中华全国妇女联合会妇女运动历史研究室 编 / 生活·读书·新知三联书店 / 1981-12 / 1.20元', '（美）西尔维娅·普拉斯 / 杨靖 / 译林出版社 / 2007-8 / 19.50', '何磊 / 河南大学出版社 / 2019-10 / 55.00元', '[俄罗斯]柳德米拉·乌利茨卡娅 / 陆妍、樊雪珮吟 / 浙江文艺出版社 / 2021-5-1 / 52', '（美）苏珊·桑塔格 / 姚君伟 / 上海译文出版社 / 2018-4-1 / 89.00元', '[美] 葛罗莉亚·斯坦能 / 罗勒 / 内蒙古人民出版社 / 1998-07 / 18.00', '三联书店 / 1997-05 / 15.80', 'Julia Kristeva / Anita Barrows / Marion Boyars Publishers Ltd / 2000-07-01 / USD 13.95', '[美] 阿娜伊斯·宁 / 朱萍 / 江苏人民出版社 / 2007-8 / 60.00元', 'Juliet Mitchell、Sangay K Mishra / Basic Books / 2000-08-21 / USD 20.00', '[日] 白水纪子 / 尹凤先、关豪 / 吉林文史出版社 / 2019-4-1 / 38', '琳達·麥道威爾 （Linda McDowell） / 徐苔玲、王志弘 / 群學出版有限公司 / 2006 年 05 月 10 日 / NT$450', '荒林、翟振明 / 北京大学出版社 / 2008-8 / 25.00元', '（美）麦金农 / 王笑红 / 广西师范大学出版社 / 2005-01 / 16.00元', '(英) 米克·基德森 / 程静 / 百花洲文艺出版社 / 2020-7 / 42.00', '李小江 / 江苏人民出版社 / 2006 / 19.00', '卡洛琳・麦茜特 / 吴国盛 / 吉林人民出版社 / 1999-4-1 / 24.00元', '[美]露丝•贝哈 / 李开 / 广西师范大学出版社 / 2019-5 / 59.00', '[美] 杰弗里·罗森 / 李磊 / 外语教学与研究出版社 / 2021-10 / 59.00元', '[意大利] 埃莱娜·费兰特 / 陈英、张燕燕 / 人民文学出版社 / 2021-8 / 69.00元', '[德] E. M. 温德尔 / 刁文俊 / 生活·读书·新知三联书店 / 1995-8 / 9.90元', '恩格斯 / 人民出版社 / 2003-5-1 / 12.00元', 'Mary Beard / Profile Books Ltd / 2017-11-2 / GBP 7.99', '米兰达·弗里克、珍妮弗·霍恩斯比 编 / 生活·读书·新知三联书店 / 2006-6 / 28.00元', '丁瑜 / 社会科学文献出版社 / 2016-6-1 / 89.00元', '罗侠 / 中国工人出版社 / 2002-1 / 18.00元', '(英) 弗吉尼亚·伍尔芙 / 伍厚恺、王晓路 / 四川文艺出版社 / 2019-1-1 / 38.00元', '[美] 伊芙·科索夫斯基·赛吉维克 / 郭劼 / 上海三联书店 / 2011-7-19 / 38.00元', '[英] 米兰拉·弗里克、詹妮弗·霍恩斯比 / 北京大学出版社 / 2010-7 / 39.00元', 'Dorothy Ko、Lydia H. Liu、Rebecca E. Karl / Columbia University Press / 2013-3-26 / USD 29.50', '张春田 / 秀威 / 2013-4 / 60', '辛西娅•格兰特•鲍曼、於兴中 / 於兴中 / 中国民主法制出版社 / 2018-11-1 / 48', '[英] 安东尼·吉登斯 / 陈永国、汪民安 等 / 社会科学文献出版社 / 2001-2 / 18.00元', '羅克珊娜.蓋伊(Roxane Gay) / 婁美蓮 / 木馬文化 / 2017-6-2 / NT$400', '谢丽尔•桑德伯格 / 中信出版社 / 2014-10 / 49.00元', '[法] 克里斯蒂娜·德·皮桑 / 张宁 / 江西人民出版社 / 2009-11 / 25.00元', '戴锦华 / 陕西人民教育出版社 / 2002-04 / 22.00元', '虹影 / 春风文艺出版社 / 2003-10 / 24.00', '[印] 佩鲁马·穆鲁根 / 卢屹 / 百花文艺出版社 / 2021-3 / 49.8', '[美] 贺萧（Gail Hershatter） / 张赟 / 人民出版社 / 2017-4-1 / CNY 88.00', '[日]斋藤茂男 / 高璐璐 / 浙江人民出版社 / 2020-1 / 45.00元', '董金平 / 南京大学出版社 / 2017-6 / 30.00元', 'Cho Nam-Joo / Jamie Chang / Anansi International / 2020-4-14 / AUD 20.00', 'Gail Hershatter / University of California Press / 2007-3-29 / USD 36.95', '甯應斌 / 台灣社會研究雜誌社 / 2009年05月01日 / 300 TWD', '王宇 / 上海三联书店 / 200603 / 21.00元', '黄淑娴 / 浙江大学出版社 / 2014-1 / 35', '（美）琳达・诺克林 / 李建群 / 中国人民大学出版社 / 2004-11 / 18.80', '上野千鶴子、田房永子 / 大和書房 / 2020-1-20 / 1650円', '[美] 苏珊·弗里德曼 / 陈丽 / 译林出版社 / 2014-4 / 49.00', '赵挺 / 江苏凤凰文艺出版社 / 2019 / 39.80', '王政、杜芳琴 / 生活・读书・新知三联书店 / 1998-8-1 / 23.80', '张岩冰 / 山东教育出版社 / 1998-10-1 / 9.6元', '[美] 阿莉森·贾格尔 / 孟鑫 / 高等教育出版社 / 2009-4 / 38.20元', '（美）罗伯特・麦克艾文 / 王祖哲 / 上海人民出版社 / 2005-01 / 35.00元', 'Angela Carter / Vintage Classics / 1995-7-13 / GBP 8.99', 'Tabi Jackson Gee、Freya Rose / Firefly Books / 2018-9-11 / GBP 12.99', 'Nancy J. Chodorow / University of California Press / 1999-11-02 / USD 24.95', '张念 / 三辉图书/商务印书馆 / 2014-2 / 39.00', 'Luce Irigaray / Catherine Porter、Carolyn Burke / Cornell University Press / 1985-5-10 / USD 19.95', '(英)W.萨默塞特·毛姆 / 阮景林 / 重庆 / 2012-05-01 / 32.00元', '2016-6', '（美）理安·艾斯勒 / 程志民 / 社会科学文献出版社 / 1993 / 7.5元', '(英)伍尔夫 / 王还 / 三联书店 / 1989.2 / 1.45', 'Betty Friedan / Penguin Classics / 2010-3-4 / GBP 12.99', '安吉拉·萨伊尼（Angela Saini） / 李贯峰 / 重庆大学出版社 / 2021-4-10 / 58', '程锡麟 / 上海外语教育出版社 / 2011-6 / 16.00元', '凱瑟琳．麥金儂、Catharine A. MacKinnon / 賴慈芸、雷文玫、李金梅 / 時報文化 / 1993-3-15', '阎连科 / 河南文艺出版社 / 2020-5 / 46.80元', '[美] 贺萧 / 韩敏中、盛宁 / 江苏人民出版社 / 2010-7-1 / 68.00元', 'Linda Nochlin / Thames & Hudson Ltd / 2021-1 / GBP 9.99', 'Kenneth Clark / Princeton University Press / 1972-10-1 / USD 45.00', '[英]简·弗里德曼 / 雷艳红 / 吉林人民出版社 / 2007-9 / 14.00元', 'Deborah L.Madsen / 外语教学与研究出版社 / 2006-9 / 29.90元', 'Virginia Woolf / Mariner Books / 2006-7-3 / USD 15.00', '菲利斯·切斯勒 / 汪洪友 / 中国社会科学出版社 / 2006-12 / 31.00元', '多诺万 / 赵育春 / 江苏人民出版社 / 2003-1 / 20.00元', 'Rafia Zakaria / W. W. Norton & Company / 2021-8', '里斯 / 方军 吕静莲 / 上海文艺出版社 / 2011-7-1 / 19.00元', 'bell hooks / South End Press / 2000-10-1 / USD 16.00', '[美]阿琳•克莱默•理查兹 / 刘文婷、王晓彦 / 世界图书出版有限公司北京分公司 / 2017-4-1 / 78.00元', '舒芜 / 安徽教育出版社 / 2004-05 / 36.00元', '[美] 伊琳·卡蒙（Irin Carmon）、[美] 莎娜·卡尼兹尼克（Shana Knizhnik） / 骆伟倩 / 湖南文艺出版社 / 2018-9 / 59.80元', '卡罗尔·吉利根 / 肖巍 / 中央编译出版社 / 1999-2 / 19.80元', '孟悦，戴锦华 / 河南人民出版社 / 1989-7 / 3.8', '何春蕤 / 皇冠文学出版有限公司 / 1994 / NT$ 150', '吴晓乐 / 中国友谊出版公司 / 2020-11-12 / 49.80', '（加）巴巴拉·阿内尔 / 郭夏娟 / 东方出版社 / 2005-9 / 32.00元', '萌萌 / 上海人民出版社 / 1996-04 / 14.00', '[美]罗莎莉 / 丁佳伟、曹秀娟 / 江苏人民出版社 / 2015-3 / 25.00元', '滕静茹 / 北京:中国建筑工业出版社 / 2014 / CNY58.00', '[英] 吴尔夫 / 林燕 / 人民文学出版社 / 2016-1 / 29.00元', '[法] 米歇尔·福柯 / 姬旭升 / 上海人民出版社 / 1999-1 / 19.80元', 'Camille Paglia / Vintage / 1991-08-20 / USD 18.00', '（美）丹 · 金德伦、（美）麦克 · 汤普森 / 吴书榆 / 金城出版社 / 2010-5 / 29.80元', '[美] 南茜·弗雷泽 / 于海青 / 2009-2 / 32.00元', '賴香吟 / 印刻 / 2007 年 03 月 15 日 / NT$200', '伊迪斯·华顿 / 赵兴国、刘景堪 / 译林出版社 / 1993-11 / 9.00', '[法] 玛塞勒·索瓦若、袁筱一（导读） / 唐洋洋 / 一頁folio | 广西师范大学出版社 / 2021-7 / 36.00元', '[英] 安吉拉·卡特 / 严韵 / 南京大学出版社 / 2012-3-29 / 100.00元', '合山究 / 蕭燕婉 譯注 / 聯經 / 2016-12 / NT780', 'Belenky, Mary Field/ Clinchy, Blythe McVicker/ Goldberger, Nancy Rule/ Tarule, Jill Mattuck / Perseus Books Group / 1997-1 / 138.00元', '李小江 / 河南人民出版社 / 1988-1 / 3.1元', '刘岩 / 北京大学出版社 / 2010-6 / 42.00元', '[美] 雪儿·海蒂 / 林瑞庭、谭智华 / 海南出版社 / 2002-9 / 56.00元', 'Marilyn Frye / Crossing Press / 1983-05 / USD 12.95', 'Caputo, John D.; Alcoff, Linda Martin; / 2011-5 / $ 28.19', 'Lisa Ann Raphals / State University of New York Press / 1998-7-30 / USD 33.95', '[英] 白馥兰 / 吴秀杰、白岚玲 / 江苏人民出版社 / 2017-3-1 / 54.00元', '[美] 芭芭拉·金索沃 / 杨向荣 / 南海出版公司 / 2017-10 / 49.60元', 'Linda Gordon / University of Illinois Press / 2007-03-12 / USD 25.00', '[日] 清水洁 / 王华懋 / 后浪丨四川人民出版社 / 2021-2 / 45.00元', '蓝佩嘉 / 吉林出版集团有限责任公司 / 2011-8 / 32.00元', 'Elinor Cleghorn / Dutton Books / 2021-6', '高惠蓉 / 上海三联书店 / 2010-9 / 30.00元', 'Chandra Talpade Mohanty / Duke University Press Books / 2003-2-28 / USD 24.95', 'Tani E. Barlow (Editor) / Duke University Press Books / 1994-2-15 / USD 24.95', '(美)伊丽莎白·斯特劳特 / 张芸 / 南海出版公司 / 2011-9-1 / 29.50元', '[加] 艾丽丝·门罗 / 李文俊 / 北京十月文艺出版社 / 2016-10-1 / 49.50元', '【西蒙娜·德·波伏瓦】 / 晓宜、张亚莉 / 中国国际广播出版社 / 1988-7 / 2.20', '(澳)薇尔·普鲁姆德 / 重庆出版社 / 2007-4 / 35.00元', 'Nancy J. Chodorow / 張君玫 / 群學 / 2003年10月20日 / NT$360', '[德] 西美尔、刘小枫 选编 / 顾仁明 / 华东师范大学出版社 / 2010-4 / 29.80元', 'Judith Butler、Joan W. Scott / Routledge / 1992-5-21', '恩格斯 / 中共中央马克思 恩格斯著作编译局 / 人民出版社 / 1972-12 / 0.42元', '王绯 / 商务印书馆 / 2004-07 / 32.00', '李小江 / 牛津大學出版社 / 1997 / 95', '王向贤、杜芳琴 / 天津人民出版社 / 2003-10-1 / 33.00', '张洁 / 北京出版社 / 1983 / 0.77元', '(英)霭理士 / 潘光旦 / 上海三联书店 / 2006-6 / 36.00元', '趙南柱 / 尹嘉玄 / 漫遊者文化 / 2018-5-3 / NTD310元', 'Laura S. Brown / American Psychological Association (APA) / 2009-9-1 / USD 24.95', '潘绥铭 / 中国社会科学出版社 / 2000-08 / 28.00', '杨格 / 江苏凤凰文艺出版社 / 58元', '包亚明 / 上海教育出版社 / 2001-12 / 22.00元', 'Sally Taylor Lieberman / University of Virginia Press / 1998', '【法】弗洛朗斯·塔马涅 / 周莽 / 商务印书馆 / 2009-04 / 60.00元', '沈潇 / 中国社会科学出版社 / 2021-6 / 98.00元', '[美] 葛罗莉亚·斯坦能 / 吕郑达 / 内蒙古人民出版社 / 1998-06 / 19.80', '苏敏 口述、卓夕琳 执笔 / 华中科技大学出版社 / 2021-7-15 / 56', 'Vera Mackie / Cambridge University Press / 2003-3-17 / USD 119.99', '(美)贝蒂・弗里丹 / 邵文实/尹铁超 / 北方文艺出版社 / 2000-01-01 / 20.80', '(英)玛丽·伊格尔顿 / 胡敏 / 湖南文艺出版社 / 1989 / 5.8', '[日]伊藤诗织 / 匡匡 / 中信出版集团 / 2019-4 / 48.00元', '[英]弗吉尼亚•吴尔夫 / 贾辉丰 / 商务印书馆 / 2012-10 / 28.00元', '谢丽华 主编、《农家女百事通》杂志社课题小组 编 / 贵州人民出版社 / 1999-04 / 13.80', '[美] 芭芭拉·金索沃 / 张竝 / 南海出版公司 / 2017-3 / 59.00元', 'Professor Nancy F. Cott / Yale University Press / 1989-09-10 / USD 23.00', '刘岩 / 2011-10 / 38.00元', '程远征 / 龙门书局 / 2012-4 / 29.80元', 'Waters, Melanie 编 / 2011-3 / $ 101.70', 'Carolyn Merchant / HarperOne / 1990-1-10 / USD 17.99', 'Fan Hong / Routledge / 1997-06-01 / USD 190.00', '杨红樱 / 2013-5 / 20.00元', 'Linda J. Nicholson / Routledge / 1989-10 / $ 41.75', '瑞科科雅・索琳歌尔 / 徐平 / 广西师范大学出版社 / 2003-8-1 / 18.00元', 'Wesleyan / 2016-6-1 / USD 90.00', '(美) 西尔维娅•普拉斯 / 杨靖 / 译林出版社 / 2013-6 / 24', '[英]维吉尼亚·伍尔夫 / 于是 / 中信出版社 / 2019-11 / 45.00元', '[英] 乔治·爱略特 / 项星耀 / 人民文学出版社 / 2018-9 / 78.00元', 'Catharine A. MacKinnon / Harvard University Press / 1988-04-01 / USD 26.00', 'Ehrlich, Susan / 2001-3 / $ 68.87', 'Jodi Kantor、Megan Twohey / 游淑峰 / 麥田 / 2021-3', 'Francesca Bray / Routledge / 2013-6 / USD 51.95', '文潔華 / 香港人文科學 / 1996', '[英] 珍妮特·温特森 / 于是 / 新星出版社 / 2010-7 / 25.00元', '熊欢 等 / 社会科学文献出版社 / 2021-6 / 79.00元', '姚鄂梅 / 上海文艺出版社 / 2020-10 / 48.00元', 'edited by  Carolyne Larrington / Harpercollins / 1992-11 / USD 24.00', '梁巧娜 / 中央民族大学出版社 / 2004-8 / 25.00元', 'Euripides / Philip Vellacott / Penguin Classics / 1963-02-27 / GBP 8.99', '[加拿大] 玛格丽特·阿特伍德 / 陈小慰 / 上海译文出版社 / 2020-7 / 59', '[美] 艾朗诺 / 夏丽丽、赵惠俊 / 上海古籍出版社 / 2017-3 / 78', 'Luise von Flotow / Routledge / 1997-7-1 / GBP 20.99', '(英)B·卡尔 / 耿文秀 / 华东师范大学出版社 / 2011-6-25 / 39.80元', '[意] 埃莱娜·费兰特 / 陈英 / 人民文学出版社 / 2017-4 / 59.00元', 'Carol Gilligan / Harvard University Press / 1990-7-1 / GBP 14.95', 'Elizabeth Croll / Schocken / 1988-5-5 / USD 8.95', 'Maxine Hong Kingston / Vintage / 1989-4-23 / USD 14.95', '郭乙瑶 / 中国人民大学出版社 / 2017-10 / 28.00元', '伊沛霞、姚平、张聪 / 上海古籍出版社 / 2021-4 / 58.00元', '李又寧、張玉法 / 龙文出版股份有限公司 / 463.31', '(美)托妮·莫里森 / 潘岳、雷格 / 南海出版公司 / 2013-6 / 39.00元', 'Ching Kwan Lee / University of California Press / 1998-9-1 / USD 31.95', 'Janet Price / Routledge / 1999-7 / $ 62.15', 'Dotterer, Ronald L. (EDT)/ Bowers, Susan (EDT)/ Conference on Women, the Arts, and Society (1988 : Susquehanna University)/ Susquehanna University (CO / Associated Univ Pr / 1992-12 / $ 38.42', 'Kay Ann Johnson / University Of Chicago Press / 1985-10-15 / USD 32.00', '韦清琦、李家銮 / 外语教学与研究出版社 / 2019-5 / 45.9', '刘剑梅 / 生活·读书·新知三联书店 / 2007-4 / 25.00元', '', '[美] 赫伯特·马尔库塞 / 黄勇、薛民 / 上海译文出版社 / 2012-4 / 30.00元', 'Nicholas D. Kristof、Sheryl Wudunn / 吳茵茵 / 馬可孛羅 / 2010年08月13日 / NTD350元', '刘人鹏 / 臺灣學生書局 / 2000 / 116.00元', '李银河、王小波 / 山西人民出版社 / 1992-11 / 4.50元', '鄭振偉 / 嶺南學院現代中文文學研究中心 / 1996-11', 'David D.Gilmore / 何雯琪 / 書林出版有限公司 / 2005-07-01 / NT$ 350', '[日] 叶真中显 / 林佩瑾 / 北京联合出版公司 / 2020-7 / 58.00', 'Mary Daly / Beacon Press / 1978 / USD 22.00', '河野 真太郎 / 堀之内出版 / 2017-7-20 / JPY 1944', '潘幸知 / 台海出版社 / 2020-10 / 49.80', 'Malika Booker、Sharon Olds、Warsan Shire / Penguin / 2017-1-26 / GBP 7.99', '[美]雪儿·海蒂 / 林淑贞 / 海南出版社 / 2016-9 / 68.00', \"Jin Y. Park / University of Hawai'i Press / 2017-2-28 / GBP 49.90\", '[英]萨拉·萨里 / 马景超 / 拜德雅 | 重庆大学出版社 / 2018-12 / 40.00元', 'DK / DK / 2019-2-5 / USD 25.00', '李娟 / 万卷出版公司 / 2010-6 / 25.00元', '马蜂窝 出品、王家敏 主编 / 中信出版集团 / 2019-7 / 88.00', 'Nancy Fraser、Tithi Bhattacharya、Cinzia Arruzza / Verso Books / 2019-3-19 / GBP 7.99', '陈东原 / 商务印书馆 / 2017-12 / 106.00元', '[日]濑户内寂听 / 竺家荣 / 人民文学出版社 / 2015-1 / 26.8', '潘绥铭、黄盈盈、王洁、张慧霞、杨蕊、何为、刘振英、张春萌 / 香港大道出版社 / 2005年1月 / 港幣88/人民幣80', '李庚 / 2011-12 / 35.00元', 'Andrea Dworkin / Penguin / 1991-8-29 / GBP 8.04', 'Jeffreys, Sheila / Routledge / 2005-6 / 317.00元', '弗吉尼亚·吴尔夫 / 贾辉丰 / 人民文学出版社 / 2003-4 / 11.00', 'Angela Carter / Penguin / 2001-03-01 / USD 12.00', 'Nancy Fraser / Verso / 2013-4-24 / USD 24.95', '劉芷妤 / 逗點文創結社 / 2020-4-1 / NTD350', '闵冬潮 / 2009-7 / 25.00元', '【德】乌特 艾尔哈特 / 陈民 / 江苏人民出版社 / 1998-10 / 8.00', '[英]雷蒙德·威廉斯 / 倪伟 / 上海人民出版社 / 2013-1 / 52.00元', '应宇力 / 上海译文出版社 / 2005-06 / 20.00', 'Plant, Sadie / 30.00', '姚鄂梅 / 山岳文艺出版社 / 2019-5 / 59.8', 'Virginia Woolf / Granada / 1977-4-14', '周蕾 / 麦田 / 1997', 'Gilbert, Sandra M.; Gubar, Susan / Indiana University Press / 1981-2-22 / USD 20.00', '肖瓦尔特 / 外研社 / 2004-6 / 32.90元', 'Susan Brownmiller / Ballantine Books / 1993-5-11 / USD 17.00', '邱珍琬 / 五南 / 2006-09-01 / 209.0', '李孝悌 / 一方 / 20021001 / NT$ 240', '[美] 理查德·耶茨 / 侯小翊 / 重庆出版社 / 2009-4 / 28.00', '龚维英 / 河南大学出版社 / 1993-11-1 / 13.50元', '[英] 安娜·伯恩斯 / 吴洁静 / 江苏凤凰文艺出版社 / 2020-8 / 58.00元', '白凯 / 刘昶 / 上海书店 / 2007-1 / 22.00元', 'Monique Wittig / Beacon Press / 1992-2-3 / USD 18.00', '[美] 克里斯汀·汉娜 / 黄瑶 / 四川人民出版社 / 2016-11 / 38.00元', '赵园 / 北京大学出版社 / 2014-6-1 / CNY 69.00', '赵南柱、崔恩荣、金异说、崔正和、孙宝渼、具并模、金成重 / 简郁璇 / 文治图书 / 花城出版社 / 2021-3-1 / 48', '[意]法拉奇 / 毛喻原、王康 / 九州出版社 / 2020-3 / 45', '刘玉霞 / 中国社会科学出版社 / 2011-11 / 26.00元', '张莉 编 / 清华大学出版社 / 2020-7 / 58.00元', '[美] 克拉利萨·品卡罗·埃斯蒂斯 / 严冬冬 / 吉林文史出版社 / 2011-6 / 39.80元', '潘绥铭、黄盈盈 / 中国人民大学出版社 / 2013-8 / 78.00元', '禹燕 / 东方出版社 / 1988年6月 / 3.10', '（美）艾伦•B.知念 / 舒伟、丁素萍 / 广西师范大学出版社 / 2017-5 / 56.80元', '[美] 艾伦·B.知念( Allan B. Chinen ) / 郭菀玲 / 广西师范大学出版社 / 2017-5 / 49.80元', '[日] 饭岛裕子 / 吕灵芝 / 新星出版社 / 2021-5 / 42.00元', '郜元宝 / 北京广播学院出版社 / 2000-1-1 / 19.80', 'Chimamanda Ngozi Adichie / Fourth Estate / 2018-3-8 / GBP 5.00', '曹晋 / 2008-5 / 25.00元', '（美）唐娜 • 哈拉维 / 赵文 / 河南大学出版社 / 2017-6-26 / 100.00元', '[美] 大卫·D·吉尔默 / 孙伟、张苗凤 / 浙江大学出版社 / 2021-2 / 62.00元', '井上輝子、江原由美子、加納実紀代、上野千鶴子、大沢真理 / 岩波書店 / 2002 / 1500円', 'Rebecca Traister / Simon & Schuster / 2016-3-1 / USD 27.00', '郭爱妹 / 上海教育出版社 / 2006-12 / 20.50元', 'Bracha Ettinger / Univ Of Minnesota Press / 2006-10-22 / USD 25.00', 'Hemmings, Clare / 2011-3 / $ 27.06', '周宏翔 著 / 江苏凤凰文艺出版社 / 2021-9 / 39.80 元', '卢淑樱 / 华东师范大学出版社 / 2020-6 / 69.80元', '[日]中村桃子 / 徐微洁 / 浙江工商大学出版社 / 2017-12', '揚智 / 19950201 / 60.00元', 'Sherry Simon / Routledge / 1996-10-08 / USD 160.00', 'Norma Broude、Mary D、Garrard、謝鴻均等 譯 / 台北市 : 遠流出版實業股份有限公司 / 1998年5月1日 / 新臺幣450元', '苏红军、柏棣 / 广西师范大学出版社 / 2006-6 / 32.50元', 'Joan Wallach Scott / Columbia University Press / 2018-2-20 / USD 30.00', '[英] 罗素 / 谢显宁 / 贵州人民出版社 / 1988 / 2.40', 'Wendy Larson / Stanford University Press / 1998-06-01 / USD 59.95', 'Rosalind C. Morris 编 / Columbia University Press / 2010-3-16 / USD 26.00', '范若兰 / 时事出版社 / 2013-3 / 68.00元', 'Verónica Gago / Verso / 2020-10', 'Mary Daly / Beacon Press / 1993-06-01 / USD 21.00', '胡适 / 中国言实出版社 / 2014-2-1 / 28', '钟楚曦、罗晋、谭松韵、潘云贵、王天宁、另维 / 长江出版社 / 2021-3-1 / 59.8', 'Laurel Bossen、Hill Gates / Stanford University Press / 2017-1-25 / USD 45.00', '[意] 埃莱娜·费兰特 / 陈英 / 人民文学出版社 / 2020-10 / 69.00元', '何春蕤 / 巨流圖書公司 / 2001 / TWD 350', '王政、张颖 / 王政、张颖 / 上海三联书店 / 2012-5 / 48.00元', 'Ronan Farrow / Little, Brown and Company / 2019-10-15 / USD 30.00', '赵军 / 2011-6 / 50.00元', '李琦 / 2008-7 / 36.00元', '彭妮·斯帕克 / 滕晓铂、刘翕然 / 江苏凤凰美术出版社 / 78元', '贝蒂.弗里丹 (美) / 李淑芹/等 / 作家出版社 / 1997-01 / 27.00', 'GRISELDA POLLOCK / 陳香君 / 遠流出版公司 / 2000-04-01 / NT$ 350', '刘利群 / 中国传媒大学出版社 / 2004-09-01 / 28.00元', '白先勇 / 作家出版社 / 2011-5-1 / 28.00元', 'Dooling, Amy D. (EDT)/ Torgeson, Kristina M. (EDT) / Columbia University Press / 1997-4-15 / USD 35.00', '理安.爱斯勒 / 程志民', '海青 / 生活·读书·新知三联书店 / 2013-10-1 / 29.00元', '[美]金·戈登 / 董楠 / 广西师范大学出版社 / 2018-8 / 69.00', '[清] 陈端生 著、郭沫若 校订 / 北京古籍出版社 / 2002-11 / 60.00元', 'Tiantian Zheng / University of Minnesota Press / 2009-4-3 / USD 67.50', '许春荣 / 2012-8 / 39.00元', '陶丽·莫依 / 林建法、赵拓 / 时代文艺出版社 / 1992 / 4.95', '〔美〕陈愉 / 江苏凤凰文艺出版社 / 2020-7 / 58.00元', '周慧玲 / 城邦（麥田） / 2004-6-29 / NT$ 360', '[日]建畠晢 等 / 钱志坚 / 中信出版集团·小满 / 2021-7 / 299', '李英桃 / 浙江人民出版社 / 2006-11 / 39.00元', 'Federici, Silvia / PM Press/Common Notions/Autonomedia / 2012-9 / USD 15.95', '[美]罗伯塔•塞林格•特瑞兹 / 李丽 / 安徽少年儿童出版社 / 2010-1 / 16.00元', '茱莉亞．克莉斯蒂娃 / 彭仁郁 / 桂冠 / 20030501 / NT$ 250', '张洁 / 人民文学出版社 / 2011-9 / 68.00元', 'Bell, Ella L. J. Edmondson; Villarosa, Linda; / 2011-1 / $ 16.94', '【美】玛丽·麦卡锡 / 叶红婷 / 重庆出版社 / 2016-2 / 48.00元', 'Heide Goettner-Abendroth / Peter Lang Gmbh, Internationaler Verlag Der W / 2013', '李志生 / 北京大学出版社 / 2014-1 / 42.00', '倪志娟 / 高等教育出版社 / 2012-12 / 48.00元', 'Susan McClary / 張馨濤 / 商周出版 / 2003-7-24 / 132.00元', '方刚、朱雪琴  主编 / 中国社会科学出版社 / 2015-2 / 48.00元', '[英] 多琳·马西 / 毛彩凤、袁久红、丁乙 / 首都师范大学出版社 / 2017-12 / 68.00元', '[美] 埃利希·诺伊曼 (Erich Neumann) / 胡清莹 / 世界图书出版有限公司北京分公司 / 2017-9-1 / 49.00元', 'Kyungja Jung / Routledge / 2013-9-10 / USD 145.00', '杨远婴、魏时煜 / 华东师范大学出版社 / 2009-12 / 98.00元', '南开大学出版社 / 2010-4 / 34.00元', '王涵 主编 / 上海书画出版社 / 2019-9 / 398.00', '李建群 / 山东美术出版社 / 2006-5 / 36.00元', '信田佐代子 / 黄琳雅', 'Eve Ensler / Villard / 2010-02-09 / USD 20.00', '德博拉.G.费尔德 / 新星出版社 / 2006-12 / 39.00元', '[美] 厄休拉·勒古恩 / 陶雪蕾 / 北京联合出版公司 / 2017-12 / 45.00', 'Susan Mann / Stanford University Press / 1997-5-1 / USD 28.95', '（加）奈奥米·R·高登博格 / 李静、高翔 / 民族出版社 / 2008-12 / 24.00元', 'Tiefer, Leonore / Perseus Books / 294.00 元', 'Clare Chambers / Oxford University Press / 2017-7-27 / GBP 25.00', 'Holly Lewis / Zed Books / 2016-2-15 / USD 29.95', '艾琳娜.斐蘭德 / 李靜宜 / 大塊文化', '林幸谦 / 广西师范大学出版社 / 2003-12-01 / 26.80', 'Little, Judith A. / Prometheus Books / 2007-10-30 / USD 27.99', '贝蒂·史密斯（Betty Smith) / 方柏林 / 译林出版社 / 2009-7 / 28.00元', 'Jeffreys, Sheila / Routledge / 2005-8 / $ 175.15', 'McCann, Carole R./ Kim, Seung-Kyung / Routledge / 2009-7-22 / USD 72.95', '江苏人民出版社 / 1998-04 / 12.80', '简•奥斯丁(Jane Austen) / 孙致礼 / 译林出版社 / 2010-6-1 / 18.50元', 'Catharine A. MacKinnon / Harvard University Press / 1996-03-01 / USD 19.00', '[日]小野和子 / 高大伦、范勇 / 四川大学出版社 / 1987-2 / 1.55', '玛格丽特·沃特斯 (Margaret Walters) / 外语教学与研究出版社 / 2013-6-1 / CNY 26.00', '[法] 西尔维•库尔廷-德纳米 / 高毅、高煜 / 新星出版社 / 2008-2 / 32.00元', '[法]皮埃尔•布尔迪厄（Pierre Bourdieu） / 刘晖 / 中国人民大学出版社 / 2011-12 / 25.00元', '[韩]赵南柱 / 尹嘉玄 / 贵州人民出版社 / 2019-9 / 45.00元', '朱虹、周欣 编 / 辽宁教育出版社 / 2002-2-1 / 28.00', '奥托·魏宁格、Otto Weininger / 肖聿 / 中国社会科学出版社 / 2006-9 / 33.00元', '曼素恩 (Mann Susan) / 定宜庄 等 / 江苏人民出版社 / 2005-01 / 23.00', '卜卫 / 江苏人民出版社 / 2001-10 / 18.0', '［美］卡门•玛丽亚•马查多 / 叶佳怡 / 世纪文景/上海人民出版社 / 2021-5 / 59.00元', '[美] 托妮·莫里森 / 胡允桓 / 南海出版公司 / 2014-7-1 / 32.00', '[美] 迪莉娅·欧文斯 / 王泽林 / 博集天卷 | 湖南文艺出版社 / 2019-10 / 58', 'Mason Currey / 莊安祺 / 聯經出版公司 / 2020-9-3 / 420新台币', '杨从吾 编 / 2011-1 / 25.80元', 'Duby, Georges; Perrot, Michelle; Fraisse, Genevieve / 1993-1 / $ 66.11', 'Gail Hershatter / Rowman & Littlefield Publishers / 2018-9-15 / USD 99.00', '刘剑梅 / 生活•读书•新知三联书店  生活书店出版有限公司 / 2015-7-1 / 32', '宋兆麟 / 三联书店上海分店 / 1990.7', '周宝妹 / 北京大学出版社 / 2021-9 / 59.00元', '肖巍 / 四川人民出版社 / 2000-9 / 11.00', 'Lloyd, Genevieve / Routledge / 1993-7 / $ 42.88', '大塚英志 / 筑摩書房 / 2001', 'French, Marilyn / 2008-9 / $ 22.54', '[法] 茱莉亚·克里斯蒂娃 / 张颖、王小姣 / 四川大学出版社 / 2016-11-1 / 52.00元', '[日] 山田宗树 / 王蕴洁、刘珮瑄 / 文治图书·四川文艺出版社 / 2018-5 / 45.0元', '南宫梅芳 / 2012-7 / 39.00元', '文洁华 / 广西师范大学出版社 / 2016-5-1 / 36.00元', '苏青 / 中国妇女出版社 / 2009-9-1 / 26.00元', 'Beverly Bossler (Editor) / University of Washington Press / 2015-5-6 / USD 50.00', 'Gerda Lerner / Oxford University Press / 1987-10-22 / USD 19.95', 'Emily Nagoski Ph.D. / Simon & Schuster / 2015-3-3 / USD 16.99', 'Ien Ang、伊恩.昂、洪美恩 / Routledge / December 27, 1985 / $29.95', '[英]劳拉·穆尔维 (Laura Mulvey )、Laura Mulvey / 钟仁 / 上海人民出版社 / 2007-2 / 26.00元', 'Beverly Bossler / Harvard University Asia Center / 2013-3-18 / USD 49.95', '[罗马尼亚]米哈埃拉•诺洛茨 / 赵俊英 / 广西师范大学出版社 / 2019-3 / 99.00元', 'Vint, Sherryl / Univ of Toronto Pr / 2007-2 / $ 65.54', '克罗迪娜 / 王晓峰 / 人民文学出版社 / 2007-9 / 18.00元', '罗丽莎 / 黄新 / 江苏人民出版社 / 2006-5 / 24.00元', '武汉大学出版社 / 2013-2 / 25.00元', '[美]芭芭拉·阿蒙德 / 何莹 / 中国人民大学出版社 / 2019-3 / 75.00元', '迈尔森 / 丁琳 / 大连理工大学 / 2008-10 / 20.00元', '[意] 埃莱娜·费兰特 / 陈英 / 人民文学出版社 / 2018-7 / 62.00元', '[英] 埃德温·A·艾勃特 / 鲁冬旭 / 上海文化出版社 / 2020-8 / 39.80元', 'Giovanna Franca Dalla Costa / 122.00元', '吴菁 / 2008-8 / 26.00元', '玛丽·沃斯通克拉夫特 / 广东经济出版社 / 2005-05-01 / 18.00元', '罗婷 / 中国社会科学出版社 / 2004-12-01 / 26.0', '孟宪范 / 中国社会科学出版社 / 2010-5 / 40.00元', '(日) 落合惠美子 / 郑杨 / 山东人民出版社 / 2010-4 / 28.00元', '张莉 / 北京十月文艺出版社 / 2020-9 / 55', '夏晓虹 / 北京大学出版社 / 2004-8-1 / 30.00元', '菊地夏野 / 大月書店 / 2019-2-28 / 2592円', 'Simone de Beauvoir / H. M. Parshley / Vintage / 1989-12-17 / USD 17.95', '（美）克里斯蒂·安·罗森（Christine Ann Lawson） / 王思睿 / 中国轻工业出版社 / 2020-3 / 68.00元', '萬仕國、劉禾 / 中国人民大学出版社 / 2016-4-1 / CNY 139.00', '[德] 弗里德里希·恩格斯 / 中共中央马克思恩格斯列宁斯大林著作编译局 / 人民出版社 / 2018-4-1 / 36.00', 'Kathryn Hemmann / Cham : Springer International Publishing', '諾拉．文森 / 陳希林 / 木馬文化事業股份有限公司 / 2007/9/1 / NT$320', '赵军 / 中国法制出版社 / 2007-4 / 32.00元', '(英)伊丽莎白·达琳 / 侯国良、初国卿 / 学苑出版社 / 1989.5 / 3.70', '荒林 / 广西师范大学出版社 / 2004-03 / 28.00', '欧阳灿灿 / 中国社会科学出版社 / 2015-5 / 66.00元', '高橋幸 / 晃洋書房 / 2020-6', 'Dorothy Dinnerstein、Adrienne Harris (Afterword)、Ann Snitow (Introduction) / Other Press, LLC / 1999/01 / $20', 'Teresa de Lauretis / Indiana University Press / 1984-05-01 / USD 19.95', '[美]魏玛莎 主编 / 朱亮亮、吕维敏 / 北京大学出版社 / 2021-7 / 99.00元', 'Catharine A. MacKinnon / Harvard University Press / 1991-09-01 / USD 20.50', 'Cinzia Arruzza / Merlin Press / 2013-8-1 / USD 19.99', '[美] 陈愉 / 王剑波 / 中信出版社 / 2012-5 / 32.00元', '[美] 白馥兰 / 江湄、邓京力 / 江苏人民出版社 / 2021-4-1 / 38.00元', '克里斯蒂娜·德·皮桑 / 中国对外翻译出版有限公司 / 2014-4-1 / CNY 17.50', 'Jodi Kantor、Megan Twohey / Penguin Press / 2019-9-10 / USD 28.00', '【台湾】 李乔 / 春风文艺出版社 / 1995 / 12.00元', '[美] 西尔维娅·普拉斯 / 包慧怡 / 江苏凤凰文艺出版社 / 2019-10-16 / 39.8', '梁羽生 / 广东旅游出版社 / 1996-03 / 29.6', 'Eve Ensler / Villard / 2000-12-5 / USD 12.95', '[美] 沃伦•法雷尔 / 孙金红 / 世界图书出版公司北京公司 / 2015-9-1 / 59.80元', '贝蒂.弗里丹 / 哈尔滨:北方文艺出版社 / 1999-2 / 21.80元', 'Alcoff, Linda/ Potter, Elizabeth (EDT) / Routledge / 1993-3-4 / GBP 38.99', '[奥地利]伯娜德·维根斯坦 / 张小平 / 中国工人出版社 / 2021-1-22 / 75', '(韩)韩江 / 千日 / 重庆出版社 / 2013-7-1 /  28.00', 'Janet M. Theiss / University of California Press / 2005-1-10 / USD 85.00', 'Donna J. Haraway / Feltrinelli / 1995', '[美]卡伦•费尔曼 / 王莹 / 重庆出版社 / 2015-8 / 36.00元', '颜海平 / 季剑青 / 北京大学出版社 / 2011-5-30 / 42.00元', '李昂 / 麦田 / 20020729 / NT$ 280', 'Clarissa Pinkola Estés / Ballantine Books / 1996-11-27 / USD 8.99', '布衣麻七 / 江苏凤凰文艺出版社 / 2017-11-30 / 36.00元', 'Stephanie Coontz / Penguin Books / 2006-2-28 / USD 18.00', '(美)贝蒂·弗里丹 / 小意 / 江苏人民出版社 / 2007-5-1 / 20.00元', '井谷 聡子 / 関西大学出版部 / 2021-3 / JPY 2,200', '酒井順子 / 講談社 / 2003-10-28 / 1,470円（税込）', '曹晋 / 清华大学出版社 / 2015-10-1 / 42.00元', '郭乙瑶 / 北京师范大学出版社 / 2013-4 / 28.00元', '戴锦华 / 北京大学出版社 / 2018-6-29 / 69.00元', '[英]蕾切尔·卡斯克 / 中信出版集团 / 2020-3 / 128.00元', '张龙妹 编 / 张彩虹、王艳丽 / 重庆出版社 / 2021-4 / 69.80元', '潇湘冬儿 / 江苏文艺出版社 / 2011-5 / 74.80元', '[法] 米歇尔·福柯 / 刘北成、杨远婴 / 生活·读书·新知三联书店 / 2012-9 / 38.00元', '', 'Rosemary Ruether / University of California Press / 2005-5-16 / USD 85.00', '黄惠侦 / 百花洲文艺出版社 / 2018-9 / 42', '荒林 / 北京大学出版社 / 2013-8 / 35.00', 'Bell Hooks / South End Press / 1999-7-1 / GBP 17.56', '云南省社会性别与发展小组 / 云南大学 / 2007-5 / 29.00元', 'Chimamanda Ngozi Adichie / Fourth Estate / 2014-10-9 / GBP 5.00', 'Ayako Kano / University of Hawaii Press / 2016-6-30 / USD 68.00', '刘岩 等 著 / 外语教学与研究出版社 / 2019-12-1 / 59.9元', 'Hesse Biber, Sharlene Nagy / SAGE Publications, Inc / 2013-6-30 / £28.89', '荒林 （主编）、刘兵（主编） / 九州出版社 / 2010-3 / 390.00元', '马荣华 / 贵州美术出版社 / 1989-5-1 / 28', '金天翮、陈雁 编校 / 上海古籍出版社 / 2003-11 / 15.0', '[日] 角田光代 / 杨明绮 / 浙江人民出版社 / 2020-1 / 48', '[美] 贝蒂·弗里丹 (Betty Friedan) / 程锡麟 [等] / 四川人民出版社 / 1988.5 / 3.85', '[法] 西蒙娜·德·波伏瓦 / 周以光 / 上海译文出版社 / 2010-8 / 33.00', '金惠珍、김혜진 / 簡郁璇 / 時報文化 / 2019-1-29 / NT$380', 'Mary Gabriel / Little, Brown and Company / 2018-9-25 / USD 35.00', '范红霞 / 浙江大学出版社 / 2017-6 / 42.50元', '邓焱 / 九州出版社 / 2012', '(美)卡米拉· 斯蒂福斯 / 熊美娟 / 中央编译出版社 / 2010年3月 / 35.00元', '上野千鶴子 / 楊士堤 / 聯合文學 / 2015-7 / NT$320', 'Patricia Buckley Ebrey / University of California Press / 1993-12-1 / USD 31.95', 'Silvia Federici / Autonomedia / 2017-6-30 / GBP 17.99', '[美]崔时英 / 游嘉 / 格致出版社 / 2020-5 / 69.00元', 'Sally Haslanger / Oxford University Press, USA / 2012-10-11 / USD 99.00', 'Michel Foucault / Robert Hurley / Penguin / 1998-10-29 / GBP 9.99', '上野 千鶴子 / 紀伊國屋書店 / 2010-10-6 /  1,575', '杰梅茵・格里尔、欧阳昱 / 百花文艺出版社 / 2002-6-1 / 21.00', '[美] 索尔斯坦·凡勃伦 / 凌复华、彭婧珞 / 上海译文出版社 / 2019-10 / 48.00元', 'James Penney / Pluto Press / 2013-11-7 / USD 15', '(加)艾丽丝·门罗 / 马永波、杨于军 / 译林出版社 / 2013-11 / 29.00', '[白俄] S. A. 阿列克谢耶维奇 / 吕宁思 / 中信出版集团 / 2021-8 / 69', '艾瑞旭.諾伊曼(Erich Neumann) / 呂健忠 / 獨立作家 / 2014-12', '江西教育出版社 / 2013-10-1 / CNY 59.00', 'Jane Pilcher、Imelda Whelehan / Sage Publications Ltd / 2004-04-10 / USD 41.95', '[英]休·索海姆 / 艾晓明、宋素凤、冯芃芃、等 / 广西师范大学出版社 / 2007.01.01 / 25.00元', 'Connie Willis、S. Williams / Aspect / 2001-10-01 / USD 19.99', '[美] 芭芭拉·金索沃 / 张竝 / 南海出版公司 / 2020-9-1 / 68.00元', '[美]马德琳·米勒（Madeline Miller） / 姜小瑁 / 中信出版集团 / 2021-1 / 69.00元', '陈学明、秦博 / 四川大学出版社 / 2015-1 / 35.00元', '[美]哈拉维 / 赵文 / 河南大学出版社 / 2011-12 / 80.00元', 'Nancy Folbre / Verso / 2019-1-8 / GBP 16.99', '陈戎女 / 复旦大学出版社 / 2014-6', '[瑞士] 约翰·雅科多·巴霍芬 / 孜子 / 生活·读书·新知三联书店 / 2018-1 / 45.00元', '[美] 玛丽莲·弗伦奇 / 余莉 / 未读·文艺家·北京燕山出版社 / 2020-10 / 118.00元', 'Sheryl Sandberg / Knopf / 2014-4-8 / USD 24.95', '戴锦华、滕威 / 上海人民出版社 / 2014-1-1 / 25.00', '哈维·C.曼斯菲尔德 / 刘玮 / 译林出版社 / 2009-1 / 28.00元', '李昂 / 洪範書店 / 1985-1 / NT$90', '（英）韦罗妮克·莫捷 / 刘露 / 译林出版社 / 2015-8 / 25.00', '上海外语教育出版社', 'Donna J. Haraway / Routledge / 1990-8-22 / GBP 32.99', 'Riane Eisler / HarperCollins Publishers (Australia) Pty Ltd / 1998-10-1 / GBP 14.47', '张京媛 编 / 北京大学出版社 / 1992-01 / 14.50元', 'Leslie T. Chang / Spiegel & Grau / 2008-10-7 / USD 26.00', 'J.K.吉布森-格雷汉姆 / 陈冬生 / 社会科学文献出版社 / 2002-8 / 28.0', '杨澜 / 上海文艺出版社 / 2021-6 / 49.8', 'Tsomo, Karma Lekshe 编 / Routledge/Curzon / 2000-7 / $ 62.09', 'McNamara, Jo Ann / 1998-2 / $ 45.14', 'Dossie Easton / 張娟芬 / 智慧事業體 / 2002-4-26 / NT 250', \"Catherine D'Ignazio、Lauren F. Klein / The MIT Press / 2020-3-10 / $29.95\", '萧红 / 百花文艺出版社 / 2005-01 / 19.00', '张妮妮、康敏、李鸽 / 北京大学出版社 / 2018-5 / 55.00元', 'Mariana Enriquez / Megan McDowell / Granta Books / 2021-4-1 / GBP 12.99', '张莉 编 / 天津人民出版社 / 2021-3 / 68', '刘建中 孙中欣 邱晓露 主编 / 复旦大学出版社 / 2010-12 / 25.00元', '克里斯蒂娃(Kristeva，J.)、赵英晖 / 复旦大学出版社 / 2015-8-1 / CNY 35.00', 'Maria Mies / Zed Books / 2014-7-10 / GBP 12.99', 'Barbara Creed / Routledge / 1993-11-15 / USD 45.95', '[美] 张彤禾 / 张坤、吴怡瑶 / 上海译文出版社 / 2013-3 / 33.00元', 'M.G. 羅德、M.G.Lord / 閻蕙群 / 智庫文化 / 20050131 / NT$ 300', '侯虹斌 / 九州出版社 / 2017-5 / 39.80元', '江瓊珠 / 素葉出版社 / 1997 / 55', '杰梅茵・格里尔 / 百花文艺出版社 / 2002-1-1 / 23.00', '朱迪斯·巴特勒 / 张生 / 江苏人民出版社 / 2009-1 / 16.00元', '张楚 / 北京十月文艺出版社 / 2018-10 / 42.00元', 'D.L.卡莫迪 / 徐钧尧、宋立道 / 四川人民出版社 / 1989.12 / 7.50', 'Andrea Dworkin / Free Press / 1988-8-1 / USD 13.95', '潘绥铭 / 群言出版社 / 1999-01 / 24.8', 'Leta Hong Fincher / Verso / 2018-9-25 / GBP 16.99', '[加]劳拉·宝森、[美]葛希芝 / 彭雅琦、张影舒 / 生活·读书·新知三联书店 / 2021-4 / 48.00元']\n"
     ]
    }
   ],
   "source": [
    "# To get all the authors' name and the publish dates\n",
    "import requests\n",
    "import random\n",
    "import time\n",
    "import re\n",
    "from bs4 import BeautifulSoup\n",
    "# declaring the list to store data\n",
    "publish_list = []\n",
    "# link =  'https://book.douban.com/tag/%E5%A5%B3%E6%9D%83?start=0&type=T‘ \n",
    "# Keyword:“女性主义”\n",
    "# Prevent being judged as a robot\n",
    "headers={'User-Agent':'Mozilla/5.0(Macintosh;Intel Mac OS X 10_15_7)AppleWebKit/537.36(KHTML,like Gecko)Chrome/95.0.4638.54 Safari/537.36'}\n",
    "for i in range(0,39):\n",
    "    link =  'https://book.douban.com/tag/%E5%A5%B3%E6%80%A7%E4%B8%BB%E4%B9%89?start={i}&type=T'.format(i= i*20)\n",
    "    r = requests.get(link,headers=headers,timeout=30) \n",
    "    print(link)\n",
    "    soup=BeautifulSoup(r.text,\"lxml\")\n",
    "    A = soup.find_all('div',class_='pub')\n",
    "    for each in A:\n",
    "        publish_info = each.text.strip()  #Get all the information\n",
    "        publish_list.append(publish_info) #Add each to the publish_list\n",
    "        time.sleep(random.random()*3)     # Prevent being judged as a robot\n",
    "\n",
    "print(publish_list)"
   ]
  },
  {
   "cell_type": "code",
   "execution_count": 207,
   "id": "abad92b3-0daa-4e11-a03f-fe593bd6f457",
   "metadata": {
    "collapsed": true,
    "jupyter": {
     "outputs_hidden": true
    },
    "tags": []
   },
   "outputs": [
    {
     "name": "stdout",
     "output_type": "stream",
     "text": [
      "['(日) 上野千鹤子', '[日] 上野千鹤子、[日] 田房永子', '[日] 上野千鹤子', '[英]塔比·杰克逊·吉、[英]弗雷亚·罗斯', '[法] 西蒙﹒波伏娃(Simone de Beauvoir)', '[美] 梅根·多姆(编)', '[日]中村淳彦', '[美]乔安娜·拉斯（Joanna Russ）', '[英]凯特·柯克帕特里克', '李银河', '[英] 弗吉尼亚·伍尔夫', '(尼日利) 奇玛曼达·恩戈兹·阿迪契', '[英]安吉拉·卡特', '[美] 尼可拉斯·D.克里斯多夫、[美]雪莉·邓恩', '孟悦、戴锦华', '亞倫·強森（Allan G. Johnson)', '[法] 西蒙娜·德·波伏瓦', '[意]达契娅·玛拉依妮', '么振华、吕璐瑶', '理安·艾斯勒 (Riane Eisler)', '[英] 玛丽·比尔德', '王冠', '[美] S.M.吉尔伯特、[美] 苏珊·古芭', '[美]丽贝卡·特雷斯特', '卡洛琳．克里亞朵．佩雷茲', '[美]芮塔·菲尔斯基 (Rita Felski)', '朱迪斯·巴特勒', '凱特.曼恩(Kate Manne)', '【美】丽贝卡·索尔尼特', '[美]阿莉·拉塞尔·霍克希尔德', '[法] 西蒙娜·德·波伏瓦', '[美]谢丽尔·桑德伯格（Sheryl Sandberg）', '凯瑟琳.A.麦金农 (catharine A.Mackinnon)', '汤问棘', '汤问棘', '[英]沙尼·奥加德', '[澳大利亚] 杰梅茵·格里尔', '[美]梅琳达·盖茨', '[英]玛丽.沃斯通克拉夫特(Mary Wollstonecraft)', '[爱尔兰] 希内德·格利森', '蘇‧勞伊德•羅伯茨（Sue Lloyd-Roberts）', '[法] 西蒙娜·德·波伏瓦', '柳立言等编著', '[法]伊丽莎白·卡多赫、[法]安娜·德·蒙塔尔洛', '[英]弗吉尼亚·伍尔夫', '玛丽·麦卡锡（Mary McCarthy）', '罗斯玛丽·帕特南·童', '沈奕斐', '[美] 贝蒂·弗里丹', '王政', '[英] 萨拉·沃特斯', '[法]米歇尔·福柯', '[美] 凯特·米利特', '[美] 朱迪斯·巴特勒', '[英] D. H. 劳伦斯', '[英] 弗吉尼亚·伍尔夫', '[英国] 弗吉尼亚·伍尔夫', '[美]劳拉·布朗', '（美）凯瑟琳・巴里', '[美] 凯特·肖邦', '[法] 西蒙娜·德·波伏娃', '贺桂梅', '[美]理安·艾斯勒', '李银河', '[美] 苏珊·布朗米勒', '[美] 唐娜·哈拉维、Donna J. Haraway', '朱丽娅·克里斯蒂娃(Julia Kristeva)', '[英]弗吉尼亚•吴尔夫', '[尼日利亚]奇玛曼达·恩戈兹·阿迪契', '李银河', '[英] 玛丽·沃斯通克拉夫特、[英] 约翰·斯图尔特·穆勒', '【美】苏珊·鲍尔多', '郑雅如', 'Sheryl Sandberg', 'Caroline Criado Perez', '玛莎·C.努斯鲍姆', '伊莱恩·肖瓦尔特', '[韩] 韩江', '孟悦、戴锦华', '[法] 佩内洛普·芭桔', '沈奕斐', '施舜翔', '[芬] 马里奥·T.努尔米宁(Marjo T. Nurminen)', '[日]小林美希', '顧燕翎（主編）', '王政', '约翰·斯图尔特·穆勒', '上野千鹤子', 'Wang Zheng', '李银河', '(美)凯特琳·柯林斯 (Caitlyn Collins)', '戴錦華', '【美】玛丽·克劳福德、罗达·昂格尔', '陈顺馨 编', '安吉拉•默克罗比', '黄盈盈', '戴锦华', '（美）高彦颐', '酒井順子', '[美]吉莉恩·托马斯', '上野千鹤子', '[美]玛利亚·森普尔', 'Valerie Solanas', '[美]马丽加·金芭塔丝（Marija Gimbutas） 著、[美]米里亚姆·R．德克斯特（Miriam R．Dexter） 主编', '[英] 萨拉·沃特斯', '玛丽·沃斯通克拉夫特', '(美)夏洛特·吉尔曼', '李银河', '[美] 理安·艾斯', '[美]伦迪·班克罗夫特', '[英] 珍妮特·温特森', '[意] 阿尔贝托·莫拉维亚', '周夏', '（美）琳达・诺克林', '[美]琳达·赫什曼', '〔美〕让·爱尔斯坦', '上野千鹤子', '[美]朱迪斯·巴特勒', '[澳] 杰华', '[美国]珍妮斯•A. 拉德威', '艾莉斯·馬利雍·楊（Iris Marion Young）', '李小江', '追蹤團火花', '[日] 须藤瑞代', '(美)佩吉·麦克拉肯、艾晓明、柯倩婷', 'Judith Butler', '王曉丹、余貞誼、方念萱、姜貞吟、韓宜臻、胡錦媛、黃囇莉、楊婉瑩、孫嘉穗、陳惠馨、康庭瑜', '(法) 露西·伊利格瑞', ':埃莉诺·弗莱克斯纳 艾伦·菲茨帕特里克', '[法]马科斯·扎菲罗普洛斯', '(美)罗伯特·蒙施/', '夏綠蒂‧柏金斯‧吉爾曼', '[美] 雪儿·海蒂', '理安·艾斯勒 (Riane Eisler)', '[英] 艾华', '陈培永', '[美] 西格丽德·努涅斯', '邓小南、王政、游鉴明', '[美]玛丽莲·亚隆、特蕾莎·多诺万·布朗', '艾丽丝 沃克', '王政', '【法】莫娜·奥祖夫', '（英）格里塞尔达•波洛克', 'Arlie Hochschild、Anne Machung', '[美]理达·洪·芬奇', '洪君', '[日] 国谷裕子', '朱迪斯·贝尔', '[巴西] 玛莎·巴塔莉娅', '贝尔·胡克斯 Bell Hooks', '(德)奥古斯特·倍倍尔(August Bebel)', '[法]柯莱特', '张京媛 主编', '露西．伊瑞葛來，譯／李金梅', '王政', '何念', 'Naomi Wolf', '〔美〕周蕾', '戴锦华', '刘慧英', '李昂', '龙应台', '辛西娅·恩洛', '[法] 西蒙娜·德·波伏瓦', 'Simone de Beauvoir', '[美]尼可拉斯·D.克里斯多夫、[美]雪莉·邓恩', '[日]上野千鹤子', '[法] 皮埃尔·布尔迪厄（Pierre Bourdieu）', '[法] 蕾拉·斯利玛尼', '[意] 埃莱娜·费兰特', '托莉·莫伊', '[美] 莉丝·沃格尔 (Lise Vogel)', '[澳]伊丽莎白·格罗兹（Elizabeth Grosz）', '[美] 朱迪斯·巴特勒', 'Allan Johnson', '(美)唐娜·哈拉维', '（美）凯特・米利特', 'Kate Manne', '陈顺馨', '张念', 'Iris Marion Young', '朱丽亚·T.伍德', 'Shulamith Firestone', 'Margaret Walters', 'Tani E. Barlow', 'Shani Orgad', '赖特 (WrightElizabeth)', '(荷)祖伦(L.van Zoonen)著', '[美] 伊丽莎白·格罗兹', '[英] 弗吉尼亚·伍尔夫', '[英] 安·奥克利', '王慧玲', '[美]香奈儿·米勒', '[瑞士] 玛丽 - 路薏丝·冯·法兰兹', '[英]林德尔•戈登', '贾晋华', '[英]凯特·潘克赫斯特', '齊藤章佳', '李银河', '[美] 伊沛霞', '玛丽·沃斯通克拉夫特', 'Judith Butler', 'Eve Ensler 伊芙‧恩斯勒', '柏棣', '西蒙.德.波娃(Simone de Beauvoir)', '玛丽·塔尔博特', '李银河', '周华山', '[加拿大] 玛格丽特·阿特伍德', '[英]伊莲·摩根', 'Donna Haraway', '［英］马特·里德利', '[英]弗吉尼亚·伍尔夫', '安妮-玛丽·斯劳特', '[英] 安吉拉·卡特', '2019-3-1', '汤尼•白露', '[美] 朱迪斯·巴特勒', '[日] NHK特别节目录制组', '贝贝尔・瓦德茨基', '卡門.瑪麗亞.馬查多(Carmen Maria Machado)', '玛利亚罗莎·达拉·科斯特、谢尔玛·詹姆斯', '张李玺 编', 'Roxane Gay', '徐艳蕊', 'Margaret Walters', '[美]艾德丽安·里奇', '（美）兰瑟', '(英)厄苏拉·提德', '[法]西尔维·库尔廷-德纳米', '（英）玛格丽特·沃特斯（Walters, M.）', '(加拿大)玛格丽特·阿特伍德', '格里尔', '铁凝', 'Claudia Goldin', '理安·艾斯勒', '上野千鶴子', '[意] 埃莱娜·费兰特', '（美）贝尔·胡克斯', '杨本芬', '[英] 伯特兰·罗素(Bertrand Russell)', '杨联芬', 'Judith Butler', '秦喜清', '刘思谦', '美国《巴黎评论》编辑部 编', 'Peggy Orenstein', 'Joanna Russ', 'Chimamanda Ngozi Adichie', 'Virginia Woolf', 'Kate Chopin', 'Janice A. Radway', '安尼・埃尔诺', '李银河', '李银河', '张辛欣', '康正果', '【加】朱爱岚', '幸洁', '崔乘範', '[英]拉莱恩·波尔', '李小江,等', '[英]格雷森·佩里（Grayson Perry）', '中华全国妇女联合会妇女运动历史研究室 编', '（美）西尔维娅·普拉斯', '何磊', '[俄罗斯]柳德米拉·乌利茨卡娅', '（美）苏珊·桑塔格', '[美] 葛罗莉亚·斯坦能', '三联书店', 'Julia Kristeva', '[美] 阿娜伊斯·宁', 'Juliet Mitchell、Sangay K Mishra', '[日] 白水纪子', '琳達·麥道威爾 （Linda McDowell）', '荒林、翟振明', '（美）麦金农', '(英) 米克·基德森', '李小江', '卡洛琳・麦茜特', '[美]露丝•贝哈', '[美] 杰弗里·罗森', '[意大利] 埃莱娜·费兰特', '[德] E. M. 温德尔', '恩格斯', 'Mary Beard', '米兰达·弗里克、珍妮弗·霍恩斯比 编', '丁瑜', '罗侠', '(英) 弗吉尼亚·伍尔芙', '[美] 伊芙·科索夫斯基·赛吉维克', '[英] 米兰拉·弗里克、詹妮弗·霍恩斯比', 'Dorothy Ko、Lydia H. Liu、Rebecca E. Karl', '张春田', '辛西娅•格兰特•鲍曼、於兴中', '[英] 安东尼·吉登斯', '羅克珊娜.蓋伊(Roxane Gay)', '谢丽尔•桑德伯格', '[法] 克里斯蒂娜·德·皮桑', '戴锦华', '虹影', '[印] 佩鲁马·穆鲁根', '[美] 贺萧（Gail Hershatter）', '[日]斋藤茂男', '董金平', 'Cho Nam-Joo', 'Gail Hershatter', '甯應斌', '王宇', '黄淑娴', '（美）琳达・诺克林', '上野千鶴子、田房永子', '[美] 苏珊·弗里德曼', '赵挺', '王政、杜芳琴', '张岩冰', '[美] 阿莉森·贾格尔', '（美）罗伯特・麦克艾文', 'Angela Carter', 'Tabi Jackson Gee、Freya Rose', 'Nancy J. Chodorow', '张念', 'Luce Irigaray', '(英)W.萨默塞特·毛姆', 'NA', '（美）理安·艾斯勒', '(英)伍尔夫', 'Betty Friedan', '安吉拉·萨伊尼（Angela Saini）', '程锡麟', '凱瑟琳．麥金儂、Catharine A. MacKinnon', '阎连科', '[美] 贺萧', 'Linda Nochlin', 'Kenneth Clark', '[英]简·弗里德曼', 'Deborah L.Madsen', 'Virginia Woolf', '菲利斯·切斯勒', '多诺万', 'Rafia Zakaria', '里斯', 'bell hooks', '[美]阿琳•克莱默•理查兹', '舒芜', '[美] 伊琳·卡蒙（Irin Carmon）、[美] 莎娜·卡尼兹尼克（Shana Knizhnik）', '卡罗尔·吉利根', '孟悦，戴锦华', '何春蕤', '吴晓乐', '（加）巴巴拉·阿内尔', '萌萌', '[美]罗莎莉', '滕静茹', '[英] 吴尔夫', '[法] 米歇尔·福柯', 'Camille Paglia', '（美）丹 · 金德伦、（美）麦克 · 汤普森', '[美] 南茜·弗雷泽', '賴香吟', '伊迪斯·华顿', '[法] 玛塞勒·索瓦若、袁筱一（导读）', '[英] 安吉拉·卡特', '合山究', 'Belenky, Mary Field/', '李小江', '刘岩', '[美] 雪儿·海蒂', 'Marilyn Frye', 'Caputo, John D.; Alcoff, Linda Martin;', 'Lisa Ann Raphals', '[英] 白馥兰', '[美] 芭芭拉·金索沃', 'Linda Gordon', '[日] 清水洁', '蓝佩嘉', 'Elinor Cleghorn', '高惠蓉', 'Chandra Talpade Mohanty', 'Tani E. Barlow (Editor)', '(美)伊丽莎白·斯特劳特', '[加] 艾丽丝·门罗', '【西蒙娜·德·波伏瓦】', '(澳)薇尔·普鲁姆德', 'Nancy J. Chodorow', '[德] 西美尔、刘小枫 选编', 'Judith Butler、Joan W. Scott', '恩格斯', '王绯', '李小江', '王向贤、杜芳琴', '张洁', '(英)霭理士', '趙南柱', 'Laura S. Brown', '潘绥铭', '杨格', '包亚明', 'Sally Taylor Lieberman', '【法】弗洛朗斯·塔马涅', '沈潇', '[美] 葛罗莉亚·斯坦能', '苏敏 口述、卓夕琳 执笔', 'Vera Mackie', '(美)贝蒂・弗里丹', '(英)玛丽·伊格尔顿', '[日]伊藤诗织', '[英]弗吉尼亚•吴尔夫', '谢丽华 主编、《农家女百事通》杂志社课题小组 编', '[美] 芭芭拉·金索沃', 'Professor Nancy F. Cott', '刘岩', '程远征', 'Waters, Melanie 编', 'Carolyn Merchant', 'Fan Hong', '杨红樱', 'Linda J. Nicholson', '瑞科科雅・索琳歌尔', 'Wesleyan', '(美) 西尔维娅•普拉斯', '[英]维吉尼亚·伍尔夫', '[英] 乔治·爱略特', 'Catharine A. MacKinnon', 'Ehrlich, Susan', 'Jodi Kantor、Megan Twohey', 'Francesca Bray', '文潔華', '[英] 珍妮特·温特森', '熊欢 等', '姚鄂梅', 'edited by  Carolyne Larrington', '梁巧娜', 'Euripides', '[加拿大] 玛格丽特·阿特伍德', '[美] 艾朗诺', 'Luise von Flotow', '(英)B·卡尔', '[意] 埃莱娜·费兰特', 'Carol Gilligan', 'Elizabeth Croll', 'Maxine Hong Kingston', '郭乙瑶', '伊沛霞、姚平、张聪', '李又寧、張玉法', '(美)托妮·莫里森', 'Ching Kwan Lee', 'Janet Price', 'Dotterer, Ronald L. (EDT)/', 'Kay Ann Johnson', '韦清琦、李家銮', '刘剑梅', 'NA', '[美] 赫伯特·马尔库塞', 'Nicholas D. Kristof、Sheryl Wudunn', '刘人鹏', '李银河、王小波', '鄭振偉', 'David D.Gilmore', '[日] 叶真中显', 'Mary Daly', '河野 真太郎', '潘幸知', 'Malika Booker、Sharon Olds、Warsan Shire', '[美]雪儿·海蒂', 'Jin Y. Park', '[英]萨拉·萨里', 'DK', '李娟', '马蜂窝 出品、王家敏 主编', 'Nancy Fraser、Tithi Bhattacharya、Cinzia Arruzza', '陈东原', '[日]濑户内寂听', '潘绥铭、黄盈盈、王洁、张慧霞、杨蕊、何为、刘振英、张春萌', '李庚', 'Andrea Dworkin', 'Jeffreys, Sheila', '弗吉尼亚·吴尔夫', 'Angela Carter', 'Nancy Fraser', '劉芷妤', '闵冬潮', '【德】乌特 艾尔哈特', '[英]雷蒙德·威廉斯', '应宇力', 'Plant, Sadie', '姚鄂梅', 'Virginia Woolf', '周蕾', 'Gilbert, Sandra M.; Gubar, Susan', '肖瓦尔特', 'Susan Brownmiller', '邱珍琬', '李孝悌', '[美] 理查德·耶茨', '龚维英', '[英] 安娜·伯恩斯', '白凯', 'Monique Wittig', '[美] 克里斯汀·汉娜', '赵园', '赵南柱、崔恩荣、金异说、崔正和、孙宝渼、具并模、金成重', '[意]法拉奇', '刘玉霞', '张莉 编', '[美] 克拉利萨·品卡罗·埃斯蒂斯', '潘绥铭、黄盈盈', '禹燕', '（美）艾伦•B.知念', '[美] 艾伦·B.知念( Allan B. Chinen )', '[日] 饭岛裕子', '郜元宝', 'Chimamanda Ngozi Adichie', '曹晋', '（美）唐娜 • 哈拉维', '[美] 大卫·D·吉尔默', '井上輝子、江原由美子、加納実紀代、上野千鶴子、大沢真理', 'Rebecca Traister', '郭爱妹', 'Bracha Ettinger', 'Hemmings, Clare', '周宏翔 著', '卢淑樱', '[日]中村桃子', '揚智', 'Sherry Simon', 'Norma Broude、Mary D、Garrard、謝鴻均等 譯', '苏红军、柏棣', 'Joan Wallach Scott', '[英] 罗素', 'Wendy Larson', 'Rosalind C. Morris 编', '范若兰', 'Verónica Gago', 'Mary Daly', '胡适', '钟楚曦、罗晋、谭松韵、潘云贵、王天宁、另维', 'Laurel Bossen、Hill Gates', '[意] 埃莱娜·费兰特', '何春蕤', '王政、张颖', 'Ronan Farrow', '赵军', '李琦', '彭妮·斯帕克', '贝蒂.弗里丹 (美)', 'GRISELDA POLLOCK', '刘利群', '白先勇', 'Dooling, Amy D. (EDT)/', '理安.爱斯勒', '海青', '[美]金·戈登', '[清] 陈端生 著、郭沫若 校订', 'Tiantian Zheng', '许春荣', '陶丽·莫依', '〔美〕陈愉', '周慧玲', '[日]建畠晢 等', '李英桃', 'Federici, Silvia', '[美]罗伯塔•塞林格•特瑞兹', '茱莉亞．克莉斯蒂娃', '张洁', 'Bell, Ella L. J. Edmondson; Villarosa, Linda;', '【美】玛丽·麦卡锡', 'Heide Goettner-Abendroth', '李志生', '倪志娟', 'Susan McClary', '方刚、朱雪琴  主编', '[英] 多琳·马西', '[美] 埃利希·诺伊曼 (Erich Neumann)', 'Kyungja Jung', '杨远婴、魏时煜', '南开大学出版社', '王涵 主编', '李建群', '信田佐代子', 'Eve Ensler', '德博拉.G.费尔德', '[美] 厄休拉·勒古恩', 'Susan Mann', '（加）奈奥米·R·高登博格', 'Tiefer, Leonore', 'Clare Chambers', 'Holly Lewis', '艾琳娜.斐蘭德', '林幸谦', 'Little, Judith A.', '贝蒂·史密斯（Betty Smith)', 'Jeffreys, Sheila', 'McCann, Carole R./', '江苏人民出版社', '简•奥斯丁(Jane Austen)', 'Catharine A. MacKinnon', '[日]小野和子', '玛格丽特·沃特斯 (Margaret Walters)', '[法] 西尔维•库尔廷-德纳米', '[法]皮埃尔•布尔迪厄（Pierre Bourdieu）', '[韩]赵南柱', '朱虹、周欣 编', '奥托·魏宁格、Otto Weininger', '曼素恩 (Mann Susan)', '卜卫', '［美］卡门•玛丽亚•马查多', '[美] 托妮·莫里森', '[美] 迪莉娅·欧文斯', 'Mason Currey', '杨从吾 编', 'Duby, Georges; Perrot, Michelle; Fraisse, Genevieve', 'Gail Hershatter', '刘剑梅', '宋兆麟', '周宝妹', '肖巍', 'Lloyd, Genevieve', '大塚英志', 'French, Marilyn', '[法] 茱莉亚·克里斯蒂娃', '[日] 山田宗树', '南宫梅芳', '文洁华', '苏青', 'Beverly Bossler (Editor)', 'Gerda Lerner', 'Emily Nagoski Ph.D.', 'Ien Ang、伊恩.昂、洪美恩', '[英]劳拉·穆尔维 (Laura Mulvey )、Laura Mulvey', 'Beverly Bossler', '[罗马尼亚]米哈埃拉•诺洛茨', 'Vint, Sherryl', '克罗迪娜', '罗丽莎', '武汉大学出版社', '[美]芭芭拉·阿蒙德', '迈尔森', '[意] 埃莱娜·费兰特', '[英] 埃德温·A·艾勃特', 'Giovanna Franca Dalla Costa', '吴菁', '玛丽·沃斯通克拉夫特', '罗婷', '孟宪范', '(日) 落合惠美子', '张莉', '夏晓虹', '菊地夏野', 'Simone de Beauvoir', '（美）克里斯蒂·安·罗森（Christine Ann Lawson）', '萬仕國、劉禾', '[德] 弗里德里希·恩格斯', 'Kathryn Hemmann', '諾拉．文森', '赵军', '(英)伊丽莎白·达琳', '荒林', '欧阳灿灿', '高橋幸', 'Dorothy Dinnerstein、Adrienne Harris (Afterword)、Ann Snitow (Introduction)', 'Teresa de Lauretis', '[美]魏玛莎 主编', 'Catharine A. MacKinnon', 'Cinzia Arruzza', '[美] 陈愉', '[美] 白馥兰', '克里斯蒂娜·德·皮桑', 'Jodi Kantor、Megan Twohey', '【台湾】 李乔', '[美] 西尔维娅·普拉斯', '梁羽生', 'Eve Ensler', '[美] 沃伦•法雷尔', '贝蒂.弗里丹', 'Alcoff, Linda/', '[奥地利]伯娜德·维根斯坦', '(韩)韩江', 'Janet M. Theiss', 'Donna J. Haraway', '[美]卡伦•费尔曼', '颜海平', '李昂', 'Clarissa Pinkola Estés', '布衣麻七', 'Stephanie Coontz', '(美)贝蒂·弗里丹', '井谷 聡子', '酒井順子', '曹晋', '郭乙瑶', '戴锦华', '[英]蕾切尔·卡斯克', '张龙妹 编', '潇湘冬儿', '[法] 米歇尔·福柯', 'NA', 'Rosemary Ruether', '黄惠侦', '荒林', 'Bell Hooks', '云南省社会性别与发展小组', 'Chimamanda Ngozi Adichie', 'Ayako Kano', '刘岩 等 著', 'Hesse Biber, Sharlene Nagy', '荒林 （主编）、刘兵（主编）', '马荣华', '金天翮、陈雁 编校', '[日] 角田光代', '[美] 贝蒂·弗里丹 (Betty Friedan)', '[法] 西蒙娜·德·波伏瓦', '金惠珍、김혜진', 'Mary Gabriel', '范红霞', '邓焱', '(美)卡米拉· 斯蒂福斯', '上野千鶴子', 'Patricia Buckley Ebrey', 'Silvia Federici', '[美]崔时英', 'Sally Haslanger', 'Michel Foucault', '上野 千鶴子', '杰梅茵・格里尔、欧阳昱', '[美] 索尔斯坦·凡勃伦', 'James Penney', '(加)艾丽丝·门罗', '[白俄] S. A. 阿列克谢耶维奇', '艾瑞旭.諾伊曼(Erich Neumann)', '江西教育出版社', 'Jane Pilcher、Imelda Whelehan', '[英]休·索海姆', 'Connie Willis、S. Williams', '[美] 芭芭拉·金索沃', '[美]马德琳·米勒（Madeline Miller）', '陈学明、秦博', '[美]哈拉维', 'Nancy Folbre', '陈戎女', '[瑞士] 约翰·雅科多·巴霍芬', '[美] 玛丽莲·弗伦奇', 'Sheryl Sandberg', '戴锦华、滕威', '哈维·C.曼斯菲尔德', '李昂', '（英）韦罗妮克·莫捷', 'NA', 'Donna J. Haraway', 'Riane Eisler', '张京媛 编', 'Leslie T. Chang', 'J.K.吉布森-格雷汉姆', '杨澜', 'Tsomo, Karma Lekshe 编', 'McNamara, Jo Ann', 'Dossie Easton', \"Catherine D'Ignazio、Lauren F. Klein\", '萧红', '张妮妮、康敏、李鸽', 'Mariana Enriquez', '张莉 编', '刘建中 孙中欣 邱晓露 主编', '克里斯蒂娃(Kristeva，J.)、赵英晖', 'Maria Mies', 'Barbara Creed', '[美] 张彤禾', 'M.G. 羅德、M.G.Lord', '侯虹斌', '江瓊珠', '杰梅茵・格里尔', '朱迪斯·巴特勒', '张楚', 'D.L.卡莫迪', 'Andrea Dworkin', '潘绥铭', 'Leta Hong Fincher', '[加]劳拉·宝森、[美]葛希芝']\n"
     ]
    }
   ],
   "source": [
    "import re\n",
    "# declaring the list to store data\n",
    "author_list = [] \n",
    "#Get all the authors' name by using Regular Expression \n",
    "for i in publish_list:\n",
    "    a = re.search('.*?./',i)\n",
    "    if a:\n",
    "        b = (a.group(0)).replace(' /','') \n",
    "        #Take each first element in the list that matches the format, and delete the extra \"/\" after the name\n",
    "        author_list.append(b)   \n",
    "        #Add them to the list\n",
    "    else:\n",
    "        author_list.append('NA')  \n",
    "        #if there is no author name, print NA to ensure the same length\n",
    "\n",
    "print(author_list)"
   ]
  },
  {
   "cell_type": "code",
   "execution_count": 193,
   "id": "656d891c-ad6f-47ec-b840-792053852a08",
   "metadata": {
    "collapsed": true,
    "jupyter": {
     "outputs_hidden": true
    },
    "tags": []
   },
   "outputs": [
    {
     "name": "stdout",
     "output_type": "stream",
     "text": [
      "['2015', '2021', '2020', '2021', '2009', '2021', '2021', '2020', '2021', '2018', '2019', '2019', '2021', '2014', '2018', '2008', '2014', '2021', '2021', '2009', '2019', '2021', '2015', '2018', '2020', '2020', '2009', '2019', '2020', '2021', '2011', '2013', '2007', '2019', '2021', '2021', '2011', '2020', '2016', '2021', '2018', '2011', '2021', '2020', '2014', '2021', '2002', '2019', '2005', '1996', '2017', '2021', '2000', '2009', '2013', '2008', '2021', '2021', '2000', '2020', '2004', '2014', '2019', '2021', '2006', '2012', '2010', '2019', '2017', '2007', '1995', '2009', '2021', '2013', '2019', '2020', '2012', '2021', '2004', '2021', '2005', '2018', '2018', '2020', '2020', '2005', '24', '1997', '1999', '2005', '2020', '2006', '2009', '2004', '2011', '2018', '2007', '2005', '2020', '2019', '2004', '2018', '2004', '2008', '2017', '2012', '2014', '1998', '2004', '2021', '2012', '2021', '2021', '2005', '2018', '2019', '2021', '2011', '2006', '2020', '2007', '2016', '2021', '2010', '2007', '2006', '2019', '2017', '2020', '2015', '2009', 'NA', '2002', '2009', '2008', '2016', '2020', '2011', '2020', '1987', '2004', '2017', '2016', '2003', '2016', '2021', '2021', '2010', '2019', '2008', '1995', '2018', '1992', '2005', '2016', '2010', '2002', '2008', '1999', '1995', '1987', '2016', '2021', '2021', '2011', '2018', '2021', '2017', '2018', '2017', '2017', '2009', '2017', '2017', '2014', '2016', '1999', '2017', '2007', '2018', '2005', '2005', '2003', '2008', '2004', '2019', '2005', '2007', '2012', '2012', '2020', '2021', '2020', '2020', '2021', '2021', '42', '2021', '2009', '2004', '2006', '2004', '2014', '2007', '2013', '2004', '2003', '2001', '2017', '2007', '1990', '2021', '2014', '2016', '2019', '54', '2012', '2016', '2017', '2003', '2019', '2017', '2013', '2014', '2014', '2006', '2008', '2002', '2014', '2019', '2015', '2008', '2011', '2020', '2021', '2009', '2018', '2017', '2001', '2020', '2021', '2016', '1993', '2008', '2007', '2021', '2016', '1983', '2017', '1989', '1985', '1991', '2003', '2018', '2005', '1988', '1994', '2021', '2016', '2020', '2021', '2000', '2020', '1981', '2007', '2019', '2021', '2018', '1998', '1997', '2000', '2007', '2000', '2019', '2006', '2008', '2005', '2020', '2006', '1999', '2019', '2021', '2021', '1995', '2003', '2017', '2006', '2016', '2002', '2019', '2011', '2010', '2013', '2013', '2018', '2001', '2017', '2014', '2009', '2002', '2003', '2021', '2017', '2020', '2017', '2020', '2007', '2009', '200603', '2014', '2004', '2020', '2014', '2019', '1998', '1998', '2009', '2005', '1995', '2018', '1999', '2014', '1985', '2012', 'NA', '1993', '1989', '2010', '2021', '2011', '1993', '2020', '2010', '2021', '1972', '2007', '2006', '2006', '2006', '2003', '2021', '2011', '2000', '2017', '2004', '2018', '1999', '1989', '1994', '2020', '2005', '1996', '2015', '2014', '2016', '1999', '1991', '2010', '2009', '2007', '1993', '2021', '2012', '2016', '1997', '1988', '2010', '2002', '1983', '2011', '1998', '2017', '2017', '2007', '2021', '2011', '2021', '2010', '2003', '1994', '2011', '2016', '1988', '2007', '2003', '2010', '1992', '1972', '2004', '1997', '2003', '1983', '2006', '2018', '2009', '2000', '58', '2001', '1998', '2009', '2021', '1998', '2021', '2003', '2000', '1989', '2019', '2012', '1999', '2017', '1989', '2011', '2012', '2011', '1990', '1997', '2013', '1989', '2003', '2016', '2013', '2019', '2018', '1988', '2001', '2021', '2013', '1996', '2010', '2021', '2020', '1992', '2004', '1963', '2020', '2017', '1997', '2011', '2017', '1990', '1988', '1989', '2017', '2021', '463', '2013', '1998', '1999', '1992', '1985', '2019', '2007', 'NA', '2012', '2010', '2000', '1992', '1996', '2005', '2020', '1978', '2017', '2020', '2017', '2016', '2017', '2018', '2019', '2010', '2019', '2019', '2017', '2015', '2005', '2011', '1991', '2005', '2003', '2001', '2013', '2020', '2009', '1998', '2013', '2005', '30', '2019', '1977', '1997', '1981', '2004', '1993', '2006', '20021001', '2009', '1993', '2020', '2007', '1992', '2016', '2014', '2021', '2020', '2011', '2020', '2011', '2013', '1988', '2017', '2017', '2021', '2000', '2018', '2008', '2017', '2021', '2002', '2016', '2006', '2006', '2011', '2021', '2020', '2017', '19950201', '1996', '1998', '2006', '2018', '1988', '1998', '2010', '2013', '2020', '1993', '2014', '2021', '2017', '2020', '2001', '2012', '2019', '2011', '2008', '78', '1997', '2000', '2004', '2011', '1997', 'NA', '2013', '2018', '2002', '2009', '2012', '1992', '2020', '2004', '2021', '2006', '2012', '2010', '20030501', '2011', '2011', '2016', '2013', '2014', '2012', '2003', '2015', '2017', '2017', '2013', '2009', '2010', '2019', '2006', 'NA', '2010', '2006', '2017', '1997', '2008', '294', '2017', '2016', 'NA', '2003', '2007', '2009', '2005', '2009', '1998', '2010', '1996', '1987', '2013', '2008', '2011', '2019', '2002', '2006', '2005', '2001', '2021', '2014', '2019', '2020', '2011', '1993', '2018', '2015', '1990', '2021', '2000', '1993', '2001', '2008', '2016', '2018', '2012', '2016', '2009', '2015', '1987', '2015', 'NA', '2007', '2013', '2019', '2007', '2007', '2006', '2013', '2019', '2008', '2018', '2020', '122', '2008', '2005', '2004', '2010', '2010', '2020', '2004', '2019', '1989', '2020', '2016', '2018', 'NA', '2007', '2007', '1989', '2004', '2015', '2020', '1999', '1984', '2021', '1991', '2013', '2012', '2021', '2014', '2019', '1995', '2019', '1996', '2000', '2015', '1999', '1993', '2021', '2013', '2005', '1995', '2015', '2011', '20020729', '1996', '2017', '2006', '2007', '2021', '2003', '2015', '2013', '2018', '2020', '2021', '2011', '2012', 'NA', '2005', '2018', '2013', '1999', '2007', '2014', '2016', '2019', '2013', '2010', '1989', '2003', '2020', '1988', '2010', '2019', '2018', '2017', '2012', '2010', '2015', '1993', '2017', '2020', '2012', '1998', '2010', '2002', '2019', '2013', '2013', '2021', '2014', '2013', '2004', '2007', '2001', '2020', '2021', '2015', '2011', '2019', '2014', '2018', '2020', '2014', '2014', '2009', '1985', '2015', 'NA', '1990', '1998', '1992', '2008', '2002', '2021', '2000', '1998', '2002', '2020', '2005', '2018', '2021', '2021', '2010', '2015', '2014', '1993', '2013', '20050131', '2017', '1997', '2002', '2009', '2018', '1989', '1988', '1999', '2018', '2021']\n"
     ]
    }
   ],
   "source": [
    "import re\n",
    "# Declaring the list to store data\n",
    "date_list = [] \n",
    "# Get all the publish dates by using Regular Expression \n",
    "for i in publish_list:\n",
    "    a = re.search('/.\\d+',i)\n",
    "    if a:\n",
    "        b = (a.group(0)).replace('/ ','')\n",
    "         # Take each first element in the list that matches the expression, and delete the extra \"/\" and space\n",
    "        date_list.append(b)\n",
    "        # Add them to the list\n",
    "    else:\n",
    "        date_list.append('NA')\n",
    "        # if the book hasn't been published yet, print NA to ensure the same length\n",
    "\n",
    "print(date_list)"
   ]
  },
  {
   "cell_type": "code",
   "execution_count": 182,
   "id": "7b2330a5-64fa-45f1-abd9-0dab93fe8f89",
   "metadata": {
    "collapsed": true,
    "jupyter": {
     "outputs_hidden": true
    },
    "tags": []
   },
   "outputs": [
    {
     "name": "stdout",
     "output_type": "stream",
     "text": [
      "['2015', '2021', '2020', '2021', '2009', '2021', '2021', '2020', '2021', '2018', '2019', '2019', '2021', '2014', '2018', '2008', '2014', '2021', '2021', '2009', '2019', '2021', '2015', '2018', '2020', '2020', '2009', '2019', '2020', '2021', '2011', '2013', '2007', '2019', '2021', '2021', '2011', '2020', '2016', '2021', '2018', '2011', '2021', '2020', '2014', '2021', '2002', '2019', '2005', '1996', '2017', '2021', '2000', '2009', '2013', '2008', '2021', '2021', '2000', '2020', '2004', '2014', '2019', '2021', '2006', '2012', '2010', '2019', '2017', '2007', '1995', '2009', '2021', '2013', '2019', '2020', '2012', '2021', '2004', '2021', '2005', '2018', '2018', '2020', '2020', '2005', 'NA', '1997', '1999', '2005', '2020', '2006', '2009', '2004', '2011', '2018', '2007', '2005', '2020', '2019', '2004', '2018', '2004', '2008', '2017', '2012', '2014', '1998', '2004', '2021', '2012', '2021', '2021', '2005', '2018', '2019', '2021', '2011', '2006', '2020', '2007', '2016', '2021', '2010', '2007', '2006', '2019', '2017', '2020', '2015', '2009', 'NA', '2002', '2009', '2008', '2016', '2020', '2011', '2020', '1987', '2004', '2017', '2016', '2003', '2016', '2021', '2021', '2010', '2019', '2008', '1995', '2018', '1992', '2005', '2016', '2010', '2002', '2008', '1999', '1995', '1987', '2016', '2021', '2021', '2011', '2018', '2021', '2017', '2018', '2017', '2017', '2009', '2017', '2017', '2014', '2016', '1999', '2017', '2007', '2018', '2005', '2005', '2003', '2008', '2004', '2019', '2005', '2007', '2012', '2012', '2020', '2021', '2020', '2020', '2021', '2021', 'NA', '2021', '2009', '2004', '2006', '2004', '2014', '2007', '2013', '2004', '2003', '2001', '2017', '2007', '1990', '2021', '2014', '2016', '2019', 'NA', '2012', '2016', '2017', '2003', '2019', '2017', '2013', '2014', '2014', '2006', '2008', '2002', '2014', '2019', '2015', '2008', '2011', '2020', '2021', '2009', '2018', '2017', '2001', '2020', '2021', '2016', '1993', '2008', '2007', '2021', '2016', '1983', '2017', '1989', '1985', '1991', '2003', '2018', '2005', '1988', '1994', '2021', '2016', '2020', '2021', '2000', '2020', '1981', '2007', '2019', '2021', '2018', '1998', '1997', '2000', '2007', '2000', '2019', '2006', '2008', '2005', '2020', '2006', '1999', '2019', '2021', '2021', '1995', '2003', '2017', '2006', '2016', '2002', '2019', '2011', '2010', '2013', '2013', '2018', '2001', '2017', '2014', '2009', '2002', '2003', '2021', '2017', '2020', '2017', '2020', '2007', '2009', '2006', '2014', '2004', '2020', '2014', '2019', '1998', '1998', '2009', '2005', '1995', '2018', '1999', '2014', '1985', '2012', 'NA', '1993', '1989', '2010', '2021', '2011', '1993', '2020', '2010', '2021', '1972', '2007', '2006', '2006', '2006', '2003', '2021', '2011', '2000', '2017', '2004', '2018', '1999', '1989', '1994', '2020', '2005', '1996', '2015', '2014', '2016', '1999', '1991', '2010', '2009', '2007', '1993', '2021', '2012', '2016', '1997', '1988', '2010', '2002', '1983', '2011', '1998', '2017', '2017', '2007', '2021', '2011', '2021', '2010', '2003', '1994', '2011', '2016', '1988', '2007', '2003', '2010', '1992', '1972', '2004', '1997', '2003', '1983', '2006', '2018', '2009', '2000', 'NA', '2001', '1998', '2009', '2021', '1998', '2021', '2003', '2000', '1989', '2019', '2012', '1999', '2017', '1989', '2011', '2012', '2011', '1990', '1997', '2013', '1989', '2003', '2016', '2013', '2019', '2018', '1988', '2001', '2021', '2013', '1996', '2010', '2021', '2020', '1992', '2004', '1963', '2020', '2017', '1997', '2011', '2017', '1990', '1988', '1989', '2017', '2021', 'NA', '2013', '1998', '1999', '1992', '1985', '2019', '2007', 'NA', '2012', '2010', '2000', '1992', '1996', '2005', '2020', '1978', '2017', '2020', '2017', '2016', '2017', '2018', '2019', '2010', '2019', '2019', '2017', '2015', '2005', '2011', '1991', '2005', '2003', '2001', '2013', '2020', '2009', '1998', '2013', '2005', 'NA', '2019', '1977', '1997', '1981', '2004', '1993', '2006', '2002', '2009', '1993', '2020', '2007', '1992', '2016', '2014', '2021', '2020', '2011', '2020', '2011', '2013', '1988', '2017', '2017', '2021', '2000', '2018', '2008', '2017', '2021', '2002', '2016', '2006', '2006', '2011', '2021', '2020', '2017', '1995', '1996', '1998', '2006', '2018', '1988', '1998', '2010', '2013', '2020', '1993', '2014', '2021', '2017', '2020', '2001', '2012', '2019', '2011', '2008', 'NA', '1997', '2000', '2004', '2011', '1997', 'NA', '2013', '2018', '2002', '2009', '2012', '1992', '2020', '2004', '2021', '2006', '2012', '2010', '2003', '2011', '2011', '2016', '2013', '2014', '2012', '2003', '2015', '2017', '2017', '2013', '2009', '2010', '2019', '2006', 'NA', '2010', '2006', '2017', '1997', '2008', 'NA', '2017', '2016', 'NA', '2003', '2007', '2009', '2005', '2009', '1998', '2010', '1996', '1987', '2013', '2008', '2011', '2019', '2002', '2006', '2005', '2001', '2021', '2014', '2019', '2020', '2011', '1993', '2018', '2015', '1990', '2021', '2000', '1993', '2001', '2008', '2016', '2018', '2012', '2016', '2009', '2015', '1987', '2015', 'NA', '2007', '2013', '2019', '2007', '2007', '2006', '2013', '2019', '2008', '2018', '2020', 'NA', '2008', '2005', '2004', '2010', '2010', '2020', '2004', '2019', '1989', '2020', '2016', '2018', 'NA', '2007', '2007', '1989', '2004', '2015', '2020', '1999', '1984', '2021', '1991', '2013', '2012', '2021', '2014', '2019', '1995', '2019', '1996', '2000', '2015', '1999', '1993', '2021', '2013', '2005', '1995', '2015', '2011', '2002', '1996', '2017', '2006', '2007', '2021', '2003', '2015', '2013', '2018', '2020', '2021', '2011', '2012', 'NA', '2005', '2018', '2013', '1999', '2007', '2014', '2016', '2019', '2013', '2010', '1989', '2003', '2020', '1988', '2010', '2019', '2018', '2017', '2012', '2010', '2015', '1993', '2017', '2020', '2012', '1998', '2010', '2002', '2019', '2013', '2013', '2021', '2014', '2013', '2004', '2007', '2001', '2020', '2021', '2015', '2011', '2019', '2014', '2018', '2020', '2014', '2014', '2009', '1985', '2015', 'NA', '1990', '1998', '1992', '2008', '2002', '2021', '2000', '1998', '2002', '2020', '2005', '2018', '2021', '2021', '2010', '2015', '2014', '1993', '2013', '2005', '2017', '1997', '2002', '2009', '2018', '1989', '1988', '1999', '2018', '2021']\n"
     ]
    }
   ],
   "source": [
    "# There are cases of reading the \"price\" and some publish info are complete with monts and dates, some are not. We only want \"year\" \n",
    "# Declaring a new list\n",
    "dates_list= []\n",
    "for a in date_list:\n",
    "    if len(a) == 4:\n",
    "        dates_list.append(a)\n",
    "    elif len(a)>4:\n",
    "        dates_list.append(a[0:4])\n",
    "    else:\n",
    "        dates_list.append('NA')\n",
    "print(dates_list)"
   ]
  },
  {
   "cell_type": "code",
   "execution_count": 355,
   "id": "6e51cf89-9c84-45a8-a728-65b9690b5b4f",
   "metadata": {},
   "outputs": [
    {
     "name": "stdout",
     "output_type": "stream",
     "text": [
      "778\n",
      "778\n",
      "778\n",
      "778\n",
      "778\n",
      "778\n"
     ]
    }
   ],
   "source": [
    "# To test if length of each list is the same\n",
    "print(len(book_list))\n",
    "print(len(dates_list))\n",
    "print(len(author_list))\n",
    "print(len(ratings_list))\n",
    "print(len(ppl_list))\n",
    "print(len(url_list))"
   ]
  },
  {
   "cell_type": "code",
   "execution_count": 287,
   "id": "81f3904d-051a-4521-825d-4e5ae53f03ac",
   "metadata": {},
   "outputs": [],
   "source": [
    "# create a dictionary to include all the info we need\n",
    "books = {\n",
    "    'titles': book_list,\n",
    "    'authors': author_list,\n",
    "    'year': dates_list,\n",
    "    'rating': ratings_list,\n",
    "    'popularity': ppl_list, \n",
    "    'url':url_list,\n",
    "}"
   ]
  },
  {
   "cell_type": "code",
   "execution_count": 288,
   "id": "c845eb55-60d9-4718-b6a5-37660b992648",
   "metadata": {},
   "outputs": [],
   "source": [
    "#Create a dataframe to include all the info we need\n",
    "import pandas as pd \n",
    "import numpy as np\n",
    "Books = pd.DataFrame.from_dict(books)\n",
    "Books.to_csv('/Users/liaochen/Downloads:books.csv')"
   ]
  },
  {
   "cell_type": "code",
   "execution_count": 289,
   "id": "bd50ba55-26e2-4621-b665-572e7ce2d25d",
   "metadata": {
    "tags": []
   },
   "outputs": [
    {
     "data": {
      "text/html": [
       "<div>\n",
       "<style scoped>\n",
       "    .dataframe tbody tr th:only-of-type {\n",
       "        vertical-align: middle;\n",
       "    }\n",
       "\n",
       "    .dataframe tbody tr th {\n",
       "        vertical-align: top;\n",
       "    }\n",
       "\n",
       "    .dataframe thead th {\n",
       "        text-align: right;\n",
       "    }\n",
       "</style>\n",
       "<table border=\"1\" class=\"dataframe\">\n",
       "  <thead>\n",
       "    <tr style=\"text-align: right;\">\n",
       "      <th></th>\n",
       "      <th>titles</th>\n",
       "      <th>authors</th>\n",
       "      <th>year</th>\n",
       "      <th>rating</th>\n",
       "      <th>popularity</th>\n",
       "      <th>url</th>\n",
       "    </tr>\n",
       "  </thead>\n",
       "  <tbody>\n",
       "    <tr>\n",
       "      <th>0</th>\n",
       "      <td>厌女:日本的女性嫌恶</td>\n",
       "      <td>(日) 上野千鹤子</td>\n",
       "      <td>2015</td>\n",
       "      <td>9.0</td>\n",
       "      <td>(23009人评价)</td>\n",
       "      <td>https://book.douban.com/subject/25836270/</td>\n",
       "    </tr>\n",
       "    <tr>\n",
       "      <th>1</th>\n",
       "      <td>从零开始的女性主义</td>\n",
       "      <td>[日] 上野千鹤子、[日] 田房永子</td>\n",
       "      <td>2021</td>\n",
       "      <td>9.0</td>\n",
       "      <td>(905人评价)</td>\n",
       "      <td>https://book.douban.com/subject/35523099/</td>\n",
       "    </tr>\n",
       "    <tr>\n",
       "      <th>2</th>\n",
       "      <td>父权制与资本主义</td>\n",
       "      <td>[日] 上野千鹤子</td>\n",
       "      <td>2020</td>\n",
       "      <td>9.1</td>\n",
       "      <td>(5788人评价)</td>\n",
       "      <td>https://book.douban.com/subject/34896921/</td>\n",
       "    </tr>\n",
       "    <tr>\n",
       "      <th>3</th>\n",
       "      <td>女性主义有什么用？</td>\n",
       "      <td>[英]塔比·杰克逊·吉、[英]弗雷亚·罗斯</td>\n",
       "      <td>2021</td>\n",
       "      <td>8.3</td>\n",
       "      <td>(660人评价)</td>\n",
       "      <td>https://book.douban.com/subject/35518116/</td>\n",
       "    </tr>\n",
       "    <tr>\n",
       "      <th>4</th>\n",
       "      <td>第二性</td>\n",
       "      <td>[法] 西蒙﹒波伏娃(Simone de Beauvoir)</td>\n",
       "      <td>2009</td>\n",
       "      <td>8.7</td>\n",
       "      <td>(6425人评价)</td>\n",
       "      <td>https://book.douban.com/subject/1159967/</td>\n",
       "    </tr>\n",
       "    <tr>\n",
       "      <th>...</th>\n",
       "      <td>...</td>\n",
       "      <td>...</td>\n",
       "      <td>...</td>\n",
       "      <td>...</td>\n",
       "      <td>...</td>\n",
       "      <td>...</td>\n",
       "    </tr>\n",
       "    <tr>\n",
       "      <th>773</th>\n",
       "      <td>妇女与世界宗教</td>\n",
       "      <td>D.L.卡莫迪</td>\n",
       "      <td>1989</td>\n",
       "      <td>7.0</td>\n",
       "      <td>(16人评价)</td>\n",
       "      <td>https://book.douban.com/subject/2146287/</td>\n",
       "    </tr>\n",
       "    <tr>\n",
       "      <th>774</th>\n",
       "      <td>Intercourse</td>\n",
       "      <td>Andrea Dworkin</td>\n",
       "      <td>1988</td>\n",
       "      <td>NA</td>\n",
       "      <td>(少于10人评价)</td>\n",
       "      <td>https://book.douban.com/subject/4948307/</td>\n",
       "    </tr>\n",
       "    <tr>\n",
       "      <th>775</th>\n",
       "      <td>存在与荒谬:中国地下“性产业”考察</td>\n",
       "      <td>潘绥铭</td>\n",
       "      <td>1999</td>\n",
       "      <td>8.4</td>\n",
       "      <td>(683人评价)</td>\n",
       "      <td>https://book.douban.com/subject/1058804/</td>\n",
       "    </tr>\n",
       "    <tr>\n",
       "      <th>776</th>\n",
       "      <td>BetrayingBigBrother:TheFeministAwakeninginChina</td>\n",
       "      <td>Leta Hong Fincher</td>\n",
       "      <td>2018</td>\n",
       "      <td>6.6</td>\n",
       "      <td>(52人评价)</td>\n",
       "      <td>https://book.douban.com/subject/30148604/</td>\n",
       "    </tr>\n",
       "    <tr>\n",
       "      <th>777</th>\n",
       "      <td>年轻的手与被缚的足:追溯中国乡村缠足现象的消失</td>\n",
       "      <td>[加]劳拉·宝森、[美]葛希芝</td>\n",
       "      <td>2021</td>\n",
       "      <td>8.6</td>\n",
       "      <td>(19人评价)</td>\n",
       "      <td>https://book.douban.com/subject/35450877/</td>\n",
       "    </tr>\n",
       "  </tbody>\n",
       "</table>\n",
       "<p>778 rows × 6 columns</p>\n",
       "</div>"
      ],
      "text/plain": [
       "                                              titles  \\\n",
       "0                                         厌女:日本的女性嫌恶   \n",
       "1                                          从零开始的女性主义   \n",
       "2                                           父权制与资本主义   \n",
       "3                                          女性主义有什么用？   \n",
       "4                                                第二性   \n",
       "..                                               ...   \n",
       "773                                          妇女与世界宗教   \n",
       "774                                      Intercourse   \n",
       "775                                存在与荒谬:中国地下“性产业”考察   \n",
       "776  BetrayingBigBrother:TheFeministAwakeninginChina   \n",
       "777                          年轻的手与被缚的足:追溯中国乡村缠足现象的消失   \n",
       "\n",
       "                            authors  year rating  popularity  \\\n",
       "0                         (日) 上野千鹤子  2015    9.0  (23009人评价)   \n",
       "1                [日] 上野千鹤子、[日] 田房永子  2021    9.0    (905人评价)   \n",
       "2                         [日] 上野千鹤子  2020    9.1   (5788人评价)   \n",
       "3             [英]塔比·杰克逊·吉、[英]弗雷亚·罗斯  2021    8.3    (660人评价)   \n",
       "4    [法] 西蒙﹒波伏娃(Simone de Beauvoir)  2009    8.7   (6425人评价)   \n",
       "..                              ...   ...    ...         ...   \n",
       "773                         D.L.卡莫迪  1989    7.0     (16人评价)   \n",
       "774                  Andrea Dworkin  1988     NA   (少于10人评价)   \n",
       "775                             潘绥铭  1999    8.4    (683人评价)   \n",
       "776               Leta Hong Fincher  2018    6.6     (52人评价)   \n",
       "777                 [加]劳拉·宝森、[美]葛希芝  2021    8.6     (19人评价)   \n",
       "\n",
       "                                           url  \n",
       "0    https://book.douban.com/subject/25836270/  \n",
       "1    https://book.douban.com/subject/35523099/  \n",
       "2    https://book.douban.com/subject/34896921/  \n",
       "3    https://book.douban.com/subject/35518116/  \n",
       "4     https://book.douban.com/subject/1159967/  \n",
       "..                                         ...  \n",
       "773   https://book.douban.com/subject/2146287/  \n",
       "774   https://book.douban.com/subject/4948307/  \n",
       "775   https://book.douban.com/subject/1058804/  \n",
       "776  https://book.douban.com/subject/30148604/  \n",
       "777  https://book.douban.com/subject/35450877/  \n",
       "\n",
       "[778 rows x 6 columns]"
      ]
     },
     "execution_count": 289,
     "metadata": {},
     "output_type": "execute_result"
    }
   ],
   "source": [
    "Books"
   ]
  },
  {
   "cell_type": "code",
   "execution_count": 344,
   "id": "9c0e506a-f62b-4720-959c-a8b553af28f4",
   "metadata": {
    "collapsed": true,
    "jupyter": {
     "outputs_hidden": true
    },
    "tags": []
   },
   "outputs": [
    {
     "name": "stdout",
     "output_type": "stream",
     "text": [
      "2015 16\n",
      "2021 56\n",
      "2020 44\n",
      "2009 24\n",
      "2018 33\n",
      "2019 36\n",
      "2014 25\n",
      "2008 18\n",
      "2011 23\n",
      "2013 21\n",
      "2007 24\n",
      "2016 23\n",
      "2002 12\n",
      "2005 21\n",
      "1996 5\n",
      "2017 37\n",
      "2000 7\n",
      "2004 22\n",
      "2006 22\n",
      "2012 16\n",
      "2010 22\n",
      "1995 6\n",
      "1997 4\n",
      "1999 9\n",
      "1998 8\n",
      "1987 2\n",
      "2003 15\n",
      "1992 5\n",
      "2001 6\n",
      "1990 2\n",
      "1993 6\n",
      "1989 8\n",
      "1985 2\n",
      "1991 1\n",
      "1994 2\n",
      "1981 1\n",
      "1972 2\n",
      "1983 1\n",
      "1963 1\n",
      "1988 2\n"
     ]
    }
   ],
   "source": [
    "#To calculate the number of books in each year\n",
    "#Create a new dictionary\n",
    "store_by_years = {}\n",
    "\n",
    "for index, row in Books.iterrows():\n",
    "    cur_year = row['year']  \n",
    "    if cur_year == 'NA':     #Filter out all items named 'NA'\n",
    "        continue\n",
    "    else:\n",
    "        cur_year = int(cur_year)\n",
    "    if cur_year not in store_by_years:\n",
    "        store_by_years[cur_year] = []  #Add the list cur_year to the dictionary\n",
    "    store_by_years[cur_year].append(row['titles']) #Add the book titles to the dictionary\n",
    "\n",
    "\n",
    "# Declaring two lists to indicate year and book count\n",
    "year = []\n",
    "count = []\n",
    "# From the newly created dictionary store_by_list, get how many books published each year (that is, the length of the value)\n",
    "for s,v in store_by_years.items():\n",
    "    print(s,len(v))\n",
    "    year.append(int(s))        \n",
    "    count.append(int(len(v)))  "
   ]
  },
  {
   "cell_type": "code",
   "execution_count": 357,
   "id": "bfb27902-a816-4669-9f8f-be22af18625d",
   "metadata": {
    "tags": []
   },
   "outputs": [],
   "source": [
    "# create a new dictionary\n",
    "YearCount = {\n",
    "    'Year':year,\n",
    "    'Count':count,    \n",
    "}"
   ]
  },
  {
   "cell_type": "code",
   "execution_count": 358,
   "id": "0545bb04-af69-4dc5-abb7-2c3698144166",
   "metadata": {},
   "outputs": [
    {
     "data": {
      "text/plain": [
       "<AxesSubplot:title={'center':'Number of Published Books across Year in China'}, xlabel='Year'>"
      ]
     },
     "execution_count": 358,
     "metadata": {},
     "output_type": "execute_result"
    },
    {
     "data": {
      "image/png": "[encoded data removed]",
      "text/plain": [
       "<Figure size 432x288 with 1 Axes>"
      ]
     },
     "metadata": {
      "needs_background": "light"
     },
     "output_type": "display_data"
    }
   ],
   "source": [
    "#Get the trend chart of the quantity change\n",
    "#First time before 1960, the second time 1960-1980, the third time 1980-2012, the fourth time 2012 to present\n",
    "Year_Count.plot(kind='line',\n",
    "                     x='Year',\n",
    "                     y='Count',\n",
    "                     title='Number of Published Books across Year in China',\n",
    "                     legend=False)"
   ]
  },
  {
   "cell_type": "code",
   "execution_count": 359,
   "id": "572c6320-864b-4758-bc4f-2cfc8af39e29",
   "metadata": {},
   "outputs": [
    {
     "data": {
      "text/plain": [
       "<AxesSubplot:title={'center':'Number of Published Books across Year in China'}, xlabel='Year'>"
      ]
     },
     "execution_count": 359,
     "metadata": {},
     "output_type": "execute_result"
    },
    {
     "data": {
      "image/png": "[encoded data removed]",
      "text/plain": [
       "<Figure size 432x288 with 1 Axes>"
      ]
     },
     "metadata": {
      "needs_background": "light"
     },
     "output_type": "display_data"
    }
   ],
   "source": [
    "#Get the trend chart of the quantity change\n",
    "#First time before 1960, the second time 1960-1980, the third time 1980-2012, the fourth time 2012 to present\n",
    "Year_Count.sort_values('Year').plot(kind='line',\n",
    "                     x='Year',\n",
    "                     y='Count',\n",
    "                     title='Number of Published Books across Year in China',\n",
    "                     legend=False)"
   ]
  },
  {
   "cell_type": "code",
   "execution_count": 353,
   "id": "0c3463de-a4e6-4f4a-9688-f0d814615f59",
   "metadata": {
    "collapsed": true,
    "jupyter": {
     "outputs_hidden": true
    },
    "tags": []
   },
   "outputs": [
    {
     "data": {
      "text/html": [
       "<div>\n",
       "<style scoped>\n",
       "    .dataframe tbody tr th:only-of-type {\n",
       "        vertical-align: middle;\n",
       "    }\n",
       "\n",
       "    .dataframe tbody tr th {\n",
       "        vertical-align: top;\n",
       "    }\n",
       "\n",
       "    .dataframe thead th {\n",
       "        text-align: right;\n",
       "    }\n",
       "</style>\n",
       "<table border=\"1\" class=\"dataframe\">\n",
       "  <thead>\n",
       "    <tr style=\"text-align: right;\">\n",
       "      <th></th>\n",
       "      <th>titles</th>\n",
       "      <th>authors</th>\n",
       "      <th>year</th>\n",
       "      <th>rating</th>\n",
       "      <th>popularity</th>\n",
       "      <th>url</th>\n",
       "    </tr>\n",
       "  </thead>\n",
       "  <tbody>\n",
       "    <tr>\n",
       "      <th>719</th>\n",
       "      <td>CalibanAndTheWitch:Women,theBodyandPrimitiveAc...</td>\n",
       "      <td>Silvia Federici</td>\n",
       "      <td>2017</td>\n",
       "      <td>9.9</td>\n",
       "      <td>(66人评价)</td>\n",
       "      <td>https://book.douban.com/subject/2897697/</td>\n",
       "    </tr>\n",
       "    <tr>\n",
       "      <th>204</th>\n",
       "      <td>第二性:第二性第一卷/第二卷上/第二卷下</td>\n",
       "      <td>西蒙.德.波娃(Simone de Beauvoir)</td>\n",
       "      <td>2013</td>\n",
       "      <td>9.7</td>\n",
       "      <td>(187人评价)</td>\n",
       "      <td>https://book.douban.com/subject/25712807/</td>\n",
       "    </tr>\n",
       "    <tr>\n",
       "      <th>454</th>\n",
       "      <td>她們，和她們的希望故事</td>\n",
       "      <td>Nicholas D. Kristof、Sheryl Wudunn</td>\n",
       "      <td>2010</td>\n",
       "      <td>9.6</td>\n",
       "      <td>(28人评价)</td>\n",
       "      <td>https://book.douban.com/subject/5030413/</td>\n",
       "    </tr>\n",
       "    <tr>\n",
       "      <th>174</th>\n",
       "      <td>TheGenderKnot:UnravelingOurPatriarchalLegacy(3...</td>\n",
       "      <td>Allan Johnson</td>\n",
       "      <td>2014</td>\n",
       "      <td>9.6</td>\n",
       "      <td>(38人评价)</td>\n",
       "      <td>https://book.douban.com/subject/26862152/</td>\n",
       "    </tr>\n",
       "    <tr>\n",
       "      <th>72</th>\n",
       "      <td>情感与制度:魏晋时代的母子关系</td>\n",
       "      <td>郑雅如</td>\n",
       "      <td>2021</td>\n",
       "      <td>9.6</td>\n",
       "      <td>(16人评价)</td>\n",
       "      <td>https://book.douban.com/subject/35626914/</td>\n",
       "    </tr>\n",
       "    <tr>\n",
       "      <th>722</th>\n",
       "      <td>TheHistoryofSexuality:TheWilltoKnowledge</td>\n",
       "      <td>Michel Foucault</td>\n",
       "      <td>1998</td>\n",
       "      <td>9.5</td>\n",
       "      <td>(65人评价)</td>\n",
       "      <td>https://book.douban.com/subject/2080551/</td>\n",
       "    </tr>\n",
       "    <tr>\n",
       "      <th>347</th>\n",
       "      <td>浮出历史地表</td>\n",
       "      <td>孟悦，戴锦华</td>\n",
       "      <td>1989</td>\n",
       "      <td>9.5</td>\n",
       "      <td>(42人评价)</td>\n",
       "      <td>https://book.douban.com/subject/30457709/</td>\n",
       "    </tr>\n",
       "    <tr>\n",
       "      <th>40</th>\n",
       "      <td>女性面對的戰爭:及那些敢於抵抗的勇者</td>\n",
       "      <td>蘇‧勞伊德•羅伯茨（Sue Lloyd-Roberts）</td>\n",
       "      <td>2018</td>\n",
       "      <td>9.5</td>\n",
       "      <td>(134人评价)</td>\n",
       "      <td>https://book.douban.com/subject/27665046/</td>\n",
       "    </tr>\n",
       "    <tr>\n",
       "      <th>334</th>\n",
       "      <td>TheNude:AStudyinIdealForm</td>\n",
       "      <td>Kenneth Clark</td>\n",
       "      <td>1972</td>\n",
       "      <td>9.5</td>\n",
       "      <td>(26人评价)</td>\n",
       "      <td>https://book.douban.com/subject/1459730/</td>\n",
       "    </tr>\n",
       "    <tr>\n",
       "      <th>265</th>\n",
       "      <td>欲望·身份·生命:朱迪斯·巴特勒的主体之旅</td>\n",
       "      <td>何磊</td>\n",
       "      <td>2019</td>\n",
       "      <td>9.5</td>\n",
       "      <td>(34人评价)</td>\n",
       "      <td>https://book.douban.com/subject/30365962/</td>\n",
       "    </tr>\n",
       "  </tbody>\n",
       "</table>\n",
       "</div>"
      ],
      "text/plain": [
       "                                                titles  \\\n",
       "719  CalibanAndTheWitch:Women,theBodyandPrimitiveAc...   \n",
       "204                               第二性:第二性第一卷/第二卷上/第二卷下   \n",
       "454                                        她們，和她們的希望故事   \n",
       "174  TheGenderKnot:UnravelingOurPatriarchalLegacy(3...   \n",
       "72                                     情感与制度:魏晋时代的母子关系   \n",
       "722           TheHistoryofSexuality:TheWilltoKnowledge   \n",
       "347                                             浮出历史地表   \n",
       "40                                  女性面對的戰爭:及那些敢於抵抗的勇者   \n",
       "334                          TheNude:AStudyinIdealForm   \n",
       "265                              欲望·身份·生命:朱迪斯·巴特勒的主体之旅   \n",
       "\n",
       "                               authors  year rating popularity  \\\n",
       "719                    Silvia Federici  2017    9.9    (66人评价)   \n",
       "204        西蒙.德.波娃(Simone de Beauvoir)  2013    9.7   (187人评价)   \n",
       "454  Nicholas D. Kristof、Sheryl Wudunn  2010    9.6    (28人评价)   \n",
       "174                      Allan Johnson  2014    9.6    (38人评价)   \n",
       "72                                 郑雅如  2021    9.6    (16人评价)   \n",
       "722                    Michel Foucault  1998    9.5    (65人评价)   \n",
       "347                             孟悦，戴锦华  1989    9.5    (42人评价)   \n",
       "40        蘇‧勞伊德•羅伯茨（Sue Lloyd-Roberts）  2018    9.5   (134人评价)   \n",
       "334                      Kenneth Clark  1972    9.5    (26人评价)   \n",
       "265                                 何磊  2019    9.5    (34人评价)   \n",
       "\n",
       "                                           url  \n",
       "719   https://book.douban.com/subject/2897697/  \n",
       "204  https://book.douban.com/subject/25712807/  \n",
       "454   https://book.douban.com/subject/5030413/  \n",
       "174  https://book.douban.com/subject/26862152/  \n",
       "72   https://book.douban.com/subject/35626914/  \n",
       "722   https://book.douban.com/subject/2080551/  \n",
       "347  https://book.douban.com/subject/30457709/  \n",
       "40   https://book.douban.com/subject/27665046/  \n",
       "334   https://book.douban.com/subject/1459730/  \n",
       "265  https://book.douban.com/subject/30365962/  "
      ]
     },
     "execution_count": 353,
     "metadata": {},
     "output_type": "execute_result"
    }
   ],
   "source": [
    "#找出前十本评分最高的书\n",
    "\n",
    "#剔除rating中NA的列\n",
    "Books=Books[~Books['rating'].isin(['NA'])] \n",
    "#让“rating”这一列按降序排列,并显示评分最高的10本书\n",
    "Books.sort_values('rating',ascending=False).head(10) "
   ]
  },
  {
   "cell_type": "code",
   "execution_count": 293,
   "id": "68de7c16-e9d1-461f-9360-07f1c08b95f4",
   "metadata": {},
   "outputs": [
    {
     "data": {
      "text/plain": [
       "[(78564, '我的天才女友:那不勒斯四部曲1', 'https://book.douban.com/subject/26878124/'),\n",
       " (71566, '82年生的金智英', 'https://book.douban.com/subject/34434309/'),\n",
       " (70683, '呼兰河传:1947年版本・原版珍藏', 'https://book.douban.com/subject/1060852/'),\n",
       " (62274, '新名字的故事:那不勒斯四部曲2', 'https://book.douban.com/subject/26986954/'),\n",
       " (55785, '面纱', 'https://book.douban.com/subject/10560798/'),\n",
       " (51691, '失踪的孩子:那不勒斯四部曲4', 'https://book.douban.com/subject/30172069/'),\n",
       " (49401, '离开的，留下的:那不勒斯四部曲3', 'https://book.douban.com/subject/27104959/'),\n",
       " (25667, '傲慢与偏见', 'https://book.douban.com/subject/4881639/'),\n",
       " (23009, '厌女:日本的女性嫌恶', 'https://book.douban.com/subject/25836270/'),\n",
       " (22667, '绝叫', 'https://book.douban.com/subject/35031587/')]"
      ]
     },
     "execution_count": 293,
     "metadata": {},
     "output_type": "execute_result"
    }
   ],
   "source": [
    "# Get the top 10 most popular books \n",
    "# Declaring a new list to store data (we need the book titles and urls)\n",
    "most_popul = []\n",
    "for index, row in Books.iterrows():\n",
    "    popul = row['popularity']\n",
    "    if popul == \"少于10人评价\":    # Filter out the most unpopular books \n",
    "        continue\n",
    "    num = int(popul[1:-4])       # Only take numbers in '(23009人评价)'\n",
    "    most_popul.append((num, row['titles'],row['url']))\n",
    "    \n",
    "most_popul.sort(reverse=True)    # Put all the values in order\n",
    "most_popul[:10]                  # Get the first 10"
   ]
  },
  {
   "cell_type": "code",
   "execution_count": 354,
   "id": "5475eefe-dd81-4bbe-9e2f-f89778813881",
   "metadata": {},
   "outputs": [
    {
     "data": {
      "text/plain": [
       "[(9.9,\n",
       "  'CalibanAndTheWitch:Women,theBodyandPrimitiveAccumulation',\n",
       "  'https://book.douban.com/subject/2897697/'),\n",
       " (9.7, '第二性:第二性第一卷/第二卷上/第二卷下', 'https://book.douban.com/subject/25712807/'),\n",
       " (9.6, '情感与制度:魏晋时代的母子关系', 'https://book.douban.com/subject/35626914/'),\n",
       " (9.6, '她們，和她們的希望故事', 'https://book.douban.com/subject/5030413/'),\n",
       " (9.6,\n",
       "  'TheGenderKnot:UnravelingOurPatriarchalLegacy(3rdEdition)',\n",
       "  'https://book.douban.com/subject/26862152/'),\n",
       " (9.5, '浮出历史地表', 'https://book.douban.com/subject/30457709/'),\n",
       " (9.5, '欲望·身份·生命:朱迪斯·巴特勒的主体之旅', 'https://book.douban.com/subject/30365962/'),\n",
       " (9.5, '女性面對的戰爭:及那些敢於抵抗的勇者', 'https://book.douban.com/subject/27665046/'),\n",
       " (9.5, '一间自己的房间', 'https://book.douban.com/subject/30477653/'),\n",
       " (9.5,\n",
       "  'TheNude:AStudyinIdealForm',\n",
       "  'https://book.douban.com/subject/1459730/')]"
      ]
     },
     "execution_count": 354,
     "metadata": {},
     "output_type": "execute_result"
    }
   ],
   "source": [
    "# Get the top 10 highest-rated books\n",
    "# Declaring a new list to store data (we need the book titles, ratings, and urls)\n",
    "highest_rating = []\n",
    "for index, row in Books.iterrows():\n",
    "    popul2 = float(row['rating']) \n",
    "    highest_rating.append((popul2, row['titles'],row['url']))\n",
    "    \n",
    "highest_rating.sort(reverse=True)  # Put all the values in order\n",
    "highest_rating[:10]                # Get the first 10"
   ]
  },
  {
   "cell_type": "code",
   "execution_count": null,
   "id": "70ff8728-354b-434d-a465-e98d582e0acf",
   "metadata": {},
   "outputs": [],
   "source": []
  }
 ],
 "metadata": {
  "kernelspec": {
   "display_name": "Python 3",
   "language": "python",
   "name": "python3"
  },
  "language_info": {
   "codemirror_mode": {
    "name": "ipython",
    "version": 3
   },
   "file_extension": ".py",
   "mimetype": "text/x-python",
   "name": "python",
   "nbconvert_exporter": "python",
   "pygments_lexer": "ipython3",
   "version": "3.8.8"
  }
 },
 "nbformat": 4,
 "nbformat_minor": 5
}
